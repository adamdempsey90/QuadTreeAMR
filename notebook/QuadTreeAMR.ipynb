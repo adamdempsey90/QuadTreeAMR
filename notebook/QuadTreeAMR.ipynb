{
 "cells": [
  {
   "cell_type": "code",
   "execution_count": 1,
   "metadata": {},
   "outputs": [],
   "source": [
    "import numpy as np\n",
    "import itertools\n",
    "import h5py\n",
    "import matplotlib.pyplot as plt\n",
    "%matplotlib inline"
   ]
  },
  {
   "cell_type": "code",
   "execution_count": 130,
   "metadata": {},
   "outputs": [],
   "source": []
  },
  {
   "cell_type": "code",
   "execution_count": 22,
   "metadata": {},
   "outputs": [
    {
     "name": "stdout",
     "output_type": "stream",
     "text": [
      "['0', '00', '01', '02', '03']\n"
     ]
    }
   ],
   "source": [
    "items = []\n",
    "def addGroup(name,obj):\n",
    "    if isinstance(obj,h5py.Group):\n",
    "        items.append(addGroup)\n",
    "with h5py.File('test.h5','r') as f:\n",
    "    f.visititems(func)\n",
    "    \n",
    "print([''.join(x.split('/')) for x in items])\n",
    "#print([''.join(x.split('/')[1:])  for x in items if 'Data' not in x])"
   ]
  },
  {
   "cell_type": "code",
   "execution_count": 104,
   "metadata": {},
   "outputs": [],
   "source": [
    "\n",
    "class Data():\n",
    "    def __init__(self,data=None):\n",
    "        self.copy(data)\n",
    "    \n",
    "    def copy(self,data):\n",
    "        if data is None:\n",
    "            self.data = np.zeros((4,))\n",
    "        else:\n",
    "            self.data = data.data.copy()\n",
    "class Node():\n",
    "    def __init__(self,indx,parent=None,data=None):\n",
    "        self.indx = indx\n",
    "        self.level = len(indx)-1\n",
    "        self.global_index = (0,0,0)\n",
    "        self.parent = parent\n",
    "        if parent is not None:\n",
    "            self.global_index = self.calc_global_index(*parent.global_index)\n",
    "        self.leaf = True\n",
    "        self.child = [None]*4\n",
    "        \n",
    "        self.data = Data(data)\n",
    "    def calc_global_index(self,k,i,j):\n",
    "        \"\"\"\n",
    "        Calculate the global index for the cell given (k,i,j).\n",
    "        (k,i,j) can either be from the level above or the level below\n",
    "        \"\"\"\n",
    "        if k==self.level:\n",
    "            # Same level\n",
    "            return (k,i,j)\n",
    "        elif k < self.level:\n",
    "            # Going from coarser level\n",
    "            inew = 2*i + i//2\n",
    "            jnew = 2*j + j%2\n",
    "            return (k+1,inew,jnew)\n",
    "        else:\n",
    "            # Going from finer level\n",
    "            inew = i // 2\n",
    "            jnew = j // 2\n",
    "            return (k-1,inew,jnew)\n",
    "    def name_from_index(self,k,i,j):\n",
    "        \"\"\"\n",
    "        Calculate the name of the cell corresponding to \n",
    "        global index (k,i,j)\n",
    "        \"\"\"\n",
    "        name = []\n",
    "        icurr = i\n",
    "        jcurr = j\n",
    "        for curr_level in range(k+1)[::-1]:\n",
    "            name.append(str(2*(icurr%2)+jcurr%2))\n",
    "            icurr = icurr // 2\n",
    "            jcurr = jcurr // 2\n",
    "        return ''.join(name[::-1])\n",
    "    def index_from_name(self,name):\n",
    "        \"\"\"\n",
    "        Calculate the index of the cell corresponding to \n",
    "        the given name\n",
    "        \"\"\"\n",
    "        icurr = 0\n",
    "        jcurr = 0\n",
    "        for k,c in enumerate(name):\n",
    "            icurr = 2*icurr + int(c)//2\n",
    "            jcurr = 2*jcurr + int(c)%2\n",
    "        \n",
    "        return (len(name)-1,icurr,jcurr)\n",
    "            \n",
    "            \n",
    "    def split(self):\n",
    "        self.leaf = False\n",
    "        for i in range(4):\n",
    "            name = self.indx + str(i)\n",
    "            self.child[i] = Node(name,self)\n",
    "        return self.child\n",
    "    def find_neighbors(self):\n",
    "        \"\"\"Start with neighbors on same level\"\"\"\n",
    "        myindx = self.global_index\n",
    "        n_name = []\n",
    "        n_name_upper = []\n",
    "        for i in range([-1,0,1]):\n",
    "            for j in range([-1,0,1]):\n",
    "                if ~((i==0)&(j==0)):\n",
    "                    nindx = (myindx[0], myindx[1]+i,myindx[2]+j)\n",
    "                    nindx_upper = (nindx[0]-1,nindx[1]//2,nindx[2]//2)\n",
    "                    n_name.append( self.name_from_index(nindx))\n",
    "                    n_name_upper.append(self.name_from_index( nindx_upper))\n",
    "        return n_name, n_name_upper\n",
    "    def eval_neighbors(self,neighbors,neighbors_upper,cuttof=10.):\n",
    "        res = False\n",
    "        for n,nu in zip(neighbors,neighbors_upper):\n",
    "            node = self.find(nu)\n",
    "            if node.leaf:\n",
    "                res |= (node.compare(self) or node.r_flag)\n",
    "            else:\n",
    "                res |= (node.child[int(n[-1])].compare(self) or node.r_flag)\n",
    "        return res\n",
    "    def check_refinement(self,cuttoff=10.):\n",
    "        neighbors, neighbors_upper = self.find_neighbors()\n",
    "        self.refine = self.eval_neighbors(neighbors,neighbors_upper,cuttoff=cuttoff)\n",
    "        return self.refine\n",
    "    def compare(self,node,cuttoff=10.):\n",
    "        return abs(self.data.data[0] - node.data.data[0]) < cuttoff \n",
    "    def find(self,name):\n",
    "    \"\"\"\n",
    "       Find the next step towards the desired \n",
    "       node with name name.\n",
    "    \"\"\" \n",
    "        len_myself = len(self.indx)\n",
    "        len_name = len(name)\n",
    "        if self.indx == name:\n",
    "            # Found it!\n",
    "            return self\n",
    "        if len_myself < len_name:\n",
    "            if self.indx == name[:len_myself]:\n",
    "                # It's below us in the tree\n",
    "                child = name[:len_myself+1][-1]\n",
    "                return self.down(int(child)).find(name)\n",
    "        # It's not below us, so move up\n",
    "        return self.up().find(name)\n",
    "        \n",
    "    def up(self):\n",
    "        return self.parent\n",
    "    def down(self,i=0):\n",
    "        return self.child[i] \n",
    "    def walk(self):\n",
    "        if self.leaf:\n",
    "            return self\n",
    "        for c in self.child:\n",
    "            return c.walk()\n",
    "    def save(self,f):\n",
    "        f.create_dataset('Data',data=self.data)\n",
    "        if not self.leaf:\n",
    "            for i,c in enumerate(self.child):\n",
    "                grp = f.create_group(str(i))\n",
    "                c.save(grp)\n",
    "        \n",
    "    def __repr__(self):\n",
    "        return self.indx\n",
    "    def __str__(self):\n",
    "        return self.indx"
   ]
  },
  {
   "cell_type": "code",
   "execution_count": 100,
   "metadata": {},
   "outputs": [],
   "source": [
    "root = [Node('0')]\n",
    "root.append(root[0].split())\n",
    "for i in range(7):\n",
    "    root.append(list(itertools.chain.from_iterable([x.split() for x in root[-1]])))\n",
    "    \n"
   ]
  },
  {
   "cell_type": "code",
   "execution_count": 154,
   "metadata": {},
   "outputs": [
    {
     "name": "stdout",
     "output_type": "stream",
     "text": [
      "1: 0 -> 1\n",
      "1: 1 -> 0\n",
      "1: 2 -> 3\n",
      "1: 3 -> 2\n",
      "2: 0 -> 2\n",
      "2: 1 -> 3\n",
      "2: 2 -> 0\n",
      "2: 3 -> 1\n",
      "3: 0 -> 3\n",
      "3: 1 -> 2\n",
      "3: 2 -> 1\n",
      "3: 3 -> 0\n"
     ]
    }
   ],
   "source": [
    "for j in range(1,4):\n",
    "    for i in range(4):\n",
    "        print('{:d}: {:d} -> {:d}'.format(j,i,i^j))"
   ]
  },
  {
   "cell_type": "code",
   "execution_count": 164,
   "metadata": {},
   "outputs": [
    {
     "name": "stdout",
     "output_type": "stream",
     "text": [
      "0 -> 0\n",
      "1 -> 0\n",
      "2 -> 1\n",
      "3 -> 1\n"
     ]
    }
   ],
   "source": [
    "for i in range(4):\n",
    "    print('{:d} -> {:d}'.format(i,i//2))"
   ]
  },
  {
   "cell_type": "code",
   "execution_count": 170,
   "metadata": {},
   "outputs": [
    {
     "name": "stdout",
     "output_type": "stream",
     "text": [
      "(4,16,16) -> (3,8,8)\n",
      "(4,16,17) -> (3,8,9)\n",
      "(4,17,16) -> (3,9,8)\n",
      "(4,17,17) -> (3,9,9)\n"
     ]
    }
   ],
   "source": [
    "for indx in [ (2**4,2**4),(2**4,2**4+1),(2**4+1,2**4),(2**4+1,2**4+1)]:\n",
    "    print('({:d},{:d},{:d}) -> ({:d},{:d},{:d})'.format(4,indx[0],indx[1],3,indx[0]//2 + indx[0]%2,indx[1]//2 + indx[1]%2))"
   ]
  },
  {
   "cell_type": "code",
   "execution_count": 181,
   "metadata": {},
   "outputs": [
    {
     "name": "stdout",
     "output_type": "stream",
     "text": [
      "(16, 16) [0, 0] 0\n",
      "(16, 17) [0, 1] 1\n",
      "(17, 16) [1, 0] 2\n",
      "(17, 17) [1, 1] 3\n"
     ]
    }
   ],
   "source": [
    "for indx in [ (2**4,2**4),(2**4,2**4+1),(2**4+1,2**4),(2**4+1,2**4+1)]:\n",
    "    print(indx,[x%2 for x in indx],2*(indx[0]%2)+indx[1]%2)"
   ]
  },
  {
   "cell_type": "code",
   "execution_count": 186,
   "metadata": {},
   "outputs": [
    {
     "name": "stdout",
     "output_type": "stream",
     "text": [
      "(5, 14, 7)\n",
      "(4, 7, 3)\n",
      "(3, 3, 1)\n",
      "(2, 1, 0)\n",
      "(1, 0, 0)\n",
      "(0, 0, 0)\n",
      "002331\n"
     ]
    }
   ],
   "source": [
    "k,i,j = (5,14,7)\n",
    "name = []\n",
    "icurr = i\n",
    "jcurr = j\n",
    "for curr_level in range(k+1)[::-1]:\n",
    "    print((curr_level,icurr,jcurr))\n",
    "    name.append(str(2*(icurr%2)+jcurr%2))\n",
    "    icurr = icurr // 2\n",
    "    jcurr = jcurr // 2\n",
    "print(''.join(name[::-1]))"
   ]
  },
  {
   "cell_type": "code",
   "execution_count": 195,
   "metadata": {},
   "outputs": [
    {
     "name": "stdout",
     "output_type": "stream",
     "text": [
      "6\n",
      "(0, 0, 0)\n",
      "(1, 0, 0)\n",
      "(2, 1, 0)\n",
      "(3, 3, 1)\n",
      "(4, 7, 3)\n",
      "(5, 14, 7)\n"
     ]
    }
   ],
   "source": [
    "icurr = 0\n",
    "jcurr = 0\n",
    "print(len('002331'))\n",
    "for k,c in enumerate('002331'):\n",
    "    icurr = 2*icurr + int(c)//2\n",
    "    jcurr = 2*jcurr + int(c)%2\n",
    "    print((k,icurr,jcurr))"
   ]
  },
  {
   "cell_type": "code",
   "execution_count": 40,
   "metadata": {},
   "outputs": [
    {
     "data": {
      "text/plain": [
       "[000,\n",
       " 001,\n",
       " 002,\n",
       " 003,\n",
       " 010,\n",
       " 011,\n",
       " 012,\n",
       " 013,\n",
       " 020,\n",
       " 021,\n",
       " 022,\n",
       " 023,\n",
       " 030,\n",
       " 031,\n",
       " 032,\n",
       " 033]"
      ]
     },
     "execution_count": 40,
     "metadata": {},
     "output_type": "execute_result"
    }
   ],
   "source": [
    "list(itertools.chain.from_iterable(l2))"
   ]
  },
  {
   "cell_type": "code",
   "execution_count": 196,
   "metadata": {},
   "outputs": [],
   "source": [
    "n1 = '002331'\n",
    "n0 = '00201'"
   ]
  },
  {
   "cell_type": "code",
   "execution_count": 219,
   "metadata": {},
   "outputs": [
    {
     "data": {
      "text/plain": [
       "['', '31']"
      ]
     },
     "execution_count": 219,
     "metadata": {},
     "output_type": "execute_result"
    }
   ],
   "source": [
    "n1.split('0023')"
   ]
  },
  {
   "cell_type": "code",
   "execution_count": 220,
   "metadata": {},
   "outputs": [
    {
     "data": {
      "text/plain": [
       "[('0', True), ('00', True), ('002', True), ('0020', False), ('00201', False)]"
      ]
     },
     "execution_count": 220,
     "metadata": {},
     "output_type": "execute_result"
    }
   ],
   "source": [
    "[(n0[:i],(n0[:i] in n1)) for i in range(1,len(n0)+1)]"
   ]
  },
  {
   "cell_type": "code",
   "execution_count": 217,
   "metadata": {},
   "outputs": [
    {
     "data": {
      "text/plain": [
       "('0020', '1')"
      ]
     },
     "execution_count": 217,
     "metadata": {},
     "output_type": "execute_result"
    }
   ],
   "source": [
    "n0[:-1],n0[-1]"
   ]
  },
  {
   "cell_type": "code",
   "execution_count": 2,
   "metadata": {},
   "outputs": [
    {
     "name": "stdout",
     "output_type": "stream",
     "text": [
      "0\n",
      "0\n",
      "2\n",
      "3\n"
     ]
    }
   ],
   "source": [
    "for c in '0023':\n",
    "    print(c)"
   ]
  },
  {
   "cell_type": "code",
   "execution_count": 28,
   "metadata": {},
   "outputs": [],
   "source": [
    "file = h5py.File('test.h5','r')"
   ]
  },
  {
   "cell_type": "code",
   "execution_count": 145,
   "metadata": {},
   "outputs": [],
   "source": [
    "def make_node(f,level):\n",
    "    if level > 10:\n",
    "        f.create_dataset('Data',data=np.random.rand(4,))\n",
    "        return\n",
    "    if np.random.rand() < .3:\n",
    "        f.create_dataset('Data',data=np.random.rand(4,))\n",
    "    else:\n",
    "        for i in range(4):\n",
    "            grp = f.create_group(str(i))\n",
    "            make_node(grp,level+1)\n",
    "    return\n",
    "    \n",
    "with h5py.File('test5.h5','w') as f:\n",
    "    root = f.create_group('0')\n",
    "    level = 0\n",
    "    for i in range(4):\n",
    "        grp = root.create_group(str(i))\n",
    "        make_node(grp,level+1)\n",
    "        \n",
    "       \n",
    "\n",
    "            "
   ]
  },
  {
   "cell_type": "code",
   "execution_count": 361,
   "metadata": {},
   "outputs": [],
   "source": [
    "def open_group(grp,indx,func_node,func_leaf):\n",
    "    for i in range(4):\n",
    "        try:\n",
    "            newgrp = grp[str(i)]\n",
    "            func_node(indx+str(i))\n",
    "            open_group(newgrp,indx+str(i),func_node,func_leaf)\n",
    "        except KeyError:\n",
    "            func_leaf(indx)\n",
    "            return \n",
    "def walk_h5(file):\n",
    "    nodes = []; leaves = [];\n",
    "    func1 = lambda x: nodes.append(x)\n",
    "    func2 = lambda x: leaves.append(x)\n",
    "    with h5py.File(file,'r') as f:\n",
    "        grp = f['0']\n",
    "        nodes.append('0')\n",
    "        for i in range(4):\n",
    "            nodes.append('0'+str(i))\n",
    "            open_group(grp[str(i)],'0'+str(i),func1,func2)\n",
    "    return nodes,leaves"
   ]
  },
  {
   "cell_type": "code",
   "execution_count": 375,
   "metadata": {},
   "outputs": [],
   "source": [
    "nodes,leaves=walk_h5('test2.h5')"
   ]
  },
  {
   "cell_type": "code",
   "execution_count": 376,
   "metadata": {},
   "outputs": [
    {
     "data": {
      "text/plain": [
       "'0012'"
      ]
     },
     "execution_count": 376,
     "metadata": {},
     "output_type": "execute_result"
    }
   ],
   "source": [
    "leaves[6]"
   ]
  },
  {
   "cell_type": "code",
   "execution_count": 386,
   "metadata": {},
   "outputs": [
    {
     "name": "stdout",
     "output_type": "stream",
     "text": [
      "<HDF5 group \"/0/0/0/1/Data\" (3 members)>\n",
      "<HDF5 group \"/0/0/0/1/Data\" (3 members)>\n",
      "<HDF5 group \"/0/0/0/1/Data\" (3 members)>\n",
      "<HDF5 group \"/0/0/0/1/Data\" (3 members)>\n"
     ]
    }
   ],
   "source": [
    "with h5py.File('test2.h5','r') as f:\n",
    "    grp = f['/'.join(leaves[1])]['Data']\n",
    "    print(grp)\n",
    "    dat=Data(file=grp)\n"
   ]
  },
  {
   "cell_type": "code",
   "execution_count": 396,
   "metadata": {},
   "outputs": [],
   "source": [
    "t2.close()\n",
    "t2 = Tree(fname='test2.h5')"
   ]
  },
  {
   "cell_type": "code",
   "execution_count": 397,
   "metadata": {},
   "outputs": [
    {
     "name": "stdout",
     "output_type": "stream",
     "text": [
      "<HDF5 group \"/0/0/0/0/Data\" (3 members)>\n",
      "<HDF5 group \"/0/0/0/0/Data\" (3 members)>\n",
      "<HDF5 group \"/0/0/0/0/Data\" (3 members)>\n",
      "<HDF5 group \"/0/0/0/1/Data\" (3 members)>\n",
      "<HDF5 group \"/0/0/0/1/Data\" (3 members)>\n",
      "<HDF5 group \"/0/0/0/1/Data\" (3 members)>\n",
      "<HDF5 group \"/0/0/0/2/Data\" (3 members)>\n",
      "<HDF5 group \"/0/0/0/2/Data\" (3 members)>\n",
      "<HDF5 group \"/0/0/0/2/Data\" (3 members)>\n",
      "<HDF5 group \"/0/0/0/3/Data\" (3 members)>\n",
      "<HDF5 group \"/0/0/0/3/Data\" (3 members)>\n",
      "<HDF5 group \"/0/0/0/3/Data\" (3 members)>\n",
      "<HDF5 group \"/0/0/1/0/Data\" (3 members)>\n",
      "<HDF5 group \"/0/0/1/0/Data\" (3 members)>\n",
      "<HDF5 group \"/0/0/1/0/Data\" (3 members)>\n",
      "<HDF5 group \"/0/0/1/1/Data\" (3 members)>\n",
      "<HDF5 group \"/0/0/1/1/Data\" (3 members)>\n",
      "<HDF5 group \"/0/0/1/1/Data\" (3 members)>\n",
      "<HDF5 group \"/0/0/1/2/Data\" (3 members)>\n",
      "<HDF5 group \"/0/0/1/2/Data\" (3 members)>\n",
      "<HDF5 group \"/0/0/1/2/Data\" (3 members)>\n",
      "<HDF5 group \"/0/0/1/3/Data\" (3 members)>\n",
      "<HDF5 group \"/0/0/1/3/Data\" (3 members)>\n",
      "<HDF5 group \"/0/0/1/3/Data\" (3 members)>\n",
      "<HDF5 group \"/0/0/2/0/Data\" (3 members)>\n",
      "<HDF5 group \"/0/0/2/0/Data\" (3 members)>\n",
      "<HDF5 group \"/0/0/2/0/Data\" (3 members)>\n",
      "<HDF5 group \"/0/0/2/1/Data\" (3 members)>\n",
      "<HDF5 group \"/0/0/2/1/Data\" (3 members)>\n",
      "<HDF5 group \"/0/0/2/1/Data\" (3 members)>\n",
      "<HDF5 group \"/0/0/2/2/Data\" (3 members)>\n",
      "<HDF5 group \"/0/0/2/2/Data\" (3 members)>\n",
      "<HDF5 group \"/0/0/2/2/Data\" (3 members)>\n",
      "<HDF5 group \"/0/0/2/3/Data\" (3 members)>\n",
      "<HDF5 group \"/0/0/2/3/Data\" (3 members)>\n",
      "<HDF5 group \"/0/0/2/3/Data\" (3 members)>\n",
      "<HDF5 group \"/0/0/3/0/Data\" (3 members)>\n",
      "<HDF5 group \"/0/0/3/0/Data\" (3 members)>\n",
      "<HDF5 group \"/0/0/3/0/Data\" (3 members)>\n",
      "<HDF5 group \"/0/0/3/1/Data\" (3 members)>\n",
      "<HDF5 group \"/0/0/3/1/Data\" (3 members)>\n",
      "<HDF5 group \"/0/0/3/1/Data\" (3 members)>\n",
      "<HDF5 group \"/0/0/3/2/Data\" (3 members)>\n",
      "<HDF5 group \"/0/0/3/2/Data\" (3 members)>\n",
      "<HDF5 group \"/0/0/3/2/Data\" (3 members)>\n",
      "<HDF5 group \"/0/0/3/3/Data\" (3 members)>\n",
      "<HDF5 group \"/0/0/3/3/Data\" (3 members)>\n",
      "<HDF5 group \"/0/0/3/3/Data\" (3 members)>\n",
      "<HDF5 group \"/0/1/0/0/Data\" (3 members)>\n",
      "<HDF5 group \"/0/1/0/0/Data\" (3 members)>\n",
      "<HDF5 group \"/0/1/0/0/Data\" (3 members)>\n",
      "<HDF5 group \"/0/1/0/1/Data\" (3 members)>\n",
      "<HDF5 group \"/0/1/0/1/Data\" (3 members)>\n",
      "<HDF5 group \"/0/1/0/1/Data\" (3 members)>\n",
      "<HDF5 group \"/0/1/0/2/Data\" (3 members)>\n",
      "<HDF5 group \"/0/1/0/2/Data\" (3 members)>\n",
      "<HDF5 group \"/0/1/0/2/Data\" (3 members)>\n",
      "<HDF5 group \"/0/1/0/3/Data\" (3 members)>\n",
      "<HDF5 group \"/0/1/0/3/Data\" (3 members)>\n",
      "<HDF5 group \"/0/1/0/3/Data\" (3 members)>\n",
      "<HDF5 group \"/0/1/1/0/Data\" (3 members)>\n",
      "<HDF5 group \"/0/1/1/0/Data\" (3 members)>\n",
      "<HDF5 group \"/0/1/1/0/Data\" (3 members)>\n",
      "<HDF5 group \"/0/1/1/1/Data\" (3 members)>\n",
      "<HDF5 group \"/0/1/1/1/Data\" (3 members)>\n",
      "<HDF5 group \"/0/1/1/1/Data\" (3 members)>\n",
      "<HDF5 group \"/0/1/1/2/Data\" (3 members)>\n",
      "<HDF5 group \"/0/1/1/2/Data\" (3 members)>\n",
      "<HDF5 group \"/0/1/1/2/Data\" (3 members)>\n",
      "<HDF5 group \"/0/1/1/3/Data\" (3 members)>\n",
      "<HDF5 group \"/0/1/1/3/Data\" (3 members)>\n",
      "<HDF5 group \"/0/1/1/3/Data\" (3 members)>\n",
      "<HDF5 group \"/0/1/2/0/Data\" (3 members)>\n",
      "<HDF5 group \"/0/1/2/0/Data\" (3 members)>\n",
      "<HDF5 group \"/0/1/2/0/Data\" (3 members)>\n",
      "<HDF5 group \"/0/1/2/1/Data\" (3 members)>\n",
      "<HDF5 group \"/0/1/2/1/Data\" (3 members)>\n",
      "<HDF5 group \"/0/1/2/1/Data\" (3 members)>\n",
      "<HDF5 group \"/0/1/2/2/Data\" (3 members)>\n",
      "<HDF5 group \"/0/1/2/2/Data\" (3 members)>\n",
      "<HDF5 group \"/0/1/2/2/Data\" (3 members)>\n",
      "<HDF5 group \"/0/1/2/3/Data\" (3 members)>\n",
      "<HDF5 group \"/0/1/2/3/Data\" (3 members)>\n",
      "<HDF5 group \"/0/1/2/3/Data\" (3 members)>\n",
      "<HDF5 group \"/0/1/3/0/Data\" (3 members)>\n",
      "<HDF5 group \"/0/1/3/0/Data\" (3 members)>\n",
      "<HDF5 group \"/0/1/3/0/Data\" (3 members)>\n",
      "<HDF5 group \"/0/1/3/1/Data\" (3 members)>\n",
      "<HDF5 group \"/0/1/3/1/Data\" (3 members)>\n",
      "<HDF5 group \"/0/1/3/1/Data\" (3 members)>\n",
      "<HDF5 group \"/0/1/3/2/Data\" (3 members)>\n",
      "<HDF5 group \"/0/1/3/2/Data\" (3 members)>\n",
      "<HDF5 group \"/0/1/3/2/Data\" (3 members)>\n",
      "<HDF5 group \"/0/1/3/3/Data\" (3 members)>\n",
      "<HDF5 group \"/0/1/3/3/Data\" (3 members)>\n",
      "<HDF5 group \"/0/1/3/3/Data\" (3 members)>\n",
      "<HDF5 group \"/0/2/0/0/Data\" (3 members)>\n",
      "<HDF5 group \"/0/2/0/0/Data\" (3 members)>\n",
      "<HDF5 group \"/0/2/0/0/Data\" (3 members)>\n",
      "<HDF5 group \"/0/2/0/1/Data\" (3 members)>\n",
      "<HDF5 group \"/0/2/0/1/Data\" (3 members)>\n",
      "<HDF5 group \"/0/2/0/1/Data\" (3 members)>\n",
      "<HDF5 group \"/0/2/0/2/Data\" (3 members)>\n",
      "<HDF5 group \"/0/2/0/2/Data\" (3 members)>\n",
      "<HDF5 group \"/0/2/0/2/Data\" (3 members)>\n",
      "<HDF5 group \"/0/2/0/3/Data\" (3 members)>\n",
      "<HDF5 group \"/0/2/0/3/Data\" (3 members)>\n",
      "<HDF5 group \"/0/2/0/3/Data\" (3 members)>\n",
      "<HDF5 group \"/0/2/1/0/Data\" (3 members)>\n",
      "<HDF5 group \"/0/2/1/0/Data\" (3 members)>\n",
      "<HDF5 group \"/0/2/1/0/Data\" (3 members)>\n",
      "<HDF5 group \"/0/2/1/1/Data\" (3 members)>\n",
      "<HDF5 group \"/0/2/1/1/Data\" (3 members)>\n",
      "<HDF5 group \"/0/2/1/1/Data\" (3 members)>\n",
      "<HDF5 group \"/0/2/1/2/Data\" (3 members)>\n",
      "<HDF5 group \"/0/2/1/2/Data\" (3 members)>\n",
      "<HDF5 group \"/0/2/1/2/Data\" (3 members)>\n",
      "<HDF5 group \"/0/2/1/3/Data\" (3 members)>\n",
      "<HDF5 group \"/0/2/1/3/Data\" (3 members)>\n",
      "<HDF5 group \"/0/2/1/3/Data\" (3 members)>\n",
      "<HDF5 group \"/0/2/2/0/Data\" (3 members)>\n",
      "<HDF5 group \"/0/2/2/0/Data\" (3 members)>\n",
      "<HDF5 group \"/0/2/2/0/Data\" (3 members)>\n",
      "<HDF5 group \"/0/2/2/1/Data\" (3 members)>\n",
      "<HDF5 group \"/0/2/2/1/Data\" (3 members)>\n",
      "<HDF5 group \"/0/2/2/1/Data\" (3 members)>\n",
      "<HDF5 group \"/0/2/2/2/Data\" (3 members)>\n",
      "<HDF5 group \"/0/2/2/2/Data\" (3 members)>\n",
      "<HDF5 group \"/0/2/2/2/Data\" (3 members)>\n",
      "<HDF5 group \"/0/2/2/3/Data\" (3 members)>\n",
      "<HDF5 group \"/0/2/2/3/Data\" (3 members)>\n",
      "<HDF5 group \"/0/2/2/3/Data\" (3 members)>\n",
      "<HDF5 group \"/0/2/3/0/Data\" (3 members)>\n",
      "<HDF5 group \"/0/2/3/0/Data\" (3 members)>\n",
      "<HDF5 group \"/0/2/3/0/Data\" (3 members)>\n",
      "<HDF5 group \"/0/2/3/1/Data\" (3 members)>\n",
      "<HDF5 group \"/0/2/3/1/Data\" (3 members)>\n",
      "<HDF5 group \"/0/2/3/1/Data\" (3 members)>\n",
      "<HDF5 group \"/0/2/3/2/Data\" (3 members)>\n",
      "<HDF5 group \"/0/2/3/2/Data\" (3 members)>\n",
      "<HDF5 group \"/0/2/3/2/Data\" (3 members)>\n",
      "<HDF5 group \"/0/2/3/3/Data\" (3 members)>\n",
      "<HDF5 group \"/0/2/3/3/Data\" (3 members)>\n",
      "<HDF5 group \"/0/2/3/3/Data\" (3 members)>\n",
      "<HDF5 group \"/0/3/0/0/Data\" (3 members)>\n",
      "<HDF5 group \"/0/3/0/0/Data\" (3 members)>\n",
      "<HDF5 group \"/0/3/0/0/Data\" (3 members)>\n",
      "<HDF5 group \"/0/3/0/1/Data\" (3 members)>\n",
      "<HDF5 group \"/0/3/0/1/Data\" (3 members)>\n",
      "<HDF5 group \"/0/3/0/1/Data\" (3 members)>\n",
      "<HDF5 group \"/0/3/0/2/Data\" (3 members)>\n",
      "<HDF5 group \"/0/3/0/2/Data\" (3 members)>\n",
      "<HDF5 group \"/0/3/0/2/Data\" (3 members)>\n",
      "<HDF5 group \"/0/3/0/3/Data\" (3 members)>\n",
      "<HDF5 group \"/0/3/0/3/Data\" (3 members)>\n",
      "<HDF5 group \"/0/3/0/3/Data\" (3 members)>\n",
      "<HDF5 group \"/0/3/1/0/Data\" (3 members)>\n",
      "<HDF5 group \"/0/3/1/0/Data\" (3 members)>\n",
      "<HDF5 group \"/0/3/1/0/Data\" (3 members)>\n",
      "<HDF5 group \"/0/3/1/1/Data\" (3 members)>\n",
      "<HDF5 group \"/0/3/1/1/Data\" (3 members)>\n",
      "<HDF5 group \"/0/3/1/1/Data\" (3 members)>\n",
      "<HDF5 group \"/0/3/1/2/Data\" (3 members)>\n",
      "<HDF5 group \"/0/3/1/2/Data\" (3 members)>\n",
      "<HDF5 group \"/0/3/1/2/Data\" (3 members)>\n",
      "<HDF5 group \"/0/3/1/3/Data\" (3 members)>\n",
      "<HDF5 group \"/0/3/1/3/Data\" (3 members)>\n",
      "<HDF5 group \"/0/3/1/3/Data\" (3 members)>\n",
      "<HDF5 group \"/0/3/2/0/Data\" (3 members)>\n",
      "<HDF5 group \"/0/3/2/0/Data\" (3 members)>\n",
      "<HDF5 group \"/0/3/2/0/Data\" (3 members)>\n",
      "<HDF5 group \"/0/3/2/1/Data\" (3 members)>\n",
      "<HDF5 group \"/0/3/2/1/Data\" (3 members)>\n",
      "<HDF5 group \"/0/3/2/1/Data\" (3 members)>\n",
      "<HDF5 group \"/0/3/2/2/Data\" (3 members)>\n",
      "<HDF5 group \"/0/3/2/2/Data\" (3 members)>\n",
      "<HDF5 group \"/0/3/2/2/Data\" (3 members)>\n",
      "<HDF5 group \"/0/3/2/3/Data\" (3 members)>\n",
      "<HDF5 group \"/0/3/2/3/Data\" (3 members)>\n",
      "<HDF5 group \"/0/3/2/3/Data\" (3 members)>\n",
      "<HDF5 group \"/0/3/3/0/Data\" (3 members)>\n",
      "<HDF5 group \"/0/3/3/0/Data\" (3 members)>\n",
      "<HDF5 group \"/0/3/3/0/Data\" (3 members)>\n",
      "<HDF5 group \"/0/3/3/1/Data\" (3 members)>\n",
      "<HDF5 group \"/0/3/3/1/Data\" (3 members)>\n",
      "<HDF5 group \"/0/3/3/1/Data\" (3 members)>\n",
      "<HDF5 group \"/0/3/3/2/Data\" (3 members)>\n",
      "<HDF5 group \"/0/3/3/2/Data\" (3 members)>\n",
      "<HDF5 group \"/0/3/3/2/Data\" (3 members)>\n",
      "<HDF5 group \"/0/3/3/3/Data\" (3 members)>\n",
      "<HDF5 group \"/0/3/3/3/Data\" (3 members)>\n",
      "<HDF5 group \"/0/3/3/3/Data\" (3 members)>\n"
     ]
    }
   ],
   "source": [
    "t2.build()"
   ]
  },
  {
   "cell_type": "code",
   "execution_count": 406,
   "metadata": {},
   "outputs": [
    {
     "data": {
      "text/plain": [
       "array(108.12323609997449)"
      ]
     },
     "execution_count": 406,
     "metadata": {},
     "output_type": "execute_result"
    }
   ],
   "source": [
    "t2.find('0101').data.x.astype(float)"
   ]
  },
  {
   "cell_type": "code",
   "execution_count": 407,
   "metadata": {},
   "outputs": [],
   "source": [
    "class Tree():\n",
    "    \"\"\"\n",
    "        The tree holds high level functions for interacting with\n",
    "        the nodes.\n",
    "    \"\"\"\n",
    "    def __init__(self,fname=None):\n",
    "        \"\"\"\n",
    "            Initialize a tree from the hdf5 file fname\n",
    "        \"\"\"\n",
    "        self.file = fname\n",
    "        if fname is None:\n",
    "            return\n",
    "        \n",
    "        try:\n",
    "            self.open(fname)\n",
    "            \n",
    "        except OSError:\n",
    "            print('File not found')\n",
    "            self.file = None\n",
    "    \n",
    "    def build(self,data=None):\n",
    "        \"\"\"\n",
    "            Build the tree from the hdf5 file\n",
    "        \"\"\"\n",
    "        if self.file is None:\n",
    "            self.root = Node('0',data=data)\n",
    "            return\n",
    "        self.root = Node('0')\n",
    "        grp = self.file['0']\n",
    "        self.root.build(grp)\n",
    "            \n",
    "    def open(self,fname):\n",
    "        self.file = h5py.File(fname,'r')\n",
    "    def close(self):\n",
    "        self.file.close()\n",
    "    def empty_leaves(self):\n",
    "        \"\"\"\n",
    "            Build a list of leaves with no data.\n",
    "        \"\"\"\n",
    "        nodes =[]\n",
    "        self.walk(func=lambda x: nodes.append(x.indx) if x.leaf and x.data is None else None)\n",
    "        return nodes\n",
    "    def list_leaves(self):\n",
    "        \"\"\"\n",
    "            Build a list of all leaves.\n",
    "        \"\"\"\n",
    "        nodes = []\n",
    "        self.walk(func=lambda x: nodes.append(x.indx))\n",
    "        return nodes\n",
    "        \n",
    "    def walk(self,**kargs):\n",
    "        \"\"\"\n",
    "            Walk the tree starting from the root.\n",
    "        \"\"\"\n",
    "        return self.root.walk(**kargs)\n",
    "    def refine(self):\n",
    "        leaves = self.list_leaves()\n",
    "        print(leaves)\n",
    "        # Reorder based on level\n",
    "        lvls = np.array([len(x) for x in leaves])\n",
    "        inds = np.argsort(lvls)[::-1]\n",
    "        leaves = list(np.array(leaves)[inds])\n",
    "        print(leaves)\n",
    "        for leaf in leaves:\n",
    "            t.find(leaf).refine()\n",
    "        for leaf in leaves:\n",
    "            node = t.find(leaf)\n",
    "            if node.refine:\n",
    "                node.split()\n",
    "        # Return a list of new, empty leaves\n",
    "        return self.empty_leaves()\n",
    "                \n",
    "    def find(self,name):\n",
    "        \"\"\"\n",
    "            Find node starting from the root\n",
    "        \"\"\"\n",
    "        current_node = self.root\n",
    "        for c in name[1:]:\n",
    "            current_node = current_node.child[int(c)]\n",
    "        return current_node\n",
    "    def plot(self,fig=None,ax=None,vmin=0,vmax=180,cmap='Spectral',**kargs):\n",
    "        import matplotlib.colorbar as cbar\n",
    "        import matplotlib.colors as colors\n",
    "        if ax is None:\n",
    "            fig,ax = plt.subplots()\n",
    "        norm = colors.Normalize(vmin=vmin,vmax=vmax)\n",
    "        self.root.plot(ax,norm=norm,cmap=cmap,**kargs)\n",
    "        cax, _ = cbar.make_axes(ax) \n",
    "        cb2 = cbar.ColorbarBase(cax,cmap=cmap,norm=norm)\n",
    "    def save(self,fname):\n",
    "        \"\"\"\n",
    "            Save the whole tree to an hdf5 file.\n",
    "        \"\"\"\n",
    "        with h5py.File(fname,'w') as f:\n",
    "            self.root.save(f)\n",
    "            \n",
    "class Data():\n",
    "    cols=['x','y','z']\n",
    "    def __init__(self,file=None,data=None):\n",
    "        if data is not None:\n",
    "            for c in self.cols:\n",
    "                setattr(self,c,getattr(data,c))\n",
    "        elif file is None:\n",
    "            for c in self.cols:\n",
    "                setattr(self,c,np.random.rand()*180.)\n",
    "        else:\n",
    "            for c in self.cols:\n",
    "                setattr(self,c,file[c][...])\n",
    "    def copy(self):\n",
    "        return Data(data=self)\n",
    "    def save(self,file):\n",
    "        grp = file.create_group('Data')\n",
    "        for c in self.cols:\n",
    "            grp.create_dataset(c,data=getattr(self,c))\n",
    "    def check_refinement(self,dat):\n",
    "        return abs(self.x-dat.x)>5.\n",
    "\n",
    "    \n",
    "class Node():\n",
    "    \"\"\"\n",
    "        Nodes either point to their children or they have no\n",
    "        children and instead hold some data.\n",
    "    \"\"\"\n",
    "    def __init__(self,indx,file=None,parent=None,data=None):\n",
    "        self.indx = indx\n",
    "        self.name = '/'.join(self.indx)\n",
    "        self.level = len(indx)-1\n",
    "        self.global_index = (0,0,0)\n",
    "        self.parent = parent\n",
    "        if parent is not None:\n",
    "            self.global_index = self.index_from_name(self.indx)\n",
    "        self.leaf = True\n",
    "        self.rflag = False\n",
    "        self.child = [None]*4\n",
    "        self.file = file\n",
    "        self.data = data\n",
    "    def save(self,file):\n",
    "        \"\"\"\n",
    "            Write this node to the hdf5 group/file.\n",
    "        \"\"\"\n",
    "        grp = file.create_group(self.indx[-1])\n",
    "        if self.leaf:\n",
    "            # We are a leaf, so we should dump our data\n",
    "            self.data.save(grp)\n",
    "        else:\n",
    "            # We are not a group, so call the children\n",
    "            for c in self.child:\n",
    "                c.save(grp)\n",
    "        return\n",
    "\n",
    "    def build(self,f):\n",
    "        \"\"\"\n",
    "            Look in the hdf5 group f for child cells\n",
    "        \"\"\"\n",
    "        \n",
    "        \n",
    "        for i in range(4):\n",
    "            try:\n",
    "                grp = f[str(i)]\n",
    "                self.leaf = False\n",
    "                self.child[i] = Node(self.indx+str(i),parent=self,file=grp)\n",
    "                self.child[i].build(grp)\n",
    "            except KeyError:\n",
    "                self.leaf = True\n",
    "                self.datastr = self.name + '/' + str(i) + '/Data'\n",
    "                self.data=Data(file=f['Data'])\n",
    "                return \n",
    "        \n",
    "        return\n",
    "    def split(self):\n",
    "        \"\"\"\n",
    "            Split the node into four children, and pass the data to the \n",
    "            first born.\n",
    "        \"\"\"\n",
    "        self.leaf=False\n",
    "        self.child[0] = Node(self.indx+'0',parent=self,data=self.data.copy())\n",
    "        for i in range(1,4):\n",
    "            self.child[i] = Node(self.indx+str(i),parent=self)\n",
    "        return\n",
    "    def name_from_index(self,k,i,j):\n",
    "        \"\"\"\n",
    "            Calculate the name of the cell corresponding to \n",
    "            global index (k,i,j)\n",
    "        \"\"\"\n",
    "        name = []\n",
    "        icurr = i\n",
    "        jcurr = j\n",
    "        for curr_level in range(k+1)[::-1]:\n",
    "            name.append(str(2*(icurr%2)+jcurr%2))\n",
    "            icurr = icurr // 2\n",
    "            jcurr = jcurr // 2\n",
    "        return ''.join(name[::-1])\n",
    "    def index_from_name(self,name):\n",
    "        \"\"\"\n",
    "            Calculate the index of the cell corresponding to \n",
    "            the given name\n",
    "        \"\"\"\n",
    "        icurr = 0\n",
    "        jcurr = 0\n",
    "        for k,c in enumerate(name):\n",
    "            icurr = 2*icurr + int(c)//2\n",
    "            jcurr = 2*jcurr + int(c)%2\n",
    "        \n",
    "        return (len(name)-1,icurr,jcurr)\n",
    "    def get_xy(self):\n",
    "        \"\"\"\n",
    "            Get the x,y coordinates on the unit square for this\n",
    "            node.\n",
    "        \"\"\"\n",
    "        k,i,j = self.global_index\n",
    "        dx = 1./2**k\n",
    "        return dx*i,dx*j\n",
    "    def set_data(self,data):\n",
    "        self.data = data.copy()\n",
    "    def get_data(self):\n",
    "        \"\"\"\n",
    "            Retrieve the data from the hdf5 file.\n",
    "        \"\"\"\n",
    "        try:\n",
    "            return self.file['Data'][...]\n",
    "        except:\n",
    "            return self.data.x\n",
    "    def plot(self,ax,**kargs):\n",
    "        \"\"\"\n",
    "            The recursive plotting function.\n",
    "            Only draw if this is a leaf.\n",
    "        \"\"\"\n",
    "        if self.leaf:\n",
    "            self.draw(ax,**kargs)\n",
    "            return\n",
    "        for c in self.child:\n",
    "            c.plot(ax,**kargs)\n",
    "    def draw(self,ax,cmap='Spectral',plot_refined=True,**kargs):\n",
    "        \"\"\"\n",
    "            Draw a rectangle for this cell and color by the given \n",
    "            data field. \n",
    "            If needed, indicate the cell is tagged for refinement.\n",
    "        \"\"\"\n",
    "        import matplotlib.cm\n",
    "        import matplotlib.patches as patches\n",
    "        import matplotlib.collections as collections\n",
    "        \n",
    "        norm = kargs.pop('norm',None)\n",
    "        dat = self.get_data()\n",
    "        cmap = matplotlib.cm.get_cmap(cmap)\n",
    "        if norm is not None:\n",
    "            c = cmap(norm(dat))\n",
    "        else:\n",
    "            c = cmap(dat)\n",
    "        \n",
    "        k,i,j=self.global_index\n",
    "        dx = 1./2**k\n",
    "        dy = dx\n",
    "        x = dx *i\n",
    "        y = dy*j\n",
    "        rect = patches.Rectangle((x,y),dx,dy)\n",
    "        ax.add_collection(collections.PatchCollection([rect],facecolor=c))\n",
    "        if plot_refined and self.rflag:\n",
    "            ax.plot(x+dx/2,y+dy/2,'ro',ms=2)\n",
    "    \n",
    "    def find(self,name):\n",
    "        \"\"\"\n",
    "           Find the next step towards the desired \n",
    "           node with name name.\n",
    "        \"\"\" \n",
    "        len_myself = len(self.indx)\n",
    "        len_name = len(name)\n",
    "        if self.indx == name:\n",
    "            # Found it!\n",
    "            return self\n",
    "        if len_myself < len_name:\n",
    "            if self.indx == name[:len_myself]:\n",
    "                # It's below us in the tree\n",
    "                child = name[:len_myself+1][-1]\n",
    "                return self.down(int(child)).find(name)\n",
    "        # It's not below us, so move up\n",
    "        return self.up().find(name)\n",
    "    def refine(self):\n",
    "        \"\"\"\n",
    "            Check neighbors to see if this node should\n",
    "            be refined.\n",
    "        \"\"\"\n",
    "        \n",
    "        # First check if already tagged\n",
    "            \n",
    "        neighbors, upper_neighbors = self.find_neighbors()\n",
    "        if self.rflag:\n",
    "            # Enforce the 2:1 balance.\n",
    "            for nu in upper_neighbors:\n",
    "                neighbor = self.find(nu)\n",
    "                if neighbor.leaf:\n",
    "                    neighbor.rflag = True\n",
    "        \n",
    "        # Even if already tagged, still need to check new neighbors\n",
    "        final_list = []\n",
    "        for n,nu in zip(neighbors,upper_neighbors):\n",
    "            # First go the parent and check if it's a leaf.\n",
    "            neighbor = self.find(nu) \n",
    "            # Go to the child if needed\n",
    "            if not neighbor.leaf:\n",
    "                neighbor = neighbor.find(n)\n",
    "            final_list.append(neighbor) # Store direct links to neighbors for later\n",
    "            self.rflag |= self.data.check_refinement(neighbor.data)\n",
    "        \n",
    "        # Checked all neighbors. Broadcast result if True\n",
    "        if self.rflag:\n",
    "            for neighbor in final_list:\n",
    "                self.rflag = True\n",
    "                \n",
    "        return    \n",
    "                \n",
    "        \n",
    "    def find_neighbors(self):\n",
    "        \"\"\"\n",
    "            Find the neighbors and their parents.\n",
    "        \"\"\"\n",
    "        myindx = self.global_index\n",
    "        neighbors = []\n",
    "        upper_neighbors = []\n",
    "        for i in [-1,0,1]:\n",
    "            for j in [-1,0,1]:\n",
    "                if ~((i==0)&(j==0)):\n",
    "                    nindx = (myindx[0], myindx[1]+i,myindx[2]+j)\n",
    "                    nindx_upper = (nindx[0]-1,nindx[1]//2,nindx[2]//2)\n",
    "                    neighbors.append( self.name_from_index(*nindx))\n",
    "                    upper_neighbors.append(self.name_from_index( *nindx_upper))\n",
    "        return neighbors, upper_neighbors\n",
    "    def up(self):\n",
    "        \"\"\"\n",
    "            Move up the tree\n",
    "        \"\"\"\n",
    "        return self.parent\n",
    "    def down(self,i=0):\n",
    "        \"\"\"\n",
    "            Move down the tree to child i\n",
    "        \"\"\"\n",
    "        return self.child[i] \n",
    "    def walk(self,printname=False,func=None):\n",
    "        \"\"\"\n",
    "            Recursively walk the tree, applying the function func if this\n",
    "            is a leaf.\n",
    "        \"\"\"\n",
    "        if self.leaf:\n",
    "            if func is not None:\n",
    "                func(self)\n",
    "            if printname:\n",
    "                print(self)\n",
    "            return self\n",
    "        for c in self.child:\n",
    "            c.walk(printname=printname,func=func)\n",
    "    def __repr__(self):\n",
    "        return self.indx\n",
    "    def __str__(self):\n",
    "        return self.indx\n",
    "                "
   ]
  },
  {
   "cell_type": "code",
   "execution_count": 302,
   "metadata": {},
   "outputs": [
    {
     "data": {
      "text/plain": [
       "['0/0', '0/1', '0/2', '0/3']"
      ]
     },
     "execution_count": 302,
     "metadata": {},
     "output_type": "execute_result"
    }
   ],
   "source": [
    "[c.name for c in t.root.child]"
   ]
  },
  {
   "cell_type": "code",
   "execution_count": 420,
   "metadata": {},
   "outputs": [],
   "source": [
    "t = Tree()\n",
    "t.build(data=Data())\n",
    "t.root.split()\n",
    "for c in t.empty_leaves():\n",
    "    t.find(c).set_data(Data())\n",
    "for c in t.root.child:\n",
    "    c.split()\n",
    "for c in t.empty_leaves():\n",
    "    t.find(c).set_data(Data())\n",
    "for c in t.list_leaves():\n",
    "    t.find(c).split()\n",
    "for c in t.empty_leaves():\n",
    "    t.find(c).set_data(Data())   "
   ]
  },
  {
   "cell_type": "code",
   "execution_count": 421,
   "metadata": {},
   "outputs": [],
   "source": [
    "t.save('test2.h5')"
   ]
  },
  {
   "cell_type": "code",
   "execution_count": 422,
   "metadata": {},
   "outputs": [],
   "source": [
    "t2.close()"
   ]
  },
  {
   "cell_type": "code",
   "execution_count": 423,
   "metadata": {},
   "outputs": [],
   "source": [
    "t2 = Tree(fname='test2.h5')\n",
    "t2.build()\n",
    "t2.close()"
   ]
  },
  {
   "cell_type": "code",
   "execution_count": 415,
   "metadata": {},
   "outputs": [
    {
     "data": {
      "image/png": "[encoded data removed]",
      "text/plain": [
       "<matplotlib.figure.Figure at 0x7f6f39452860>"
      ]
     },
     "metadata": {},
     "output_type": "display_data"
    },
    {
     "data": {
      "image/png": "[encoded data removed]",
      "text/plain": [
       "<matplotlib.figure.Figure at 0x7f6f3956feb8>"
      ]
     },
     "metadata": {},
     "output_type": "display_data"
    }
   ],
   "source": [
    "\n",
    "t.plot(cmap='viridis_r')\n"
   ]
  },
  {
   "cell_type": "code",
   "execution_count": 293,
   "metadata": {},
   "outputs": [
    {
     "name": "stdout",
     "output_type": "stream",
     "text": [
      "['0000', '0001', '0002', '0003', '0010', '0011', '0012', '0013', '0020', '0021', '0022', '0023', '0030', '0031', '0032', '0033', '0100', '0101', '0102', '0103', '0110', '0111', '0112', '0113', '0120', '0121', '0122', '0123', '0130', '0131', '0132', '0133', '0200', '0201', '0202', '0203', '0210', '0211', '0212', '0213', '0220', '0221', '0222', '0223', '0230', '0231', '0232', '0233', '0300', '0301', '0302', '0303', '0310', '0311', '0312', '0313', '0320', '0321', '0322', '0323', '0330', '0331', '0332', '0333']\n",
      "['0333', '0332', '0131', '0130', '0123', '0122', '0121', '0120', '0113', '0112', '0111', '0110', '0103', '0102', '0101', '0100', '0033', '0032', '0031', '0030', '0023', '0022', '0021', '0020', '0013', '0012', '0011', '0010', '0003', '0002', '0001', '0132', '0133', '0200', '0300', '0331', '0330', '0323', '0322', '0321', '0320', '0313', '0312', '0311', '0310', '0303', '0302', '0301', '0233', '0201', '0232', '0231', '0230', '0223', '0222', '0221', '0220', '0213', '0212', '0211', '0210', '0203', '0202', '0000']\n"
     ]
    },
    {
     "ename": "AttributeError",
     "evalue": "'NoneType' object has no attribute 'find'",
     "output_type": "error",
     "traceback": [
      "\u001b[0;31m---------------------------------------------------------------------------\u001b[0m",
      "\u001b[0;31mAttributeError\u001b[0m                            Traceback (most recent call last)",
      "\u001b[0;32m<ipython-input-293-c130b77cb4dd>\u001b[0m in \u001b[0;36m<module>\u001b[0;34m()\u001b[0m\n\u001b[0;32m----> 1\u001b[0;31m \u001b[0mnodes\u001b[0m\u001b[0;34m=\u001b[0m\u001b[0mt\u001b[0m\u001b[0;34m.\u001b[0m\u001b[0mrefine\u001b[0m\u001b[0;34m(\u001b[0m\u001b[0;34m)\u001b[0m\u001b[0;34m\u001b[0m\u001b[0m\n\u001b[0m",
      "\u001b[0;32m<ipython-input-288-fe0c1cc9192c>\u001b[0m in \u001b[0;36mrefine\u001b[0;34m(self)\u001b[0m\n\u001b[1;32m     64\u001b[0m         \u001b[0mprint\u001b[0m\u001b[0;34m(\u001b[0m\u001b[0mleaves\u001b[0m\u001b[0;34m)\u001b[0m\u001b[0;34m\u001b[0m\u001b[0m\n\u001b[1;32m     65\u001b[0m         \u001b[0;32mfor\u001b[0m \u001b[0mleaf\u001b[0m \u001b[0;32min\u001b[0m \u001b[0mleaves\u001b[0m\u001b[0;34m:\u001b[0m\u001b[0;34m\u001b[0m\u001b[0m\n\u001b[0;32m---> 66\u001b[0;31m             \u001b[0mt\u001b[0m\u001b[0;34m.\u001b[0m\u001b[0mfind\u001b[0m\u001b[0;34m(\u001b[0m\u001b[0mleaf\u001b[0m\u001b[0;34m)\u001b[0m\u001b[0;34m.\u001b[0m\u001b[0mrefine\u001b[0m\u001b[0;34m(\u001b[0m\u001b[0;34m)\u001b[0m\u001b[0;34m\u001b[0m\u001b[0m\n\u001b[0m\u001b[1;32m     67\u001b[0m         \u001b[0;32mfor\u001b[0m \u001b[0mleaf\u001b[0m \u001b[0;32min\u001b[0m \u001b[0mleaves\u001b[0m\u001b[0;34m:\u001b[0m\u001b[0;34m\u001b[0m\u001b[0m\n\u001b[1;32m     68\u001b[0m             \u001b[0mnode\u001b[0m \u001b[0;34m=\u001b[0m \u001b[0mt\u001b[0m\u001b[0;34m.\u001b[0m\u001b[0mfind\u001b[0m\u001b[0;34m(\u001b[0m\u001b[0mleaf\u001b[0m\u001b[0;34m)\u001b[0m\u001b[0;34m\u001b[0m\u001b[0m\n",
      "\u001b[0;32m<ipython-input-288-fe0c1cc9192c>\u001b[0m in \u001b[0;36mrefine\u001b[0;34m(self)\u001b[0m\n\u001b[1;32m    297\u001b[0m         \u001b[0;32mfor\u001b[0m \u001b[0mn\u001b[0m\u001b[0;34m,\u001b[0m\u001b[0mnu\u001b[0m \u001b[0;32min\u001b[0m \u001b[0mzip\u001b[0m\u001b[0;34m(\u001b[0m\u001b[0mneighbors\u001b[0m\u001b[0;34m,\u001b[0m\u001b[0mupper_neighbors\u001b[0m\u001b[0;34m)\u001b[0m\u001b[0;34m:\u001b[0m\u001b[0;34m\u001b[0m\u001b[0m\n\u001b[1;32m    298\u001b[0m             \u001b[0;31m# First go the parent and check if it's a leaf.\u001b[0m\u001b[0;34m\u001b[0m\u001b[0;34m\u001b[0m\u001b[0m\n\u001b[0;32m--> 299\u001b[0;31m             \u001b[0mneighbor\u001b[0m \u001b[0;34m=\u001b[0m \u001b[0mself\u001b[0m\u001b[0;34m.\u001b[0m\u001b[0mfind\u001b[0m\u001b[0;34m(\u001b[0m\u001b[0mnu\u001b[0m\u001b[0;34m)\u001b[0m\u001b[0;34m\u001b[0m\u001b[0m\n\u001b[0m\u001b[1;32m    300\u001b[0m             \u001b[0;31m# Go to the child if needed\u001b[0m\u001b[0;34m\u001b[0m\u001b[0;34m\u001b[0m\u001b[0m\n\u001b[1;32m    301\u001b[0m             \u001b[0;32mif\u001b[0m \u001b[0;32mnot\u001b[0m \u001b[0mneighbor\u001b[0m\u001b[0;34m.\u001b[0m\u001b[0mleaf\u001b[0m\u001b[0;34m:\u001b[0m\u001b[0;34m\u001b[0m\u001b[0m\n",
      "\u001b[0;32m<ipython-input-288-fe0c1cc9192c>\u001b[0m in \u001b[0;36mfind\u001b[0;34m(self, name)\u001b[0m\n\u001b[1;32m    276\u001b[0m                 \u001b[0;32mreturn\u001b[0m \u001b[0mself\u001b[0m\u001b[0;34m.\u001b[0m\u001b[0mdown\u001b[0m\u001b[0;34m(\u001b[0m\u001b[0mint\u001b[0m\u001b[0;34m(\u001b[0m\u001b[0mchild\u001b[0m\u001b[0;34m)\u001b[0m\u001b[0;34m)\u001b[0m\u001b[0;34m.\u001b[0m\u001b[0mfind\u001b[0m\u001b[0;34m(\u001b[0m\u001b[0mname\u001b[0m\u001b[0;34m)\u001b[0m\u001b[0;34m\u001b[0m\u001b[0m\n\u001b[1;32m    277\u001b[0m         \u001b[0;31m# It's not below us, so move up\u001b[0m\u001b[0;34m\u001b[0m\u001b[0;34m\u001b[0m\u001b[0m\n\u001b[0;32m--> 278\u001b[0;31m         \u001b[0;32mreturn\u001b[0m \u001b[0mself\u001b[0m\u001b[0;34m.\u001b[0m\u001b[0mup\u001b[0m\u001b[0;34m(\u001b[0m\u001b[0;34m)\u001b[0m\u001b[0;34m.\u001b[0m\u001b[0mfind\u001b[0m\u001b[0;34m(\u001b[0m\u001b[0mname\u001b[0m\u001b[0;34m)\u001b[0m\u001b[0;34m\u001b[0m\u001b[0m\n\u001b[0m\u001b[1;32m    279\u001b[0m     \u001b[0;32mdef\u001b[0m \u001b[0mrefine\u001b[0m\u001b[0;34m(\u001b[0m\u001b[0mself\u001b[0m\u001b[0;34m)\u001b[0m\u001b[0;34m:\u001b[0m\u001b[0;34m\u001b[0m\u001b[0m\n\u001b[1;32m    280\u001b[0m         \"\"\"\n",
      "\u001b[0;32m<ipython-input-288-fe0c1cc9192c>\u001b[0m in \u001b[0;36mfind\u001b[0;34m(self, name)\u001b[0m\n\u001b[1;32m    276\u001b[0m                 \u001b[0;32mreturn\u001b[0m \u001b[0mself\u001b[0m\u001b[0;34m.\u001b[0m\u001b[0mdown\u001b[0m\u001b[0;34m(\u001b[0m\u001b[0mint\u001b[0m\u001b[0;34m(\u001b[0m\u001b[0mchild\u001b[0m\u001b[0;34m)\u001b[0m\u001b[0;34m)\u001b[0m\u001b[0;34m.\u001b[0m\u001b[0mfind\u001b[0m\u001b[0;34m(\u001b[0m\u001b[0mname\u001b[0m\u001b[0;34m)\u001b[0m\u001b[0;34m\u001b[0m\u001b[0m\n\u001b[1;32m    277\u001b[0m         \u001b[0;31m# It's not below us, so move up\u001b[0m\u001b[0;34m\u001b[0m\u001b[0;34m\u001b[0m\u001b[0m\n\u001b[0;32m--> 278\u001b[0;31m         \u001b[0;32mreturn\u001b[0m \u001b[0mself\u001b[0m\u001b[0;34m.\u001b[0m\u001b[0mup\u001b[0m\u001b[0;34m(\u001b[0m\u001b[0;34m)\u001b[0m\u001b[0;34m.\u001b[0m\u001b[0mfind\u001b[0m\u001b[0;34m(\u001b[0m\u001b[0mname\u001b[0m\u001b[0;34m)\u001b[0m\u001b[0;34m\u001b[0m\u001b[0m\n\u001b[0m\u001b[1;32m    279\u001b[0m     \u001b[0;32mdef\u001b[0m \u001b[0mrefine\u001b[0m\u001b[0;34m(\u001b[0m\u001b[0mself\u001b[0m\u001b[0;34m)\u001b[0m\u001b[0;34m:\u001b[0m\u001b[0;34m\u001b[0m\u001b[0m\n\u001b[1;32m    280\u001b[0m         \"\"\"\n",
      "\u001b[0;32m<ipython-input-288-fe0c1cc9192c>\u001b[0m in \u001b[0;36mfind\u001b[0;34m(self, name)\u001b[0m\n\u001b[1;32m    276\u001b[0m                 \u001b[0;32mreturn\u001b[0m \u001b[0mself\u001b[0m\u001b[0;34m.\u001b[0m\u001b[0mdown\u001b[0m\u001b[0;34m(\u001b[0m\u001b[0mint\u001b[0m\u001b[0;34m(\u001b[0m\u001b[0mchild\u001b[0m\u001b[0;34m)\u001b[0m\u001b[0;34m)\u001b[0m\u001b[0;34m.\u001b[0m\u001b[0mfind\u001b[0m\u001b[0;34m(\u001b[0m\u001b[0mname\u001b[0m\u001b[0;34m)\u001b[0m\u001b[0;34m\u001b[0m\u001b[0m\n\u001b[1;32m    277\u001b[0m         \u001b[0;31m# It's not below us, so move up\u001b[0m\u001b[0;34m\u001b[0m\u001b[0;34m\u001b[0m\u001b[0m\n\u001b[0;32m--> 278\u001b[0;31m         \u001b[0;32mreturn\u001b[0m \u001b[0mself\u001b[0m\u001b[0;34m.\u001b[0m\u001b[0mup\u001b[0m\u001b[0;34m(\u001b[0m\u001b[0;34m)\u001b[0m\u001b[0;34m.\u001b[0m\u001b[0mfind\u001b[0m\u001b[0;34m(\u001b[0m\u001b[0mname\u001b[0m\u001b[0;34m)\u001b[0m\u001b[0;34m\u001b[0m\u001b[0m\n\u001b[0m\u001b[1;32m    279\u001b[0m     \u001b[0;32mdef\u001b[0m \u001b[0mrefine\u001b[0m\u001b[0;34m(\u001b[0m\u001b[0mself\u001b[0m\u001b[0;34m)\u001b[0m\u001b[0;34m:\u001b[0m\u001b[0;34m\u001b[0m\u001b[0m\n\u001b[1;32m    280\u001b[0m         \"\"\"\n",
      "\u001b[0;32m<ipython-input-288-fe0c1cc9192c>\u001b[0m in \u001b[0;36mfind\u001b[0;34m(self, name)\u001b[0m\n\u001b[1;32m    276\u001b[0m                 \u001b[0;32mreturn\u001b[0m \u001b[0mself\u001b[0m\u001b[0;34m.\u001b[0m\u001b[0mdown\u001b[0m\u001b[0;34m(\u001b[0m\u001b[0mint\u001b[0m\u001b[0;34m(\u001b[0m\u001b[0mchild\u001b[0m\u001b[0;34m)\u001b[0m\u001b[0;34m)\u001b[0m\u001b[0;34m.\u001b[0m\u001b[0mfind\u001b[0m\u001b[0;34m(\u001b[0m\u001b[0mname\u001b[0m\u001b[0;34m)\u001b[0m\u001b[0;34m\u001b[0m\u001b[0m\n\u001b[1;32m    277\u001b[0m         \u001b[0;31m# It's not below us, so move up\u001b[0m\u001b[0;34m\u001b[0m\u001b[0;34m\u001b[0m\u001b[0m\n\u001b[0;32m--> 278\u001b[0;31m         \u001b[0;32mreturn\u001b[0m \u001b[0mself\u001b[0m\u001b[0;34m.\u001b[0m\u001b[0mup\u001b[0m\u001b[0;34m(\u001b[0m\u001b[0;34m)\u001b[0m\u001b[0;34m.\u001b[0m\u001b[0mfind\u001b[0m\u001b[0;34m(\u001b[0m\u001b[0mname\u001b[0m\u001b[0;34m)\u001b[0m\u001b[0;34m\u001b[0m\u001b[0m\n\u001b[0m\u001b[1;32m    279\u001b[0m     \u001b[0;32mdef\u001b[0m \u001b[0mrefine\u001b[0m\u001b[0;34m(\u001b[0m\u001b[0mself\u001b[0m\u001b[0;34m)\u001b[0m\u001b[0;34m:\u001b[0m\u001b[0;34m\u001b[0m\u001b[0m\n\u001b[1;32m    280\u001b[0m         \"\"\"\n",
      "\u001b[0;31mAttributeError\u001b[0m: 'NoneType' object has no attribute 'find'"
     ]
    }
   ],
   "source": [
    "nodes=t.refine()"
   ]
  },
  {
   "cell_type": "code",
   "execution_count": null,
   "metadata": {},
   "outputs": [],
   "source": []
  },
  {
   "cell_type": "code",
   "execution_count": 6,
   "metadata": {},
   "outputs": [],
   "source": [
    "names=['g','f','w','gg','qg','pp']\n",
    "\n",
    "res=[]\n",
    "func = lambda x: res.append(x) if 'g' in x else None"
   ]
  },
  {
   "cell_type": "code",
   "execution_count": 29,
   "metadata": {},
   "outputs": [],
   "source": [
    "leaves = ['0101', '101011', '12102','10203','10304','02','0992']\n",
    "lvls = np.array([len(x) for x in leaves])\n",
    "maxlvl = lvls.max()\n",
    "inds = np.argsort(lvls)[::-1]\n",
    "leaves = list(np.array(leaves)[inds])\n",
    "lvls = list(lvls[inds])"
   ]
  },
  {
   "cell_type": "code",
   "execution_count": 32,
   "metadata": {},
   "outputs": [
    {
     "data": {
      "text/plain": [
       "(['101011', '10304', '10203', '12102', '0992', '0101', '02'],\n",
       " [6, 5, 5, 5, 4, 4, 2],\n",
       " 6)"
      ]
     },
     "execution_count": 32,
     "metadata": {},
     "output_type": "execute_result"
    }
   ],
   "source": [
    "leaves,lvls,maxlvl"
   ]
  },
  {
   "cell_type": "code",
   "execution_count": 19,
   "metadata": {},
   "outputs": [
    {
     "data": {
      "text/plain": [
       "(array([1, 4, 3, 2, 6, 0, 5]), array([6, 5, 5, 5, 4, 4, 2]))"
      ]
     },
     "execution_count": 19,
     "metadata": {},
     "output_type": "execute_result"
    }
   ],
   "source": [
    "np.argsort(lvls)[::-1],np.sort(lvls)[::-1]"
   ]
  },
  {
   "cell_type": "code",
   "execution_count": 42,
   "metadata": {},
   "outputs": [
    {
     "ename": "AttributeError",
     "evalue": "'Tree' object has no attribute 'fname'",
     "output_type": "error",
     "traceback": [
      "\u001b[0;31m---------------------------------------------------------------------------\u001b[0m",
      "\u001b[0;31mAttributeError\u001b[0m                            Traceback (most recent call last)",
      "\u001b[0;32m<ipython-input-42-c3fd0fa01d4c>\u001b[0m in \u001b[0;36m<module>\u001b[0;34m()\u001b[0m\n\u001b[1;32m      1\u001b[0m \u001b[0mt\u001b[0m \u001b[0;34m=\u001b[0m \u001b[0mTree\u001b[0m\u001b[0;34m(\u001b[0m\u001b[0;34m)\u001b[0m\u001b[0;34m\u001b[0m\u001b[0m\n\u001b[0;32m----> 2\u001b[0;31m \u001b[0mt\u001b[0m\u001b[0;34m.\u001b[0m\u001b[0mbuild\u001b[0m\u001b[0;34m(\u001b[0m\u001b[0;34m)\u001b[0m\u001b[0;34m\u001b[0m\u001b[0m\n\u001b[0m",
      "\u001b[0;32m<ipython-input-39-5c3b8961e3bc>\u001b[0m in \u001b[0;36mbuild\u001b[0;34m(self)\u001b[0m\n\u001b[1;32m     23\u001b[0m             \u001b[0mBuild\u001b[0m \u001b[0mthe\u001b[0m \u001b[0mtree\u001b[0m \u001b[0;32mfrom\u001b[0m \u001b[0mthe\u001b[0m \u001b[0mhdf5\u001b[0m \u001b[0mfile\u001b[0m\u001b[0;34m\u001b[0m\u001b[0m\n\u001b[1;32m     24\u001b[0m         \"\"\"\n\u001b[0;32m---> 25\u001b[0;31m         \u001b[0;32mif\u001b[0m \u001b[0mself\u001b[0m\u001b[0;34m.\u001b[0m\u001b[0mfname\u001b[0m \u001b[0;32mis\u001b[0m \u001b[0;32mNone\u001b[0m\u001b[0;34m:\u001b[0m\u001b[0;34m\u001b[0m\u001b[0m\n\u001b[0m\u001b[1;32m     26\u001b[0m             \u001b[0mself\u001b[0m\u001b[0;34m.\u001b[0m\u001b[0mroot\u001b[0m \u001b[0;34m=\u001b[0m \u001b[0mNode\u001b[0m\u001b[0;34m(\u001b[0m\u001b[0;34m'0'\u001b[0m\u001b[0;34m)\u001b[0m\u001b[0;34m\u001b[0m\u001b[0m\n\u001b[1;32m     27\u001b[0m             \u001b[0;32mreturn\u001b[0m\u001b[0;34m\u001b[0m\u001b[0m\n",
      "\u001b[0;31mAttributeError\u001b[0m: 'Tree' object has no attribute 'fname'"
     ]
    }
   ],
   "source": [
    "t = Tree()\n",
    "t.build()"
   ]
  },
  {
   "cell_type": "code",
   "execution_count": 41,
   "metadata": {},
   "outputs": [
    {
     "ename": "AttributeError",
     "evalue": "'Tree' object has no attribute 'root'",
     "output_type": "error",
     "traceback": [
      "\u001b[0;31m---------------------------------------------------------------------------\u001b[0m",
      "\u001b[0;31mAttributeError\u001b[0m                            Traceback (most recent call last)",
      "\u001b[0;32m<ipython-input-41-7d4674a699e8>\u001b[0m in \u001b[0;36m<module>\u001b[0;34m()\u001b[0m\n\u001b[0;32m----> 1\u001b[0;31m \u001b[0mt\u001b[0m\u001b[0;34m.\u001b[0m\u001b[0mroot\u001b[0m\u001b[0;34m\u001b[0m\u001b[0m\n\u001b[0m",
      "\u001b[0;31mAttributeError\u001b[0m: 'Tree' object has no attribute 'root'"
     ]
    }
   ],
   "source": [
    "t.root"
   ]
  },
  {
   "cell_type": "code",
   "execution_count": null,
   "metadata": {},
   "outputs": [],
   "source": []
  },
  {
   "cell_type": "code",
   "execution_count": null,
   "metadata": {},
   "outputs": [],
   "source": []
  },
  {
   "cell_type": "code",
   "execution_count": null,
   "metadata": {},
   "outputs": [],
   "source": []
  },
  {
   "cell_type": "code",
   "execution_count": null,
   "metadata": {},
   "outputs": [],
   "source": []
  },
  {
   "cell_type": "code",
   "execution_count": 199,
   "metadata": {},
   "outputs": [
    {
     "data": {
      "image/png": "[encoded data removed]",
      "text/plain": [
       "<matplotlib.figure.Figure at 0x151eebf60>"
      ]
     },
     "metadata": {},
     "output_type": "display_data"
    }
   ],
   "source": [
    "t = Tree(fname='test.h5')\n",
    "t.build()\n",
    "fig,ax=plt.subplots(figsize=(8,8))\n",
    "t.root.plot(ax)\n",
    "ax.tick_params(axis='both',which='both',top='off',right='off',left='off',bottom='off',labelbottom='off',labelleft='off')\n",
    "ax.set_aspect('equal')\n",
    "fig.tight_layout()\n",
    "#fig.savefig('ex5.png',bbox_inches='tight')"
   ]
  },
  {
   "cell_type": "code",
   "execution_count": 252,
   "metadata": {},
   "outputs": [],
   "source": [
    "t.close()\n",
    "t = Tree(fname='test.h5')\n",
    "t.build()"
   ]
  },
  {
   "cell_type": "code",
   "execution_count": 253,
   "metadata": {},
   "outputs": [],
   "source": [
    "nodes = t.list_leaves()"
   ]
  },
  {
   "cell_type": "code",
   "execution_count": 254,
   "metadata": {},
   "outputs": [],
   "source": [
    "res = t.find('033201')\n",
    "n1,n2 = res.find_neighbors()"
   ]
  },
  {
   "cell_type": "code",
   "execution_count": 256,
   "metadata": {},
   "outputs": [
    {
     "name": "stdout",
     "output_type": "stream",
     "text": [
      "033201\n",
      "['03302', '03302', '03303', '03320', '03320', '03321', '03320', '03320', '03321']\n",
      "['033022', '033023', '033032', '033200', '033201', '033210', '033202', '033203', '033212']\n"
     ]
    }
   ],
   "source": [
    "print(res)\n",
    "print(n2)\n",
    "print(n1)"
   ]
  },
  {
   "cell_type": "code",
   "execution_count": 259,
   "metadata": {},
   "outputs": [
    {
     "name": "stdout",
     "output_type": "stream",
     "text": [
      "033201\n",
      "03302 None\n",
      "03302 None\n",
      "03303 None\n",
      "03320 03320\n",
      "03320 03320\n",
      "03321 03321\n",
      "03320 03320\n",
      "03320 03320\n",
      "03321 03321\n"
     ]
    }
   ],
   "source": [
    "print(res)\n",
    "for i in n2:\n",
    "    n = t.find(i)\n",
    "    print(i,n)\n",
    "\n"
   ]
  },
  {
   "cell_type": "code",
   "execution_count": 263,
   "metadata": {},
   "outputs": [
    {
     "name": "stdout",
     "output_type": "stream",
     "text": [
      "True\n"
     ]
    }
   ],
   "source": [
    "print(t.find('0330'))"
   ]
  },
  {
   "cell_type": "code",
   "execution_count": 242,
   "metadata": {},
   "outputs": [
    {
     "name": "stdout",
     "output_type": "stream",
     "text": [
      "0.875 0.78125\n",
      "(5, 28, 25)\n"
     ]
    },
    {
     "data": {
      "text/plain": [
       "[<matplotlib.lines.Line2D at 0x109dcd860>]"
      ]
     },
     "execution_count": 242,
     "metadata": {},
     "output_type": "execute_result"
    },
    {
     "data": {
      "image/png": "[encoded data removed]",
      "text/plain": [
       "<matplotlib.figure.Figure at 0x10a295550>"
      ]
     },
     "metadata": {},
     "output_type": "display_data"
    }
   ],
   "source": [
    "fig,ax=plt.subplots()\n",
    "res = t.find('033201')\n",
    "x,y = res.get_xy()\n",
    "print(x,y)\n",
    "print(res.global_index,)\n",
    "res.plot(ax)\n",
    "ax.plot(x,y,'ko')"
   ]
  },
  {
   "cell_type": "code",
   "execution_count": null,
   "metadata": {},
   "outputs": [],
   "source": []
  }
 ],
 "metadata": {
  "kernelspec": {
   "display_name": "Python 3",
   "language": "python",
   "name": "python3"
  },
  "language_info": {
   "codemirror_mode": {
    "name": "ipython",
    "version": 3
   },
   "file_extension": ".py",
   "mimetype": "text/x-python",
   "name": "python",
   "nbconvert_exporter": "python",
   "pygments_lexer": "ipython3",
   "version": "3.5.3"
  }
 },
 "nbformat": 4,
 "nbformat_minor": 2
}
