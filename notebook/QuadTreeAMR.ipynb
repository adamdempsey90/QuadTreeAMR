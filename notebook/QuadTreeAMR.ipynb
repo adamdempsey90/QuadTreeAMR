{
 "cells": [
  {
   "cell_type": "code",
   "execution_count": 1,
   "metadata": {},
   "outputs": [],
   "source": [
    "import numpy as np\n",
    "import itertools\n",
    "import h5py\n",
    "import matplotlib.pyplot as plt\n",
    "%matplotlib inline"
   ]
  },
  {
   "cell_type": "code",
   "execution_count": 130,
   "metadata": {},
   "outputs": [],
   "source": []
  },
  {
   "cell_type": "code",
   "execution_count": 22,
   "metadata": {},
   "outputs": [
    {
     "name": "stdout",
     "output_type": "stream",
     "text": [
      "['0', '00', '01', '02', '03']\n"
     ]
    }
   ],
   "source": [
    "items = []\n",
    "def addGroup(name,obj):\n",
    "    if isinstance(obj,h5py.Group):\n",
    "        items.append(addGroup)\n",
    "with h5py.File('test.h5','r') as f:\n",
    "    f.visititems(func)\n",
    "    \n",
    "print([''.join(x.split('/')) for x in items])\n",
    "#print([''.join(x.split('/')[1:])  for x in items if 'Data' not in x])"
   ]
  },
  {
   "cell_type": "code",
   "execution_count": 104,
   "metadata": {},
   "outputs": [],
   "source": [
    "\n",
    "class Data():\n",
    "    def __init__(self,data=None):\n",
    "        self.copy(data)\n",
    "    \n",
    "    def copy(self,data):\n",
    "        if data is None:\n",
    "            self.data = np.zeros((4,))\n",
    "        else:\n",
    "            self.data = data.data.copy()\n",
    "class Node():\n",
    "    def __init__(self,indx,parent=None,data=None):\n",
    "        self.indx = indx\n",
    "        self.level = len(indx)-1\n",
    "        self.global_index = (0,0,0)\n",
    "        self.parent = parent\n",
    "        if parent is not None:\n",
    "            self.global_index = self.calc_global_index(*parent.global_index)\n",
    "        self.leaf = True\n",
    "        self.child = [None]*4\n",
    "        \n",
    "        self.data = Data(data)\n",
    "    def calc_global_index(self,k,i,j):\n",
    "        \"\"\"\n",
    "        Calculate the global index for the cell given (k,i,j).\n",
    "        (k,i,j) can either be from the level above or the level below\n",
    "        \"\"\"\n",
    "        if k==self.level:\n",
    "            # Same level\n",
    "            return (k,i,j)\n",
    "        elif k < self.level:\n",
    "            # Going from coarser level\n",
    "            inew = 2*i + i//2\n",
    "            jnew = 2*j + j%2\n",
    "            return (k+1,inew,jnew)\n",
    "        else:\n",
    "            # Going from finer level\n",
    "            inew = i // 2\n",
    "            jnew = j // 2\n",
    "            return (k-1,inew,jnew)\n",
    "    def name_from_index(self,k,i,j):\n",
    "        \"\"\"\n",
    "        Calculate the name of the cell corresponding to \n",
    "        global index (k,i,j)\n",
    "        \"\"\"\n",
    "        name = []\n",
    "        icurr = i\n",
    "        jcurr = j\n",
    "        for curr_level in range(k+1)[::-1]:\n",
    "            name.append(str(2*(icurr%2)+jcurr%2))\n",
    "            icurr = icurr // 2\n",
    "            jcurr = jcurr // 2\n",
    "        return ''.join(name[::-1])\n",
    "    def index_from_name(self,name):\n",
    "        \"\"\"\n",
    "        Calculate the index of the cell corresponding to \n",
    "        the given name\n",
    "        \"\"\"\n",
    "        icurr = 0\n",
    "        jcurr = 0\n",
    "        for k,c in enumerate(name):\n",
    "            icurr = 2*icurr + int(c)//2\n",
    "            jcurr = 2*jcurr + int(c)%2\n",
    "        \n",
    "        return (len(name)-1,icurr,jcurr)\n",
    "            \n",
    "            \n",
    "    def split(self):\n",
    "        self.leaf = False\n",
    "        for i in range(4):\n",
    "            name = self.indx + str(i)\n",
    "            self.child[i] = Node(name,self)\n",
    "        return self.child\n",
    "    def find_neighbors(self):\n",
    "        \"\"\"Start with neighbors on same level\"\"\"\n",
    "        myindx = self.global_index\n",
    "        n_name = []\n",
    "        n_name_upper = []\n",
    "        for i in range([-1,0,1]):\n",
    "            for j in range([-1,0,1]):\n",
    "                if ~((i==0)&(j==0)):\n",
    "                    nindx = (myindx[0], myindx[1]+i,myindx[2]+j)\n",
    "                    nindx_upper = (nindx[0]-1,nindx[1]//2,nindx[2]//2)\n",
    "                    n_name.append( self.name_from_index(nindx))\n",
    "                    n_name_upper.append(self.name_from_index( nindx_upper))\n",
    "        return n_name, n_name_upper\n",
    "    def eval_neighbors(self,neighbors,neighbors_upper,cuttof=10.):\n",
    "        res = False\n",
    "        for n,nu in zip(neighbors,neighbors_upper):\n",
    "            node = self.find(nu)\n",
    "            if node.leaf:\n",
    "                res |= (node.compare(self) or node.r_flag)\n",
    "            else:\n",
    "                res |= (node.child[int(n[-1])].compare(self) or node.r_flag)\n",
    "        return res\n",
    "    def check_refinement(self,cuttoff=10.):\n",
    "        neighbors, neighbors_upper = self.find_neighbors()\n",
    "        self.refine = self.eval_neighbors(neighbors,neighbors_upper,cuttoff=cuttoff)\n",
    "        return self.refine\n",
    "    def compare(self,node,cuttoff=10.):\n",
    "        return abs(self.data.data[0] - node.data.data[0]) < cuttoff \n",
    "    def find(self,name):\n",
    "    \"\"\"\n",
    "       Find the next step towards the desired \n",
    "       node with name name.\n",
    "    \"\"\" \n",
    "        len_myself = len(self.indx)\n",
    "        len_name = len(name)\n",
    "        if self.indx == name:\n",
    "            # Found it!\n",
    "            return self\n",
    "        if len_myself < len_name:\n",
    "            if self.indx == name[:len_myself]:\n",
    "                # It's below us in the tree\n",
    "                child = name[:len_myself+1][-1]\n",
    "                return self.down(int(child)).find(name)\n",
    "        # It's not below us, so move up\n",
    "        return self.up().find(name)\n",
    "        \n",
    "    def up(self):\n",
    "        return self.parent\n",
    "    def down(self,i=0):\n",
    "        return self.child[i] \n",
    "    def walk(self):\n",
    "        if self.leaf:\n",
    "            return self\n",
    "        for c in self.child:\n",
    "            return c.walk()\n",
    "    def save(self,f):\n",
    "        f.create_dataset('Data',data=self.data)\n",
    "        if not self.leaf:\n",
    "            for i,c in enumerate(self.child):\n",
    "                grp = f.create_group(str(i))\n",
    "                c.save(grp)\n",
    "        \n",
    "    def __repr__(self):\n",
    "        return self.indx\n",
    "    def __str__(self):\n",
    "        return self.indx"
   ]
  },
  {
   "cell_type": "code",
   "execution_count": 100,
   "metadata": {},
   "outputs": [],
   "source": [
    "root = [Node('0')]\n",
    "root.append(root[0].split())\n",
    "for i in range(7):\n",
    "    root.append(list(itertools.chain.from_iterable([x.split() for x in root[-1]])))\n",
    "    \n"
   ]
  },
  {
   "cell_type": "code",
   "execution_count": 154,
   "metadata": {},
   "outputs": [
    {
     "name": "stdout",
     "output_type": "stream",
     "text": [
      "1: 0 -> 1\n",
      "1: 1 -> 0\n",
      "1: 2 -> 3\n",
      "1: 3 -> 2\n",
      "2: 0 -> 2\n",
      "2: 1 -> 3\n",
      "2: 2 -> 0\n",
      "2: 3 -> 1\n",
      "3: 0 -> 3\n",
      "3: 1 -> 2\n",
      "3: 2 -> 1\n",
      "3: 3 -> 0\n"
     ]
    }
   ],
   "source": [
    "for j in range(1,4):\n",
    "    for i in range(4):\n",
    "        print('{:d}: {:d} -> {:d}'.format(j,i,i^j))"
   ]
  },
  {
   "cell_type": "code",
   "execution_count": 164,
   "metadata": {},
   "outputs": [
    {
     "name": "stdout",
     "output_type": "stream",
     "text": [
      "0 -> 0\n",
      "1 -> 0\n",
      "2 -> 1\n",
      "3 -> 1\n"
     ]
    }
   ],
   "source": [
    "for i in range(4):\n",
    "    print('{:d} -> {:d}'.format(i,i//2))"
   ]
  },
  {
   "cell_type": "code",
   "execution_count": 170,
   "metadata": {},
   "outputs": [
    {
     "name": "stdout",
     "output_type": "stream",
     "text": [
      "(4,16,16) -> (3,8,8)\n",
      "(4,16,17) -> (3,8,9)\n",
      "(4,17,16) -> (3,9,8)\n",
      "(4,17,17) -> (3,9,9)\n"
     ]
    }
   ],
   "source": [
    "for indx in [ (2**4,2**4),(2**4,2**4+1),(2**4+1,2**4),(2**4+1,2**4+1)]:\n",
    "    print('({:d},{:d},{:d}) -> ({:d},{:d},{:d})'.format(4,indx[0],indx[1],3,indx[0]//2 + indx[0]%2,indx[1]//2 + indx[1]%2))"
   ]
  },
  {
   "cell_type": "code",
   "execution_count": 181,
   "metadata": {},
   "outputs": [
    {
     "name": "stdout",
     "output_type": "stream",
     "text": [
      "(16, 16) [0, 0] 0\n",
      "(16, 17) [0, 1] 1\n",
      "(17, 16) [1, 0] 2\n",
      "(17, 17) [1, 1] 3\n"
     ]
    }
   ],
   "source": [
    "for indx in [ (2**4,2**4),(2**4,2**4+1),(2**4+1,2**4),(2**4+1,2**4+1)]:\n",
    "    print(indx,[x%2 for x in indx],2*(indx[0]%2)+indx[1]%2)"
   ]
  },
  {
   "cell_type": "code",
   "execution_count": 186,
   "metadata": {},
   "outputs": [
    {
     "name": "stdout",
     "output_type": "stream",
     "text": [
      "(5, 14, 7)\n",
      "(4, 7, 3)\n",
      "(3, 3, 1)\n",
      "(2, 1, 0)\n",
      "(1, 0, 0)\n",
      "(0, 0, 0)\n",
      "002331\n"
     ]
    }
   ],
   "source": [
    "k,i,j = (5,14,7)\n",
    "name = []\n",
    "icurr = i\n",
    "jcurr = j\n",
    "for curr_level in range(k+1)[::-1]:\n",
    "    print((curr_level,icurr,jcurr))\n",
    "    name.append(str(2*(icurr%2)+jcurr%2))\n",
    "    icurr = icurr // 2\n",
    "    jcurr = jcurr // 2\n",
    "print(''.join(name[::-1]))"
   ]
  },
  {
   "cell_type": "code",
   "execution_count": 195,
   "metadata": {},
   "outputs": [
    {
     "name": "stdout",
     "output_type": "stream",
     "text": [
      "6\n",
      "(0, 0, 0)\n",
      "(1, 0, 0)\n",
      "(2, 1, 0)\n",
      "(3, 3, 1)\n",
      "(4, 7, 3)\n",
      "(5, 14, 7)\n"
     ]
    }
   ],
   "source": [
    "icurr = 0\n",
    "jcurr = 0\n",
    "print(len('002331'))\n",
    "for k,c in enumerate('002331'):\n",
    "    icurr = 2*icurr + int(c)//2\n",
    "    jcurr = 2*jcurr + int(c)%2\n",
    "    print((k,icurr,jcurr))"
   ]
  },
  {
   "cell_type": "code",
   "execution_count": 40,
   "metadata": {},
   "outputs": [
    {
     "data": {
      "text/plain": [
       "[000,\n",
       " 001,\n",
       " 002,\n",
       " 003,\n",
       " 010,\n",
       " 011,\n",
       " 012,\n",
       " 013,\n",
       " 020,\n",
       " 021,\n",
       " 022,\n",
       " 023,\n",
       " 030,\n",
       " 031,\n",
       " 032,\n",
       " 033]"
      ]
     },
     "execution_count": 40,
     "metadata": {},
     "output_type": "execute_result"
    }
   ],
   "source": [
    "list(itertools.chain.from_iterable(l2))"
   ]
  },
  {
   "cell_type": "code",
   "execution_count": 196,
   "metadata": {},
   "outputs": [],
   "source": [
    "n1 = '002331'\n",
    "n0 = '00201'"
   ]
  },
  {
   "cell_type": "code",
   "execution_count": 219,
   "metadata": {},
   "outputs": [
    {
     "data": {
      "text/plain": [
       "['', '31']"
      ]
     },
     "execution_count": 219,
     "metadata": {},
     "output_type": "execute_result"
    }
   ],
   "source": [
    "n1.split('0023')"
   ]
  },
  {
   "cell_type": "code",
   "execution_count": 220,
   "metadata": {},
   "outputs": [
    {
     "data": {
      "text/plain": [
       "[('0', True), ('00', True), ('002', True), ('0020', False), ('00201', False)]"
      ]
     },
     "execution_count": 220,
     "metadata": {},
     "output_type": "execute_result"
    }
   ],
   "source": [
    "[(n0[:i],(n0[:i] in n1)) for i in range(1,len(n0)+1)]"
   ]
  },
  {
   "cell_type": "code",
   "execution_count": 217,
   "metadata": {},
   "outputs": [
    {
     "data": {
      "text/plain": [
       "('0020', '1')"
      ]
     },
     "execution_count": 217,
     "metadata": {},
     "output_type": "execute_result"
    }
   ],
   "source": [
    "n0[:-1],n0[-1]"
   ]
  },
  {
   "cell_type": "code",
   "execution_count": 2,
   "metadata": {},
   "outputs": [
    {
     "name": "stdout",
     "output_type": "stream",
     "text": [
      "0\n",
      "0\n",
      "2\n",
      "3\n"
     ]
    }
   ],
   "source": [
    "for c in '0023':\n",
    "    print(c)"
   ]
  },
  {
   "cell_type": "code",
   "execution_count": 28,
   "metadata": {},
   "outputs": [],
   "source": [
    "file = h5py.File('test.h5','r')"
   ]
  },
  {
   "cell_type": "code",
   "execution_count": 145,
   "metadata": {},
   "outputs": [],
   "source": [
    "def make_node(f,level):\n",
    "    if level > 10:\n",
    "        f.create_dataset('Data',data=np.random.rand(4,))\n",
    "        return\n",
    "    if np.random.rand() < .3:\n",
    "        f.create_dataset('Data',data=np.random.rand(4,))\n",
    "    else:\n",
    "        for i in range(4):\n",
    "            grp = f.create_group(str(i))\n",
    "            make_node(grp,level+1)\n",
    "    return\n",
    "    \n",
    "with h5py.File('test5.h5','w') as f:\n",
    "    root = f.create_group('0')\n",
    "    level = 0\n",
    "    for i in range(4):\n",
    "        grp = root.create_group(str(i))\n",
    "        make_node(grp,level+1)\n",
    "        \n",
    "       \n",
    "\n",
    "            "
   ]
  },
  {
   "cell_type": "code",
   "execution_count": 361,
   "metadata": {},
   "outputs": [],
   "source": [
    "def open_group(grp,indx,func_node,func_leaf):\n",
    "    for i in range(4):\n",
    "        try:\n",
    "            newgrp = grp[str(i)]\n",
    "            func_node(indx+str(i))\n",
    "            open_group(newgrp,indx+str(i),func_node,func_leaf)\n",
    "        except KeyError:\n",
    "            func_leaf(indx)\n",
    "            return \n",
    "def walk_h5(file):\n",
    "    nodes = []; leaves = [];\n",
    "    func1 = lambda x: nodes.append(x)\n",
    "    func2 = lambda x: leaves.append(x)\n",
    "    with h5py.File(file,'r') as f:\n",
    "        grp = f['0']\n",
    "        nodes.append('0')\n",
    "        for i in range(4):\n",
    "            nodes.append('0'+str(i))\n",
    "            open_group(grp[str(i)],'0'+str(i),func1,func2)\n",
    "    return nodes,leaves"
   ]
  },
  {
   "cell_type": "code",
   "execution_count": 375,
   "metadata": {},
   "outputs": [],
   "source": [
    "nodes,leaves=walk_h5('test2.h5')"
   ]
  },
  {
   "cell_type": "code",
   "execution_count": 376,
   "metadata": {},
   "outputs": [
    {
     "data": {
      "text/plain": [
       "'0012'"
      ]
     },
     "execution_count": 376,
     "metadata": {},
     "output_type": "execute_result"
    }
   ],
   "source": [
    "leaves[6]"
   ]
  },
  {
   "cell_type": "code",
   "execution_count": 386,
   "metadata": {},
   "outputs": [
    {
     "name": "stdout",
     "output_type": "stream",
     "text": [
      "<HDF5 group \"/0/0/0/1/Data\" (3 members)>\n",
      "<HDF5 group \"/0/0/0/1/Data\" (3 members)>\n",
      "<HDF5 group \"/0/0/0/1/Data\" (3 members)>\n",
      "<HDF5 group \"/0/0/0/1/Data\" (3 members)>\n"
     ]
    }
   ],
   "source": [
    "with h5py.File('test2.h5','r') as f:\n",
    "    grp = f['/'.join(leaves[1])]['Data']\n",
    "    print(grp)\n",
    "    dat=Data(file=grp)\n"
   ]
  },
  {
   "cell_type": "code",
   "execution_count": 396,
   "metadata": {},
   "outputs": [],
   "source": [
    "t2.close()\n",
    "t2 = Tree(fname='test2.h5')"
   ]
  },
  {
   "cell_type": "code",
   "execution_count": 397,
   "metadata": {},
   "outputs": [
    {
     "name": "stdout",
     "output_type": "stream",
     "text": [
      "<HDF5 group \"/0/0/0/0/Data\" (3 members)>\n",
      "<HDF5 group \"/0/0/0/0/Data\" (3 members)>\n",
      "<HDF5 group \"/0/0/0/0/Data\" (3 members)>\n",
      "<HDF5 group \"/0/0/0/1/Data\" (3 members)>\n",
      "<HDF5 group \"/0/0/0/1/Data\" (3 members)>\n",
      "<HDF5 group \"/0/0/0/1/Data\" (3 members)>\n",
      "<HDF5 group \"/0/0/0/2/Data\" (3 members)>\n",
      "<HDF5 group \"/0/0/0/2/Data\" (3 members)>\n",
      "<HDF5 group \"/0/0/0/2/Data\" (3 members)>\n",
      "<HDF5 group \"/0/0/0/3/Data\" (3 members)>\n",
      "<HDF5 group \"/0/0/0/3/Data\" (3 members)>\n",
      "<HDF5 group \"/0/0/0/3/Data\" (3 members)>\n",
      "<HDF5 group \"/0/0/1/0/Data\" (3 members)>\n",
      "<HDF5 group \"/0/0/1/0/Data\" (3 members)>\n",
      "<HDF5 group \"/0/0/1/0/Data\" (3 members)>\n",
      "<HDF5 group \"/0/0/1/1/Data\" (3 members)>\n",
      "<HDF5 group \"/0/0/1/1/Data\" (3 members)>\n",
      "<HDF5 group \"/0/0/1/1/Data\" (3 members)>\n",
      "<HDF5 group \"/0/0/1/2/Data\" (3 members)>\n",
      "<HDF5 group \"/0/0/1/2/Data\" (3 members)>\n",
      "<HDF5 group \"/0/0/1/2/Data\" (3 members)>\n",
      "<HDF5 group \"/0/0/1/3/Data\" (3 members)>\n",
      "<HDF5 group \"/0/0/1/3/Data\" (3 members)>\n",
      "<HDF5 group \"/0/0/1/3/Data\" (3 members)>\n",
      "<HDF5 group \"/0/0/2/0/Data\" (3 members)>\n",
      "<HDF5 group \"/0/0/2/0/Data\" (3 members)>\n",
      "<HDF5 group \"/0/0/2/0/Data\" (3 members)>\n",
      "<HDF5 group \"/0/0/2/1/Data\" (3 members)>\n",
      "<HDF5 group \"/0/0/2/1/Data\" (3 members)>\n",
      "<HDF5 group \"/0/0/2/1/Data\" (3 members)>\n",
      "<HDF5 group \"/0/0/2/2/Data\" (3 members)>\n",
      "<HDF5 group \"/0/0/2/2/Data\" (3 members)>\n",
      "<HDF5 group \"/0/0/2/2/Data\" (3 members)>\n",
      "<HDF5 group \"/0/0/2/3/Data\" (3 members)>\n",
      "<HDF5 group \"/0/0/2/3/Data\" (3 members)>\n",
      "<HDF5 group \"/0/0/2/3/Data\" (3 members)>\n",
      "<HDF5 group \"/0/0/3/0/Data\" (3 members)>\n",
      "<HDF5 group \"/0/0/3/0/Data\" (3 members)>\n",
      "<HDF5 group \"/0/0/3/0/Data\" (3 members)>\n",
      "<HDF5 group \"/0/0/3/1/Data\" (3 members)>\n",
      "<HDF5 group \"/0/0/3/1/Data\" (3 members)>\n",
      "<HDF5 group \"/0/0/3/1/Data\" (3 members)>\n",
      "<HDF5 group \"/0/0/3/2/Data\" (3 members)>\n",
      "<HDF5 group \"/0/0/3/2/Data\" (3 members)>\n",
      "<HDF5 group \"/0/0/3/2/Data\" (3 members)>\n",
      "<HDF5 group \"/0/0/3/3/Data\" (3 members)>\n",
      "<HDF5 group \"/0/0/3/3/Data\" (3 members)>\n",
      "<HDF5 group \"/0/0/3/3/Data\" (3 members)>\n",
      "<HDF5 group \"/0/1/0/0/Data\" (3 members)>\n",
      "<HDF5 group \"/0/1/0/0/Data\" (3 members)>\n",
      "<HDF5 group \"/0/1/0/0/Data\" (3 members)>\n",
      "<HDF5 group \"/0/1/0/1/Data\" (3 members)>\n",
      "<HDF5 group \"/0/1/0/1/Data\" (3 members)>\n",
      "<HDF5 group \"/0/1/0/1/Data\" (3 members)>\n",
      "<HDF5 group \"/0/1/0/2/Data\" (3 members)>\n",
      "<HDF5 group \"/0/1/0/2/Data\" (3 members)>\n",
      "<HDF5 group \"/0/1/0/2/Data\" (3 members)>\n",
      "<HDF5 group \"/0/1/0/3/Data\" (3 members)>\n",
      "<HDF5 group \"/0/1/0/3/Data\" (3 members)>\n",
      "<HDF5 group \"/0/1/0/3/Data\" (3 members)>\n",
      "<HDF5 group \"/0/1/1/0/Data\" (3 members)>\n",
      "<HDF5 group \"/0/1/1/0/Data\" (3 members)>\n",
      "<HDF5 group \"/0/1/1/0/Data\" (3 members)>\n",
      "<HDF5 group \"/0/1/1/1/Data\" (3 members)>\n",
      "<HDF5 group \"/0/1/1/1/Data\" (3 members)>\n",
      "<HDF5 group \"/0/1/1/1/Data\" (3 members)>\n",
      "<HDF5 group \"/0/1/1/2/Data\" (3 members)>\n",
      "<HDF5 group \"/0/1/1/2/Data\" (3 members)>\n",
      "<HDF5 group \"/0/1/1/2/Data\" (3 members)>\n",
      "<HDF5 group \"/0/1/1/3/Data\" (3 members)>\n",
      "<HDF5 group \"/0/1/1/3/Data\" (3 members)>\n",
      "<HDF5 group \"/0/1/1/3/Data\" (3 members)>\n",
      "<HDF5 group \"/0/1/2/0/Data\" (3 members)>\n",
      "<HDF5 group \"/0/1/2/0/Data\" (3 members)>\n",
      "<HDF5 group \"/0/1/2/0/Data\" (3 members)>\n",
      "<HDF5 group \"/0/1/2/1/Data\" (3 members)>\n",
      "<HDF5 group \"/0/1/2/1/Data\" (3 members)>\n",
      "<HDF5 group \"/0/1/2/1/Data\" (3 members)>\n",
      "<HDF5 group \"/0/1/2/2/Data\" (3 members)>\n",
      "<HDF5 group \"/0/1/2/2/Data\" (3 members)>\n",
      "<HDF5 group \"/0/1/2/2/Data\" (3 members)>\n",
      "<HDF5 group \"/0/1/2/3/Data\" (3 members)>\n",
      "<HDF5 group \"/0/1/2/3/Data\" (3 members)>\n",
      "<HDF5 group \"/0/1/2/3/Data\" (3 members)>\n",
      "<HDF5 group \"/0/1/3/0/Data\" (3 members)>\n",
      "<HDF5 group \"/0/1/3/0/Data\" (3 members)>\n",
      "<HDF5 group \"/0/1/3/0/Data\" (3 members)>\n",
      "<HDF5 group \"/0/1/3/1/Data\" (3 members)>\n",
      "<HDF5 group \"/0/1/3/1/Data\" (3 members)>\n",
      "<HDF5 group \"/0/1/3/1/Data\" (3 members)>\n",
      "<HDF5 group \"/0/1/3/2/Data\" (3 members)>\n",
      "<HDF5 group \"/0/1/3/2/Data\" (3 members)>\n",
      "<HDF5 group \"/0/1/3/2/Data\" (3 members)>\n",
      "<HDF5 group \"/0/1/3/3/Data\" (3 members)>\n",
      "<HDF5 group \"/0/1/3/3/Data\" (3 members)>\n",
      "<HDF5 group \"/0/1/3/3/Data\" (3 members)>\n",
      "<HDF5 group \"/0/2/0/0/Data\" (3 members)>\n",
      "<HDF5 group \"/0/2/0/0/Data\" (3 members)>\n",
      "<HDF5 group \"/0/2/0/0/Data\" (3 members)>\n",
      "<HDF5 group \"/0/2/0/1/Data\" (3 members)>\n",
      "<HDF5 group \"/0/2/0/1/Data\" (3 members)>\n",
      "<HDF5 group \"/0/2/0/1/Data\" (3 members)>\n",
      "<HDF5 group \"/0/2/0/2/Data\" (3 members)>\n",
      "<HDF5 group \"/0/2/0/2/Data\" (3 members)>\n",
      "<HDF5 group \"/0/2/0/2/Data\" (3 members)>\n",
      "<HDF5 group \"/0/2/0/3/Data\" (3 members)>\n",
      "<HDF5 group \"/0/2/0/3/Data\" (3 members)>\n",
      "<HDF5 group \"/0/2/0/3/Data\" (3 members)>\n",
      "<HDF5 group \"/0/2/1/0/Data\" (3 members)>\n",
      "<HDF5 group \"/0/2/1/0/Data\" (3 members)>\n",
      "<HDF5 group \"/0/2/1/0/Data\" (3 members)>\n",
      "<HDF5 group \"/0/2/1/1/Data\" (3 members)>\n",
      "<HDF5 group \"/0/2/1/1/Data\" (3 members)>\n",
      "<HDF5 group \"/0/2/1/1/Data\" (3 members)>\n",
      "<HDF5 group \"/0/2/1/2/Data\" (3 members)>\n",
      "<HDF5 group \"/0/2/1/2/Data\" (3 members)>\n",
      "<HDF5 group \"/0/2/1/2/Data\" (3 members)>\n",
      "<HDF5 group \"/0/2/1/3/Data\" (3 members)>\n",
      "<HDF5 group \"/0/2/1/3/Data\" (3 members)>\n",
      "<HDF5 group \"/0/2/1/3/Data\" (3 members)>\n",
      "<HDF5 group \"/0/2/2/0/Data\" (3 members)>\n",
      "<HDF5 group \"/0/2/2/0/Data\" (3 members)>\n",
      "<HDF5 group \"/0/2/2/0/Data\" (3 members)>\n",
      "<HDF5 group \"/0/2/2/1/Data\" (3 members)>\n",
      "<HDF5 group \"/0/2/2/1/Data\" (3 members)>\n",
      "<HDF5 group \"/0/2/2/1/Data\" (3 members)>\n",
      "<HDF5 group \"/0/2/2/2/Data\" (3 members)>\n",
      "<HDF5 group \"/0/2/2/2/Data\" (3 members)>\n",
      "<HDF5 group \"/0/2/2/2/Data\" (3 members)>\n",
      "<HDF5 group \"/0/2/2/3/Data\" (3 members)>\n",
      "<HDF5 group \"/0/2/2/3/Data\" (3 members)>\n",
      "<HDF5 group \"/0/2/2/3/Data\" (3 members)>\n",
      "<HDF5 group \"/0/2/3/0/Data\" (3 members)>\n",
      "<HDF5 group \"/0/2/3/0/Data\" (3 members)>\n",
      "<HDF5 group \"/0/2/3/0/Data\" (3 members)>\n",
      "<HDF5 group \"/0/2/3/1/Data\" (3 members)>\n",
      "<HDF5 group \"/0/2/3/1/Data\" (3 members)>\n",
      "<HDF5 group \"/0/2/3/1/Data\" (3 members)>\n",
      "<HDF5 group \"/0/2/3/2/Data\" (3 members)>\n",
      "<HDF5 group \"/0/2/3/2/Data\" (3 members)>\n",
      "<HDF5 group \"/0/2/3/2/Data\" (3 members)>\n",
      "<HDF5 group \"/0/2/3/3/Data\" (3 members)>\n",
      "<HDF5 group \"/0/2/3/3/Data\" (3 members)>\n",
      "<HDF5 group \"/0/2/3/3/Data\" (3 members)>\n",
      "<HDF5 group \"/0/3/0/0/Data\" (3 members)>\n",
      "<HDF5 group \"/0/3/0/0/Data\" (3 members)>\n",
      "<HDF5 group \"/0/3/0/0/Data\" (3 members)>\n",
      "<HDF5 group \"/0/3/0/1/Data\" (3 members)>\n",
      "<HDF5 group \"/0/3/0/1/Data\" (3 members)>\n",
      "<HDF5 group \"/0/3/0/1/Data\" (3 members)>\n",
      "<HDF5 group \"/0/3/0/2/Data\" (3 members)>\n",
      "<HDF5 group \"/0/3/0/2/Data\" (3 members)>\n",
      "<HDF5 group \"/0/3/0/2/Data\" (3 members)>\n",
      "<HDF5 group \"/0/3/0/3/Data\" (3 members)>\n",
      "<HDF5 group \"/0/3/0/3/Data\" (3 members)>\n",
      "<HDF5 group \"/0/3/0/3/Data\" (3 members)>\n",
      "<HDF5 group \"/0/3/1/0/Data\" (3 members)>\n",
      "<HDF5 group \"/0/3/1/0/Data\" (3 members)>\n",
      "<HDF5 group \"/0/3/1/0/Data\" (3 members)>\n",
      "<HDF5 group \"/0/3/1/1/Data\" (3 members)>\n",
      "<HDF5 group \"/0/3/1/1/Data\" (3 members)>\n",
      "<HDF5 group \"/0/3/1/1/Data\" (3 members)>\n",
      "<HDF5 group \"/0/3/1/2/Data\" (3 members)>\n",
      "<HDF5 group \"/0/3/1/2/Data\" (3 members)>\n",
      "<HDF5 group \"/0/3/1/2/Data\" (3 members)>\n",
      "<HDF5 group \"/0/3/1/3/Data\" (3 members)>\n",
      "<HDF5 group \"/0/3/1/3/Data\" (3 members)>\n",
      "<HDF5 group \"/0/3/1/3/Data\" (3 members)>\n",
      "<HDF5 group \"/0/3/2/0/Data\" (3 members)>\n",
      "<HDF5 group \"/0/3/2/0/Data\" (3 members)>\n",
      "<HDF5 group \"/0/3/2/0/Data\" (3 members)>\n",
      "<HDF5 group \"/0/3/2/1/Data\" (3 members)>\n",
      "<HDF5 group \"/0/3/2/1/Data\" (3 members)>\n",
      "<HDF5 group \"/0/3/2/1/Data\" (3 members)>\n",
      "<HDF5 group \"/0/3/2/2/Data\" (3 members)>\n",
      "<HDF5 group \"/0/3/2/2/Data\" (3 members)>\n",
      "<HDF5 group \"/0/3/2/2/Data\" (3 members)>\n",
      "<HDF5 group \"/0/3/2/3/Data\" (3 members)>\n",
      "<HDF5 group \"/0/3/2/3/Data\" (3 members)>\n",
      "<HDF5 group \"/0/3/2/3/Data\" (3 members)>\n",
      "<HDF5 group \"/0/3/3/0/Data\" (3 members)>\n",
      "<HDF5 group \"/0/3/3/0/Data\" (3 members)>\n",
      "<HDF5 group \"/0/3/3/0/Data\" (3 members)>\n",
      "<HDF5 group \"/0/3/3/1/Data\" (3 members)>\n",
      "<HDF5 group \"/0/3/3/1/Data\" (3 members)>\n",
      "<HDF5 group \"/0/3/3/1/Data\" (3 members)>\n",
      "<HDF5 group \"/0/3/3/2/Data\" (3 members)>\n",
      "<HDF5 group \"/0/3/3/2/Data\" (3 members)>\n",
      "<HDF5 group \"/0/3/3/2/Data\" (3 members)>\n",
      "<HDF5 group \"/0/3/3/3/Data\" (3 members)>\n",
      "<HDF5 group \"/0/3/3/3/Data\" (3 members)>\n",
      "<HDF5 group \"/0/3/3/3/Data\" (3 members)>\n"
     ]
    }
   ],
   "source": [
    "t2.build()"
   ]
  },
  {
   "cell_type": "code",
   "execution_count": 406,
   "metadata": {},
   "outputs": [
    {
     "data": {
      "text/plain": [
       "array(108.12323609997449)"
      ]
     },
     "execution_count": 406,
     "metadata": {},
     "output_type": "execute_result"
    }
   ],
   "source": [
    "t2.find('0101').data.x.astype(float)"
   ]
  },
  {
   "cell_type": "code",
   "execution_count": 924,
   "metadata": {},
   "outputs": [],
   "source": [
    "class Tree():\n",
    "    \"\"\"\n",
    "        The tree holds high level functions for interacting with\n",
    "        the nodes.\n",
    "    \"\"\"\n",
    "    def __init__(self,fname=None):\n",
    "        \"\"\"\n",
    "            Initialize a tree from the hdf5 file fname\n",
    "        \"\"\"\n",
    "        self.file = fname\n",
    "        if fname is None:\n",
    "            return\n",
    "        \n",
    "        try:\n",
    "            self.open(fname)\n",
    "            \n",
    "        except OSError:\n",
    "            print('File not found')\n",
    "            self.file = None\n",
    "    \n",
    "    def build(self,data=None):\n",
    "        \"\"\"\n",
    "            Build the tree from the hdf5 file\n",
    "        \"\"\"\n",
    "        if self.file is None:\n",
    "            self.root = Node('0',data=data)\n",
    "            return\n",
    "        self.root = Node('0')\n",
    "        grp = self.file['0']\n",
    "        self.root.build(grp)\n",
    "            \n",
    "    def open(self,fname):\n",
    "        self.file = h5py.File(fname,'r')\n",
    "    def close(self):\n",
    "        self.file.close()\n",
    "    def depth(self):\n",
    "        lvls = []\n",
    "        self.walk(func=lambda x: lvls.append(len(x.indx)-1))\n",
    "        return max(lvls)\n",
    "    def compression(self):\n",
    "        leaves = self.list_leaves()\n",
    "        maxlvl = max([len(n)-1 for n in leaves])\n",
    "        npoints = 2**maxlvl * 2**maxlvl\n",
    "        return 1-len(leaves)/float(npoints)\n",
    "    def empty_leaves(self):\n",
    "        \"\"\"\n",
    "            Build a list of leaves with no data.\n",
    "        \"\"\"\n",
    "        nodes =[]\n",
    "        self.walk(func=lambda x: nodes.append(x.indx) if x.leaf and x.data is None else None)\n",
    "        return nodes\n",
    "    def list_leaves(self):\n",
    "        \"\"\"\n",
    "            Build a list of all leaves.\n",
    "        \"\"\"\n",
    "        nodes = []\n",
    "        self.walk(func=lambda x: nodes.append(x.indx))\n",
    "        return nodes\n",
    "        \n",
    "    def walk(self,**kargs):\n",
    "        \"\"\"\n",
    "            Walk the tree starting from the root.\n",
    "        \"\"\"\n",
    "        return self.root.walk(**kargs)\n",
    "    def refine(self,**kargs):\n",
    "        leaves = self.list_leaves()\n",
    "        # Reorder based on level\n",
    "        lvls = np.array([len(x) for x in leaves])\n",
    "        inds = np.argsort(lvls)[::-1]\n",
    "        leaves = list(np.array(leaves)[inds])\n",
    "        print(leaves)\n",
    "        for leaf in leaves:\n",
    "            t.find(leaf).refine(**kargs)\n",
    "        for leaf in leaves:\n",
    "            node = t.find(leaf)\n",
    "            if node.rflag:\n",
    "                _,nuppers = node.find_neighbors()\n",
    "                for upper in nuppers:\n",
    "                    n = node.find(upper)\n",
    "                    if n.leaf:\n",
    "                        n.rflag = True\n",
    "        \n",
    "    def start_refine(self):\n",
    "        for leaf in self.list_leaves():\n",
    "            node = t.find(leaf)\n",
    "            if node.rflag:\n",
    "                node.split()\n",
    "                node.rflag = False\n",
    "        # Return a list of new, empty leaves\n",
    "        return self.empty_leaves()\n",
    "                \n",
    "    def find(self,name):\n",
    "        \"\"\"\n",
    "            Find node starting from the root\n",
    "        \"\"\"\n",
    "        current_node = self.root\n",
    "        for c in name[1:]:\n",
    "            current_node = current_node.child[int(c)]\n",
    "        return current_node\n",
    "    def plot(self,fig=None,ax=None,vmin=0,vmax=180,cmap='viridis',**kargs):\n",
    "        import matplotlib.colorbar as cbar\n",
    "        import matplotlib.colors as colors\n",
    "        if ax is None:\n",
    "            fig,ax = plt.subplots()\n",
    "        norm = colors.Normalize(vmin=vmin,vmax=vmax)\n",
    "        self.root.plot(ax,norm=norm,cmap=cmap,**kargs)\n",
    "#         cax, _ = cbar.make_axes(ax) \n",
    "#         cb2 = cbar.ColorbarBase(cax,cmap=cmap,norm=norm)\n",
    "    def save(self,fname):\n",
    "        \"\"\"\n",
    "            Save the whole tree to an hdf5 file.\n",
    "        \"\"\"\n",
    "        with h5py.File(fname,'w') as f:\n",
    "            self.root.save(f)\n",
    "            \n",
    "class Data():\n",
    "    cols=['x','y','z']\n",
    "    def __init__(self,file=None,data=None):\n",
    "        if data is not None:\n",
    "            for c in self.cols:\n",
    "                setattr(self,c,getattr(data,c))\n",
    "        elif file is None:\n",
    "            for c in self.cols:\n",
    "                setattr(self,c,np.random.rand()*180.)\n",
    "        else:\n",
    "            for c in self.cols:\n",
    "                setattr(self,c,file[c][...])\n",
    "    def copy(self):\n",
    "        return Data(data=self)\n",
    "    def save(self,file):\n",
    "        grp = file.create_group('Data')\n",
    "        for c in self.cols:\n",
    "            grp.create_dataset(c,data=getattr(self,c))\n",
    "    def check_refinement(self,dat,cuttoff=100,**kargs):\n",
    "        return abs(self.x-dat.x)>cuttoff\n",
    "\n",
    "    \n",
    "class Node():\n",
    "    \"\"\"\n",
    "        Nodes either point to their children or they have no\n",
    "        children and instead hold some data.\n",
    "    \"\"\"\n",
    "    def __init__(self,indx,file=None,parent=None,data=None):\n",
    "        self.indx = indx\n",
    "        self.name = '/'.join(self.indx)\n",
    "        self.level = len(indx)-1\n",
    "        self.global_index = (0,0,0)\n",
    "        self.parent = parent\n",
    "        if parent is not None:\n",
    "            self.global_index = self.index_from_name(self.indx)\n",
    "        self.leaf = True\n",
    "        self.rflag = False\n",
    "        self.child = [None]*4\n",
    "        self.file = file\n",
    "        self.data = data\n",
    "    def save(self,file):\n",
    "        \"\"\"\n",
    "            Write this node to the hdf5 group/file.\n",
    "        \"\"\"\n",
    "        grp = file.create_group(self.indx[-1])\n",
    "        if self.leaf:\n",
    "            # We are a leaf, so we should dump our data\n",
    "            self.data.save(grp)\n",
    "        else:\n",
    "            # We are not a group, so call the children\n",
    "            for c in self.child:\n",
    "                c.save(grp)\n",
    "        return\n",
    "\n",
    "    def build(self,f):\n",
    "        \"\"\"\n",
    "            Look in the hdf5 group f for child cells\n",
    "        \"\"\"\n",
    "        \n",
    "        \n",
    "        for i in range(4):\n",
    "            try:\n",
    "                grp = f[str(i)]\n",
    "                self.leaf = False\n",
    "                self.child[i] = Node(self.indx+str(i),parent=self,file=grp)\n",
    "                self.child[i].build(grp)\n",
    "            except KeyError:\n",
    "                self.leaf = True\n",
    "                self.datastr = self.name + '/' + str(i) + '/Data'\n",
    "                self.data=Data(file=f['Data'])\n",
    "                return \n",
    "        \n",
    "        return\n",
    "    def split(self):\n",
    "        \"\"\"\n",
    "            Split the node into four children, and pass the data to the \n",
    "            first born.\n",
    "        \"\"\"\n",
    "        self.leaf=False\n",
    "        self.child[0] = Node(self.indx+'0',parent=self,data=self.data.copy())\n",
    "        for i in range(1,4):\n",
    "            self.child[i] = Node(self.indx+str(i),parent=self)\n",
    "        return\n",
    "    def name_from_index(self,k,i,j):\n",
    "        \"\"\"\n",
    "            Calculate the name of the cell corresponding to \n",
    "            global index (k,i,j)\n",
    "        \"\"\"\n",
    "        name = []\n",
    "        icurr = i\n",
    "        jcurr = j\n",
    "        for curr_level in range(k+1)[::-1]:\n",
    "            name.append(str(2*(icurr%2)+jcurr%2))\n",
    "            icurr = icurr // 2\n",
    "            jcurr = jcurr // 2\n",
    "        return ''.join(name[::-1])\n",
    "    def index_from_name(self,name):\n",
    "        \"\"\"\n",
    "            Calculate the index of the cell corresponding to \n",
    "            the given name\n",
    "        \"\"\"\n",
    "        icurr = 0\n",
    "        jcurr = 0\n",
    "        for k,c in enumerate(name):\n",
    "            icurr = 2*icurr + int(c)//2\n",
    "            jcurr = 2*jcurr + int(c)%2\n",
    "        \n",
    "        return (len(name)-1,icurr,jcurr)\n",
    "    def get_xy(self):\n",
    "        \"\"\"\n",
    "            Get the x,y coordinates on the unit square for this\n",
    "            node.\n",
    "        \"\"\"\n",
    "        k,i,j = self.global_index\n",
    "        dx = 1./2**k\n",
    "        return dx*i,dx*j\n",
    "    def set_data(self,data):\n",
    "        self.data = data.copy()\n",
    "    def get_data(self):\n",
    "        \"\"\"\n",
    "            Retrieve the data from the hdf5 file.\n",
    "        \"\"\"\n",
    "        try:\n",
    "            return self.file['Data'][...]\n",
    "        except:\n",
    "            return self.data.x\n",
    "    def plot(self,ax,**kargs):\n",
    "        \"\"\"\n",
    "            The recursive plotting function.\n",
    "            Only draw if this is a leaf.\n",
    "        \"\"\"\n",
    "        if self.leaf:\n",
    "            self.draw(ax,**kargs)\n",
    "            return\n",
    "        for c in self.child:\n",
    "            c.plot(ax,**kargs)\n",
    "    def draw(self,ax,cmap='Spectral',plot_refined=True,**kargs):\n",
    "        \"\"\"\n",
    "            Draw a rectangle for this cell and color by the given \n",
    "            data field. \n",
    "            If needed, indicate the cell is tagged for refinement.\n",
    "        \"\"\"\n",
    "        import matplotlib.cm\n",
    "        import matplotlib.patches as patches\n",
    "        import matplotlib.collections as collections\n",
    "        \n",
    "        norm = kargs.pop('norm',None)\n",
    "        try:\n",
    "            dat = self.get_data()\n",
    "            cmap = matplotlib.cm.get_cmap(cmap)\n",
    "            if norm is not None:\n",
    "                c = cmap(norm(dat))\n",
    "            else:\n",
    "                c = cmap(dat)\n",
    "        except: \n",
    "            dat = np.nan\n",
    "            c = 'w'\n",
    "        \n",
    "            \n",
    "        k,i,j=self.global_index\n",
    "        dx = 1./2**k\n",
    "        dy = dx\n",
    "        x = dx *i\n",
    "        y = dy*j\n",
    "        rect = patches.Rectangle((x,y),dx,dy)\n",
    "        ax.add_collection(collections.PatchCollection([rect],facecolor=c,edgecolor='k'))#,lw=1))\n",
    "        if plot_refined and self.rflag:\n",
    "            ax.plot(x+dx/2,y+dy/2,'ro',ms=2)\n",
    "    \n",
    "    def find(self,name):\n",
    "        \"\"\"\n",
    "           Find the next step towards the desired \n",
    "           node with name name.\n",
    "        \"\"\" \n",
    "        len_myself = len(self.indx)\n",
    "        len_name = len(name)\n",
    "        if self.indx == name:\n",
    "            # Found it!\n",
    "            #print('Node ', self.indx, ' found ',name)\n",
    "            return self\n",
    "        if len_myself < len_name:\n",
    "            if self.indx == name[:len_myself]:\n",
    "                # It's below us in the tree\n",
    "                child = name[:len_myself+1][-1]\n",
    "                #print('Node ', self.indx, ' is going to child ',child)\n",
    "                return self.down(int(child)).find(name)\n",
    "        # It's not below us, so move up\n",
    "        #print('Node ', self.indx, ' is going up to find ',name)\n",
    "\n",
    "        return self.up().find(name)\n",
    "    def refine(self,**kargs):\n",
    "        \"\"\"\n",
    "            Check neighbors to see if this node should\n",
    "            be refined.\n",
    "        \"\"\"\n",
    "        \n",
    "        # First check if already tagged\n",
    "            \n",
    "        neighbors, upper_neighbors = self.find_neighbors()\n",
    "#        print('Node ', self.indx, ' is finding',neighbors,upper_neighbors)\n",
    "#         if self.rflag:\n",
    "#             # Enforce the 2:1 balance.\n",
    "#             print('2:1 balance')\n",
    "#             for nu in upper_neighbors:\n",
    "#                 neighbor = self.find(nu)\n",
    "#                 if neighbor.leaf:\n",
    "#                     neighbor.rflag = True\n",
    "        \n",
    "        # Even if already tagged, still need to check new neighbors\n",
    "        final_list = []\n",
    "        for n,nu in zip(neighbors,upper_neighbors):\n",
    "            # First go the parent and check if it's a leaf.\n",
    "            neighbor = self.find(nu) \n",
    "            if neighbor.indx != nu:\n",
    "                print('BAD')\n",
    "            # Go to the child if needed\n",
    "            if not neighbor.leaf:\n",
    "                neighbor = neighbor.find(n)\n",
    "                if neighbor.indx != n:\n",
    "                    print('BAD')\n",
    "            final_list.append(neighbor) # Store direct links to neighbors for later\n",
    "            res = self.data.check_refinement(neighbor.data,**kargs)\n",
    "           # print(self,neighbor,res)\n",
    "            self.rflag |= res\n",
    "          #  print(self.rflag)\n",
    "        # Checked all neighbors. Broadcast result if True\n",
    "#         if self.rflag:\n",
    "#             for n,nu in zip(neighbors,upper_neighbors):\n",
    "#                 neighbor=self.find(nu)\n",
    "#                 if not neighbor.leaf:\n",
    "#                     neighbor = self.find(n)\n",
    "#                 neighbor.rflag = True\n",
    "                    \n",
    "                \n",
    "        return \n",
    "                \n",
    "        \n",
    "    def find_neighbors(self):\n",
    "        \"\"\"\n",
    "            Find the neighbors and their parents.\n",
    "        \"\"\"\n",
    "        k,i,j = self.global_index\n",
    "        max_indx = 2**k\n",
    "        max_indx_up = 2**(k-1)\n",
    "        neighbors = []\n",
    "        upper_neighbors = []\n",
    "        for di in [-1,0,1]:\n",
    "            for dj in [-1,0,1]:\n",
    "                if not (di == 0 and dj == 0): \n",
    "                    ii = i + di\n",
    "                    jj = j + dj\n",
    "                    if ii>=0 and jj>=0 and ii<max_indx and jj<max_indx:\n",
    "                        neighbors.append( self.name_from_index(k,ii,jj))\n",
    "                    iu = ii//2\n",
    "                    ju = jj//2\n",
    "                    ku = k-1\n",
    "                    if iu>=0 and ju>=0 and iu<max_indx_up and ju<max_indx_up:\n",
    "                        upper_neighbors.append(self.name_from_index(ku,iu,ju))\n",
    "        return neighbors, upper_neighbors\n",
    "    def up(self):\n",
    "        \"\"\"\n",
    "            Move up the tree\n",
    "        \"\"\"\n",
    "        return self.parent\n",
    "    def down(self,i=0):\n",
    "        \"\"\"\n",
    "            Move down the tree to child i\n",
    "        \"\"\"\n",
    "        return self.child[i] \n",
    "    def walk(self,printname=False,func=None):\n",
    "        \"\"\"\n",
    "            Recursively walk the tree, applying the function func if this\n",
    "            is a leaf.\n",
    "        \"\"\"\n",
    "        if self.leaf:\n",
    "            if func is not None:\n",
    "                func(self)\n",
    "            if printname:\n",
    "                print(self)\n",
    "            return self\n",
    "        for c in self.child:\n",
    "            c.walk(printname=printname,func=func)\n",
    "    def __repr__(self):\n",
    "        return self.indx\n",
    "    def __str__(self):\n",
    "        return self.indx\n",
    "                "
   ]
  },
  {
   "cell_type": "code",
   "execution_count": 658,
   "metadata": {},
   "outputs": [
    {
     "name": "stdout",
     "output_type": "stream",
     "text": [
      "3 7 7\n"
     ]
    }
   ],
   "source": [
    "def name_from_index(k,i,j):\n",
    "    \"\"\"\n",
    "        Calculate the name of the cell corresponding to \n",
    "        global index (k,i,j)\n",
    "    \"\"\"\n",
    "    name = []\n",
    "    icurr = i\n",
    "    jcurr = j\n",
    "    for curr_level in range(k+1)[::-1]:\n",
    "        name.append(str(2*(icurr%2)+jcurr%2))\n",
    "        icurr = icurr // 2\n",
    "        jcurr = jcurr // 2\n",
    "    return ''.join(name[::-1])\n",
    "def index_from_name(name):\n",
    "    \"\"\"\n",
    "        Calculate the index of the cell corresponding to \n",
    "        the given name\n",
    "    \"\"\"\n",
    "    icurr = 0\n",
    "    jcurr = 0\n",
    "    for k,c in enumerate(name):\n",
    "        icurr = 2*icurr + int(c)//2\n",
    "        jcurr = 2*jcurr + int(c)%2\n",
    "\n",
    "    return (len(name)-1,icurr,jcurr)\n",
    "def find_neighbors(indx):\n",
    "    \"\"\"\n",
    "        Find the neighbors and their parents.\n",
    "    \"\"\"\n",
    "    \n",
    "    k,i,j = index_from_name(indx)\n",
    "    print(k,i,j)\n",
    "    max_indx = 2**k\n",
    "    max_indx_up = 2**(k-1)\n",
    "    neighbors = []\n",
    "    upper_neighbors = []\n",
    "    for di in [-1,0,1]:\n",
    "        for dj in [-1,0,1]:\n",
    "            if not (di == 0 and dj == 0): \n",
    "                ii = i + di\n",
    "                jj = j + dj\n",
    "                if ii>=0 and jj>=0 and ii<max_indx and jj<max_indx:\n",
    "                    neighbors.append( name_from_index(k,ii,jj))\n",
    "                iu = ii//2\n",
    "                ju = jj//2\n",
    "                ku = k-1\n",
    "                if iu>=0 and ju>=0 and iu<max_indx_up and ju<max_indx_up:\n",
    "                    upper_neighbors.append(name_from_index(ku,iu,ju))\n",
    "    return neighbors, upper_neighbors\n",
    "neighbors,upper = find_neighbors('0333')"
   ]
  },
  {
   "cell_type": "code",
   "execution_count": 659,
   "metadata": {},
   "outputs": [
    {
     "name": "stdout",
     "output_type": "stream",
     "text": [
      "['0330', '0331', '0332']\n",
      "['033', '033', '033']\n",
      "[(3, 6, 6), (3, 6, 7), (3, 7, 6)]\n",
      "[(2, 3, 3), (2, 3, 3), (2, 3, 3)]\n"
     ]
    }
   ],
   "source": [
    "print(neighbors)\n",
    "print(upper)\n",
    "print([index_from_name(n) for n in neighbors])\n",
    "print([index_from_name(n) for n in upper])\n"
   ]
  },
  {
   "cell_type": "code",
   "execution_count": 925,
   "metadata": {},
   "outputs": [],
   "source": [
    "t=Tree(fname='test4.h5')"
   ]
  },
  {
   "cell_type": "code",
   "execution_count": 926,
   "metadata": {},
   "outputs": [],
   "source": [
    "t.build()"
   ]
  },
  {
   "cell_type": "code",
   "execution_count": 888,
   "metadata": {},
   "outputs": [],
   "source": [
    "t = Tree()\n",
    "t.build(data=Data())\n",
    "t.root.split()\n",
    "for c in t.empty_leaves():\n",
    "    t.find(c).set_data(Data())\n",
    "# for c in t.root.child:\n",
    "#     c.split()\n",
    "# for c in t.empty_leaves():\n",
    "#     t.find(c).set_data(Data())\n",
    "# for c in t.list_leaves():\n",
    "#     t.find(c).split()\n",
    "# for c in t.empty_leaves():\n",
    "#     t.find(c).set_data(Data())   "
   ]
  },
  {
   "cell_type": "code",
   "execution_count": 919,
   "metadata": {},
   "outputs": [
    {
     "name": "stdout",
     "output_type": "stream",
     "text": [
      "['023000001000', '021222200000', '021222200002', '021222200003', '021222200010', '021222200011', '021222200012', '021222200013', '021222200030', '021222200031', '021222200032', '021222200033', '002310000000', '002310000001', '002310000002', '002310000003', '021222223200', '021222223201', '021222223202', '021222223220', '021222223221', '021222223222', '021222223223', '021222223300', '021222223301', '021222223302', '021222223303', '021222223320', '021222223321', '021222223322', '021222223323', '021222200001', '021222223203', '023000001001', '023000001002', '023000001003', '02033313322', '00213321003', '02122222313', '00231130020', '02300000113', '02300000112', '02122222321', '02300000111', '02300000110', '02300000103', '02300000102', '02122222323', '00213321001', '00213321002', '02122222311', '00213321000', '02122222331', '02300000101', '02122222333', '02033313321', '00231130003', '00231031000', '00231031001', '00231031002', '02122222312', '02122222310', '00231031010', '02122222303', '00231130032', '00231130031', '00231130030', '00231130023', '00231130022', '00231130021', '02122222210', '02122222211', '00212333321', '02122222213', '02122222220', '02122222221', '02122222222', '02122222223', '02122222230', '02122222231', '00231013200', '00231013201', '00231013202', '00231013203', '02122222232', '02122222233', '02122222300', '02122222301', '02122222302', '00231031003', '00231031011', '00302200323', '02122223213', '02211101333', '02211101332', '02211101331', '02211101330', '02123320022', '02123320021', '02211101303', '02211101302', '02211101301', '02211101300', '02123320020', '02123320003', '02123320002', '02123320001', '02123320000', '00212333333', '00212333300', '00212333332', '00212333301', '00212333331', '00212333330', '00212333323', '00212333302', '00212333303', '00212333322', '02123320023', '02122223212', '00231031012', '02122223211', '00231031013', '02122223020', '02122223021', '00231031100', '00231031101', '00231031102', '00231031103', '00231031110', '00231031111', '00231031112', '02122223022', '02122223023', '02122223030', '02122223031', '00231031113', '02122223032', '02122223033', '00231130002', '00231130001', '00231031120', '00231031121', '00231031122', '00231031123', '00231130000', '02122223210', '00231130033', '02122222212', '00302200322', '00230133310', '00213222220', '02300011200', '02300011201', '02300011202', '02033313323', '02033313330', '00230133300', '00230133301', '00230133302', '00230133303', '00230133311', '02033331110', '00230133312', '00230133313', '02033313331', '02033313332', '02033313333', '02300001003', '02300001002', '02300001001', '02122220002', '02300001000', '00213222221', '02122202233', '02122202232', '02122202231', '02033313320', '02300000010', '02033313303', '02033313302', '02033313301', '02033313300', '02300000003', '02300000002', '02300000001', '00230111110', '00230111111', '00230111112', '00230111113', '02300000000', '00213222223', '00213222222', '02122202220', '02122202221', '02122202222', '02122202223', '02122202230', '02300000011', '02300011203', '02033331111', '02300011222', '02122220112', '02122220113', '02300011220', '02122220130', '02122220131', '02122220132', '02122220133', '02122220010', '02300011221', '02300011223', '00231000002', '00231130232', '00231130231', '00231130230', '00231130203', '00231130202', '00231130201', '00231130200', '00302200320', '00302200321', '00231000003', '00212333320', '02122220030', '00231130233', '02122220022', '02122220110', '02122220111', '02033331112', '02033331113', '02122220031', '02122220020', '02300000012', '02300000013', '00231000001', '02122220013', '02122220033', '02122220023', '02122220012', '02122220011', '02122220032', '02122220021', '0030223000', '0021313221', '0030302003', '0021313222', '0021313223', '0213203201', '0213203202', '0213203200', '0030221233', '0030302001', '0030302000', '0021313330', '0030221232', '0030221231', '0030221230', '0030300233', '0030300232', '0030300230', '0213203203', '0030223001', '0021313331', '0030300212', '0021313332', '0213203233', '0213203232', '0213203231', '0213203230', '0030302002', '0030300231', '0030300222', '0030300221', '0030300220', '0030300213', '0030300210', '0030300223', '0030223033', '0030223032', '0030223031', '0030223030', '0030223023', '0030223022', '0030223021', '0030223020', '0030223003', '0030223002', '0021313333', '0030300211', '0030220200', '0030221203', '0030220000', '0203333201', '0030220003', '0030220020', '0030220021', '0030220022', '0030220023', '0030220030', '0030220031', '0030220033', '0221111203', '0221111202', '0221111201', '0221111200', '0221111113', '0221111112', '0221111111', '0221111110', '0030220001', '0030202233', '0030221202', '0030202232', '0023323320', '0023323321', '0023323322', '0023323323', '0021322233', '0021322232', '0021322231', '0021322230', '0021322223', '0021322221', '0021322220', '0030202200', '0030202201', '0030202202', '0030202203', '0030202230', '0030202231', '0230000002', '0021313203', '0221111023', '0221111022', '0030220213', '0221110132', '0221110131', '0221110123', '0221110122', '0221110121', '0221110120', '0221110113', '0221110112', '0221110111', '0221110110', '0221110103', '0221110102', '0221110101', '0221110100', '0030221200', '0030221201', '0030220212', '0030220211', '0030220210', '0221110330', '0221111021', '0221111020', '0030220201', '0030220202', '0221110333', '0221110332', '0221110331', '0221110323', '0030220203', '0221110322', '0221110321', '0221110320', '0221110313', '0221110312', '0221110311', '0221110310', '0021313220', '0021332011', '0021313202', '0021313201', '0021211312', '0212222103', '0212222102', '0212222101', '0212222100', '0212222033', '0212222032', '0212222031', '0212222030', '0212222023', '0212222022', '0212222021', '0212222020', '0212222012', '0212222010', '0021211311', '0021211310', '0021211303', '0021211302', '0212222120', '0212222121', '0212222122', '0212222220', '0212222322', '0212222320', '0212222313', '0212222312', '0212222311', '0212222310', '0212222301', '0212222300', '0212222213', '0212222123', '0212222212', '0212222211', '0212222210', '0212222203', '0212222202', '0212222201', '0212222200', '0021211313', '0021211301', '0212220323', '0212220322', '0203333332', '0203333100', '0203333101', '0203333102', '0203333103', '0203333110', '0203333112', '0203333113', '0203333333', '0203333331', '0203331323', '0203333330', '0021332010', '0203333130', '0203333131', '0203333132', '0203333133', '0203333200', '0203333203', '0203331331', '0203331322', '0212220321', '0021013123', '0212220320', '0021211300', '0212220233', '0212220232', '0212220231', '0212220230', '0212220221', '0212220220', '0203331300', '0203331321', '0203331301', '0203331302', '0203331303', '0203331310', '0203331311', '0203331312', '0203331313', '0203331320', '0212222323', '0212222330', '0212222331', '0212332111', '0021013101', '0021013102', '0212332133', '0212332132', '0212332131', '0212332130', '0212332113', '0212332112', '0212332110', '0021013013', '0212332023', '0212332022', '0212332021', '0212332020', '0212332013', '0212332012', '0212332011', '0212332010', '0021013100', '0021013012', '0212332001', '0213200020', '0021313200', '0213200203', '0213200202', '0213200201', '0213200200', '0213200023', '0213200022', '0213200021', '0213200003', '0021013011', '0213200002', '0213200001', '0213200000', '0021013000', '0021013001', '0021013002', '0021013003', '0021013010', '0212332003', '0212330223', '0212222332', '0021013112', '0021233310', '0021233303', '0021233302', '0021233301', '0021013103', '0021233300', '0021013110', '0021013111', '0021013113', '0021233312', '0021013120', '0021013121', '0021013122', '0021211333', '0021211332', '0021211331', '0021211330', '0212222333', '0021233311', '0212321330', '0212330222', '0212323112', '0212330221', '0212330220', '0021233331', '0212323133', '0212323132', '0212323131', '0212323130', '0212323113', '0212323111', '0212321331', '0212323110', '0230000003', '0021233322', '0021233321', '0021233320', '0021233313', '0212321333', '0212321332', '0021233323', '0030220002', '0230000012', '0023112033', '0023111222', '0023111223', '0023112000', '0023112001', '0023112002', '0023112003', '0023112030', '0023112031', '0023112032', '0023112100', '0230012003', '0023112101', '0023112102', '0023112103', '0023112110', '0023112111', '0023112112', '0023112113', '0023112130', '0230000013', '0023111221', '0023111220', '0023110333', '0023110332', '0023103133', '0023110200', '0023110201', '0023110202', '0023110203', '0023110210', '0023110211', '0023110212', '0023110213', '0023110220', '0023110221', '0023110222', '0023110223', '0023110230', '0023110231', '0023110232', '0023110233', '0023110330', '0023110331', '0023112132', '0023112133', '0023112300', '0023120000', '0023120002', '0023120003', '0023120100', '0023120101', '0023120102', '0023120103', '0023120130', '0023120131', '0023120132', '0023120133', '0230012223', '0230012222', '0230012221', '0230012220', '0023122000', '0023122001', '0023122002', '0023122003', '0023122010', '0023120001', '0023113213', '0023112301', '0023113212', '0023112302', '0023112303', '0023113001', '0023113010', '0023113011', '0023113012', '0023113013', '0023113021', '0023113022', '0023113030', '0023113031', '0023113032', '0023113033', '0023113200', '0023113201', '0023113202', '0023113203', '0023113210', '0023113211', '0023103132', '0023103131', '0023103130', '0023013320', '0023013322', '0023013323', '0023013332', '0023013333', '0021330322', '0021330321', '0021330320', '0021330313', '0023031110', '0023031111', '0023031112', '0023031113', '0021330312', '0023100001', '0023100002', '0023100003', '0023100020', '0023100021', '0023100022', '0023013321', '0023013313', '0023101210', '0023013312', '0021332012', '0021332013', '0021332101', '0021332102', '0021332103', '0021330323', '0023011100', '0023011101', '0023011102', '0023011103', '0023011110', '0023011112', '0023011113', '0023013300', '0023013301', '0023013302', '0023013303', '0023013310', '0023013311', '0023100023', '0023101211', '0023103123', '0023102221', '0023102223', '0023103010', '0023103011', '0023103012', '0023103013', '0023103102', '0023103103', '0231220023', '0231220022', '0231220021', '0231220020', '0231220003', '0231220002', '0231220001', '0231220000', '0023103113', '0023103120', '0023103121', '0023103122', '0023102222', '0023102220', '0023101212', '0023102203', '0023101213', '0023101230', '0023101231', '0023101232', '0023101233', '0023101300', '0023101301', '0023101302', '0023101303', '0023101321', '0023101322', '0023101323', '0023101330', '0023101331', '0023101332', '0023101333', '0023102200', '0023102201', '0023102202', '0023122011', '0023112131', '0230012002', '0230012001', '0230001301', '0230001302', '0230001303', '0230001310', '0230001311', '0230001312', '0230001313', '0021330302', '0230001330', '0230001331', '0230001332', '0230001333', '0021330303', '0021330310', '0021330311', '0230003000', '0230003001', '0230003002', '0230003003', '0230003110', '0230003111', '0230003112', '0230003113', '0230003130', '0230003131', '0230003132', '0230003133', '0023122013', '0023122012', '0230001300', '0021330301', '0230001223', '0230001100', '0230000101', '0230000102', '0230000103', '0021330230', '0230001010', '0230001011', '0230001012', '0230001013', '0021330231', '0230001030', '0230001031', '0230001032', '0230001033', '0230001101', '0230001222', '0230001102', '0230001103', '0021330232', '0230001121', '0230001123', '0021330233', '0021330300', '0230001210', '0230001211', '0230001212', '0230001213', '0230001220', '0230001221', '0230012000', '0203333202', '002312023', '002132230', '002303133', '002333221', '002303310', '002303311', '002303312', '002303313', '002333222', '002333223', '002133000', '002310001', '002132233', '002132232', '002132231', '002310003', '002303131', '002310010', '002310011', '002310012', '002310013', '002310020', '002310021', '002310022', '002310023', '002310030', '002310031', '002310032', '002310033', '002310100', '002303132', '002303130', '003021132', '002332331', '002332020', '002332021', '002332022', '002332023', '002332300', '002332301', '002332302', '002332303', '002332320', '002332321', '002332322', '002332323', '002332330', '002323321', '002303113', '002323320', '002323313', '002323312', '002303100', '002303101', '002303102', '002303103', '002303110', '002332333', '002133002', '002133001', '002333220', '002303112', '002310101', '002310102', '002310103', '003020230', '003020221', '003020222', '002310221', '003022231', '003022232', '003022233', '003022031', '002310223', '002310230', '002310231', '002310232', '002310233', '002310300', '003020231', '002310110', '003020232', '003020233', '002310302', '002310303', '003020330', '003020331', '003020332', '003020333', '003021120', '003021121', '003021122', '003021123', '003021130', '003022230', '003022213', '002310203', '002310202', '002310111', '002310112', '002310113', '002310120', '002323311', '002323310', '003022101', '003022100', '002310122', '003022033', '003022032', '003022130', '003022131', '003022132', '003022133', '003022210', '002132221', '002310131', '002132220', '003020200', '003020201', '003020202', '003020203', '003022211', '003022212', '002310200', '002310201', '002121123', '002301323', '002301322', '002323323', '020333222', '020333221', '020333220', '020333213', '020333212', '020333211', '020333210', '002133110', '002133103', '002133102', '002133101', '002133100', '002133033', '002301100', '002301122', '002301101', '002301102', '002301103', '002323322', '002133020', '002133013', '002133012', '002133011', '002133010', '002133003', '002301112', '002301113', '002301120', '020333223', '020333230', '020333231', '020333232', '002133021', '002133022', '002133202', '002133203', '003022102', '003022121', '003022122', '002133211', '002133212', '002133213', '002133200', '002133133', '002133132', '002133131', '002133130', '002133123', '002133122', '002133121', '002133120', '002133113', '002133112', '002133111', '020333303', '020333302', '020333301', '020333300', '020333233', '002301121', '002301123', '002301321', '002121113', '020332110', '020332103', '020332102', '020332101', '020332100', '002121100', '002121101', '002121102', '002121103', '002301131', '002121110', '002121111', '002121112', '002121120', '002301130', '002121121', '002121122', '002301132', '002301133', '002301300', '002301301', '002301302', '002301303', '002301310', '002301311', '002301312', '002301313', '002301320', '020332111', '020332112', '020332113', '020332310', '020333123', '020333122', '020333121', '020333120', '020333113', '020333112', '020333111', '020333110', '020333103', '020333102', '020333101', '020333100', '020333033', '020333032', '020333031', '020333030', '020333023', '020333022', '020333021', '020333020', '020332333', '020332332', '020332331', '020332330', '020332313', '020332312', '020332311', '003021131', '003021133', '002312022', '003200002', '003200230', '003200203', '002311233', '002313120', '002313113', '003200202', '003200201', '003200200', '003200033', '003200032', '003200031', '003200030', '003200003', '002313112', '003200232', '002313111', '003030011', '003030012', '003030013', '003030020', '002313110', '002312103', '002312102', '002311310', '002311311', '002311312', '003200001', '002311313', '003200231', '003200233', '003021200', '002131111', '002311220', '002311221', '002130202', '002130203', '002311222', '002311223', '003030001', '003030002', '002131110', '003030003', '003030010', '002311231', '002311232', '002131112', '003200300', '002131113', '002131120', '002131121', '002131122', '002131123', '002131210', '002131211', '002131212', '002131213', '002131230', '003200303', '003200302', '003200301', '002312101', '002312100', '002313033', '003030211', '002312001', '002312002', '002312003', '002312211', '002312210', '002312203', '002312202', '002312011', '002312012', '002132200', '002132201', '003030213', '003030212', '003030210', '003200000', '003030203', '003030202', '003030201', '002312033', '002312032', '002312031', '002312030', '003030033', '003030032', '003030031', '003030030', '002312020', '002312021', '002312212', '002312213', '002312300', '002131332', '002131231', '002313032', '002313031', '002313030', '002312303', '002131232', '002131233', '002131300', '002131301', '002131302', '002131303', '002131310', '002131311', '002131312', '002131313', '002312302', '002311322', '002311323', '002311330', '002131321', '002311331', '002311332', '002311333', '002312301', '002131323', '002131330', '002131331', '002313121', '002313122', '002313123', '020110000', '020110100', '002311001', '002311002', '002311003', '002311010', '002311011', '020110013', '020110012', '020110011', '020110010', '020110003', '020110002', '020110001', '002123300', '003021310', '002123301', '002123302', '002123303', '002123310', '002123311', '002123312', '002123313', '002123320', '002311012', '002123321', '002123322', '002123323', '002311013', '003022103', '020110102', '020110103', '020110110', '003021201', '003021202', '003021203', '003021210', '003021211', '003021212', '002310320', '002310321', '002310322', '002310323', '002121132', '002310330', '002310331', '002310332', '002310333', '002121310', '002121311', '002121312', '002121313', '020111103', '020111102', '020111101', '020111100', '002311000', '020110113', '020110112', '020110111', '003021213', '003021311', '002313300', '002130023', '003022322', '003022011', '003022012', '002311201', '002311202', '003022323', '002130000', '002130001', '002130002', '002130003', '002130020', '002130021', '002130022', '002130200', '003021312', '002130201', '003022330', '003022331', '003022332', '003022013', '003022333', '002132203', '002132202', '003030000', '002313303', '002313302', '002313301', '002311212', '003022321', '002311133', '002311132', '002311131', '003021313', '003022030', '003022023', '003022022', '003022301', '003022001', '002312133', '002312132', '002312131', '002312130', '002312123', '002312122', '002311030', '002311031', '002311032', '002312121', '002312120', '003022310', '003022311', '002311120', '002311121', '003022312', '003022010', '003022313', '003022320', '002311123', '002311130', '020110101', '020333312', '020333321', '021231132', '021232331', '021232330', '002101032', '002101031', '002101030', '021232312', '021232310', '023001202', '023001201', '023001023', '023001022', '023001021', '023120220', '023120221', '023120222', '021232132', '021232131', '021232130', '023120223', '023001020', '023001003', '023001002', '022110110', '022110111', '023122001', '021232332', '002101033', '021232333', '021233120', '023001223', '002101133', '002101132', '021233210', '021233203', '002101131', '021233123', '002101130', '002101123', '021233122', '021233121', '023001221', '023001203', '002101122', '002101121', '002101120', '021233033', '021233032', '021233031', '021233030', '021233023', '021233021', '023001220', '021233020', '021231133', '021231131', '002101211', '021231130', '022111002', '021231103', '021231102', '021231101', '021231100', '022111003', '022111020', '000330133', '000330132', '022111021', '022111023', '022111030', '000330131', '022111100', '000330130', '022111101', '022111103', '022111110', '022111112', '022111113', '022111121', '022111122', '022111123', '022111200', '022111201', '022111001', '000330300', '000330301', '023001001', '023122003', '021231113', '021231112', '021231111', '021231110', '022110112', '023122020', '023122021', '023122022', '023122023', '022110113', '023001000', '000330302', '023000333', '022110310', '022110311', '022110312', '022110313', '000331003', '000331002', '000331001', '000331000', '022111000', '000330303', '002101210', '002101212', '022111203', '023033010', '021320303', '021320302', '021320301', '021320300', '021320233', '021320232', '021320231', '021320230', '023031332', '021320213', '021320212', '021320211', '021320210', '023031333', '021322133', '023003003', '023033000', '021320023', '021320022', '021320021', '023033001', '021320003', '021320001', '002101302', '023033002', '023031331', '023031330', '021322132', '021322112', '002101213', '021320333', '021320332', '021322100', '021322101', '021322102', '021322103', '021322110', '021320331', '021320330', '021322111', '023031200', '021322131', '023031201', '021320322', '021320321', '023031202', '023031203', '021322113', '023031230', '023031231', '023031232', '023031233', '021322130', '023033003', '021302223', '023002110', '021302222', '023003001', '021233302', '021322320', '021322321', '021322322', '021322323', '023003000', '023033330', '023033331', '023033332', '021233301', '021233300', '021233233', '023033333', '021233232', '021233231', '021233230', '021233223', '021233222', '021233221', '021233220', '023002113', '023002112', '021233212', '023002111', '021233303', '021322303', '023033133', '023033111', '021302221', '021302220', '023033011', '023033012', '023033013', '023003002', '021322300', '021322301', '002101303', '021233333', '023033110', '021233332', '023033132', '021233331', '021233330', '021233323', '021233322', '021233321', '021233320', '023033112', '023033113', '021322302', '023033130', '023033131', '022111202', '022111022', '022111210', '023000120', '023000210', '023000203', '023000202', '023000201', '023000200', '023000132', '023000123', '021222333', '023000113', '023000212', '023000111', '023000102', '023000100', '000310300', '000310301', '000310302', '002110203', '002110202', '023000211', '023000213', '022111332', '023000303', '023231230', '023231231', '023000312', '023000310', '023231232', '023231233', '023231300', '023231301', '023231302', '020333322', '002103320', '020333332', '023000302', '023000301', '023231330', '023231331', '023231332', '023231333', '002110201', '002110200', '000310303', '002110013', '002101331', '002101332', '002101333', '000313130', '002110023', '002110022', '002110021', '002110020', '002110012', '000310310', '002110011', '002110010', '002110003', '002110002', '002110001', '002110000', '002103323', '002103322', '000313131', '023000002', '023000003', '000310313', '000310311', '000313133', '002101323', '002101330', '021213333', '021213332', '023000033', '023000032', '023000031', '023000030', '021213331', '021213330', '000310312', '023000013', '023000012', '023000011', '000313132', '022111333', '023231303', '002103321', '021222003', '021222031', '021222030', '021222021', '023213222', '023213221', '021222020', '022111300', '021222002', '020333330', '021222001', '023213220', '022111221', '021222000', '002101313', '023213203', '023213202', '020333331', '022111233', '021222320', '021222213', '023213233', '022111222', '022111223', '021222303', '021222302', '021222301', '021222300', '023213230', '021222033', '020333323', '021222211', '022111230', '023213223', '023000332', '022111231', '022111232', '023213231', '023213201', '002101320', '023231012', '023231001', '023231002', '021222330', '023231003', '021222331', '023231010', '023231011', '023231013', '023231000', '022111310', '022111311', '022111312', '022111313', '021222332', '022111330', '022111331', '002101321', '022111211', '022111303', '022111212', '002101322', '023000331', '021222321', '021222322', '021222323', '023000330', '023213200', '022111301', '022111302', '022111220', '022111213', '023213232', '00120202', '02300302', '00120201', '02301110', '02301103', '02300301', '00013322', '02301102', '02301101', '02301010', '02301011', '02301012', '00213231', '02301013', '00213232', '00213233', '00233333', '00233332', '00233331', '00233330', '02301100', '00233323', '00233321', '00233320', '00122003', '00122002', '00122001', '00122000', '00120223', '02300303', '00120222', '00120221', '00013323', '00120203', '00120220', '02300203', '00233231', '00231332', '00231313', '00231320', '00231321', '00231322', '00231323', '00231331', '00231333', '00120200', '02300123', '00120000', '02300200', '02300201', '02300202', '02300210', '02300022', '02300023', '02300121', '00120001', '02300103', '00231310', '02300101', '00231222', '00231223', '02300032', '00231231', '00231232', '00231302', '00231233', '00231300', '02301112', '00231301', '00231211', '02300212', '02300213', '00120020', '00233223', '00233222', '00233221', '00233220', '00233213', '00233212', '00233211', '00233210', '00233203', '00120023', '00120022', '00233201', '00233200', '00120021', '00120003', '00232310', '00120002', '00013000', '00232333', '02300002', '00232330', '00232323', '00013321', '00232322', '00232321', '00232320', '00232313', '00232312', '00013320', '00232311', '02301111', '02310001', '02301113', '00230301', '00230332', '00230330', '02323131', '02323132', '00230312', '00032331', '00032330', '02323300', '02323301', '02323302', '02323303', '00230303', '00230302', '00230300', '00031331', '02323310', '02323311', '02323312', '02323313', '02323330', '02323331', '02323332', '02323333', '02330000', '02330001', '02330002', '02330003', '00031333', '00230333', '02323122', '02323121', '02323120', '02321303', '02321310', '02321311', '02321312', '02321313', '02321321', '02321330', '02321331', '02321332', '02321333', '00033010', '00033003', '00033002', '00033001', '00033000', '02323010', '02323011', '02323012', '02323013', '00032333', '00032332', '02323102', '02323103', '02323110', '02323111', '02323112', '02323113', '00031332', '00031330', '02321301', '00031013', '00230103', '00230102', '00230101', '00230100', '00031102', '00031101', '00031100', '00031033', '00031032', '00031023', '00031022', '00031021', '00031020', '00031012', '00031323', '00013302', '00213333', '00213332', '00213331', '00213330', '00213323', '00213322', '00031011', '00031010', '00031003', '00031002', '00031001', '00031000', '00031103', '00031120', '00031121', '00031122', '00031322', '00031321', '02332020', '02332021', '02332022', '02332023', '00031320', '02332200', '02332201', '02332202', '02332203', '00230123', '00230122', '00230121', '00230120', '02332220', '02332221', '02332222', '02332223', '00031312', '00031311', '00031310', '00031233', '00031232', '00031231', '00031230', '00031123', '02321302', '02321300', '00102233', '02310011', '02303312', '02303320', '02303321', '02303322', '02303323', '02303330', '02303331', '02303332', '02310000', '00300210', '02310002', '02310003', '02310010', '00231111', '02310122', '00231110', '02310012', '02310013', '00033303', '02310100', '02310101', '02310102', '02310103', '02310110', '02310111', '02310112', '02310113', '02310120', '02303310', '02303303', '02303302', '02303213', '00102232', '00102231', '00102230', '00102213', '00102212', '00102211', '00102210', '02303010', '02303011', '02303012', '02303013', '02303030', '02303031', '02303032', '02303033', '02303100', '02303101', '02303102', '02303103', '02303121', '02303122', '02303130', '02303131', '02303132', '02303210', '02303211', '02303212', '02310121', '02310123', '02321233', '00033020', '02312212', '02312213', '02312220', '02312221', '02312222', '02312223', '00033101', '00033033', '00033032', '00033031', '00033023', '00033022', '00033021', '02321110', '00033302', '02321111', '02321112', '02321113', '00231021', '00033012', '02321210', '02321211', '02321212', '02321213', '00033011', '02321230', '02321231', '02321232', '02312211', '02312210', '02312203', '02312201', '00033301', '00033300', '00033233', '00033232', '00033231', '00033230', '00033223', '00033222', '00033221', '00033220', '00033123', '00033122', '00033121', '02312010', '02312011', '02312012', '02312013', '02312020', '02312021', '02312023', '00033120', '00033103', '02312120', '02312121', '02312122', '02312123', '00033102', '00213230', '00302102', '00213023', '02123212', '00212323', '02123112', '02123130', '00013030', '00013031', '00013032', '02123131', '02123132', '02123133', '02121322', '02123210', '02123211', '02123220', '00212321', '00013033', '02123221', '02123222', '02123223', '02123230', '00013100', '00013101', '00013102', '00013103', '00013130', '00013131', '02121321', '00212322', '00212320', '02033301', '00212302', '02123101', '02123102', '02123103', '02033232', '02121330', '02121323', '00212300', '00212301', '02010133', '02010132', '02010131', '02010130', '02010113', '00212313', '02010112', '02010111', '02010110', '02010103', '02010102', '02010101', '02010100', '00212303', '00212310', '00212311', '00212312', '00013013', '02033300', '02123232', '02011002', '00320102', '00213113', '00213120', '00320213', '00320212', '00320211', '00320210', '00320203', '00320202', '00320201', '00320200', '00213122', '00320103', '00320101', '00322000', '00320100', '00320033', '00320032', '00320031', '02123331', '00320022', '00320021', '02130220', '02130221', '00320013', '00320012', '00320011', '00013301', '00322001', '00013132', '00213030', '02123300', '02123301', '00013133', '02123310', '00213001', '00013300', '02123311', '00213003', '02121320', '02123313', '00213021', '00213022', '00213031', '00322002', '00213032', '00322233', '00322232', '00322231', '00322230', '00213033', '00213100', '00213101', '00213102', '00213103', '00213110', '00322003', '02123100', '02011003', '00320002', '00211322', '02032132', '02032131', '02032130', '02122021', '02122020', '02032103', '02032102', '02032101', '02032100', '02033212', '00211320', '00211321', '00211323', '02122022', '02031323', '02031322', '02031321', '02031320', '00211330', '02031303', '02031302', '02031301', '02031300', '00211331', '00211332', '02031213', '02032133', '02122023', '02031211', '02033032', '02033131', '02033132', '02033133', '02033200', '02033201', '02033202', '02033122', '02033121', '02033120', '00211203', '00211210', '02033033', '02033031', '00211223', '02033203', '02033030', '02033023', '02033022', '02033021', '02033020', '00211211', '00211212', '00211213', '00211220', '00211221', '00211222', '02031212', '02031210', '02122323', '02121331', '02011302', '02011301', '02011300', '00212132', '00212133', '02011113', '02011112', '02011111', '02011103', '02011102', '02011101', '02011100', '02011023', '00212130', '02011022', '02011021', '02011020', '02011013', '02011012', '02122310', '02122311', '02122312', '02122313', '02122320', '02122321', '02122322', '02011303', '00212123', '00211333', '02122201', '02033213', '02031123', '02031122', '02031121', '02031120', '00211202', '02033230', '02121332', '00212100', '00212101', '00212102', '00212103', '00013011', '02011330', '02122210', '02122211', '02122212', '00013012', '02122213', '02122231', '00212120', '00212121', '00212122', '02011333', '02011332', '02011331', '02033123', '00320010', '00320001', '00302010', '02211300', '00302032', '00302031', '00302030', '02211301', '02211302', '02211303', '02211310', '02211311', '02211312', '02211313', '00211010', '00211011', '00211012', '02033320', '00211013', '00211021', '00211022', '00302021', '00132333', '00132332', '00132331', '00132330', '00302013', '00302012', '00211003', '00210333', '02211213', '00302132', '00210323', '02211010', '02211012', '02211013', '02130223', '02211030', '00302211', '02211032', '02211033', '02211113', '00302133', '00302130', '00302100', '00302123', '00302122', '02211132', '00210331', '02211210', '02211211', '02211212', '00302111', '00302110', '00302103', '00302101', '00302011', '00302003', '00013303', '00302002', '02100020', '00211201', '02100003', '00300333', '00300332', '02100002', '00300331', '00300330', '00300323', '00300322', '02100001', '00300321', '00300320', '02100000', '00300233', '00300232', '00300231', '00300230', '00300223', '00300222', '00300221', '00300220', '00300213', '00300212', '00300211', '02100021', '02100022', '02100023', '00301300', '00302001', '00302000', '00213221', '00211023', '00301313', '00301312', '00301311', '00301310', '00301303', '00301302', '00301301', '00301233', '00211200', '00301232', '00301231', '00301230', '00301223', '00301222', '00301221', '00301220', '02100103', '02100102', '02100101', '02100100', '00210322', '00210330', '00210321', '02132120', '00213200', '00213201', '00213202', '00213203', '00213210', '00213211', '00210301', '00303203', '00303202', '00303201', '00303200', '00210302', '00210303', '00210320', '00213213', '00303033', '00303032', '00210310', '00303031', '00303030', '00303023', '00303022', '00210123', '00310010', '00310011', '00210300', '00310122', '02132001', '02132003', '02132010', '02132011', '02132012', '02132013', '02132020', '02132022', '02132031', '00310123', '00310121', '00310012', '00310120', '00310113', '00310112', '00310111', '00310110', '00310103', '00310102', '00310101', '00310100', '00310013', '00210122', '00213212', '02132121', '02132321', '00302322', '00302321', '00302320', '02132122', '00302303', '00302302', '00302301', '00302300', '02132300', '02132301', '02132302', '02132303', '02132320', '02132322', '02132231', '02132323', '00210120', '00013002', '00210111', '00013001', '00210110', '00210102', '00302222', '00210101', '00210100', '00210312', '00210313', '00302220', '00302323', '02132233', '00303012', '00303011', '02132123', '02132200', '02132201', '00013003', '00013010', '02132202', '02132203', '00303013', '00210311', '02033130', '00303010', '02132223', '02132212', '02132220', '02132222', '02132221', '0021103', '0003130', '0003010', '0003011', '0021021', '0021022', '0021023', '0003012', '0021111', '0021110', '0003030', '0003013', '0003111', '0003031', '0003032', '0003033', '0021112', '0003113', '0003120', '0003121', '0021020', '0003122', '0021113', '0012311', '0003210', '0013223', '0013231', '0012010', '0012003', '0012001', '0013232', '0013300', '0013301', '0013302', '0013303', '0013310', '0013311', '0013312', '0013313', '0013320', '0013321', '0013322', '0013323', '0001331', '0021000', '0013230', '0013222', '0021002', '0013221', '0012233', '0012232', '0012231', '0012230', '0012203', '0012202', '0012201', '0012312', '0012313', '0012023', '0012021', '0012330', '0012331', '0012332', '0012013', '0012012', '0012011', '0012333', '0013220', '0021001', '0021003', '0003211', '0003311', '0021222', '0021221', '0021220', '0021203', '0021202', '0021201', '0021200', '0021131', '0021130', '0021123', '0003232', '0003231', '0003230', '0003223', '0003222', '0003221', '0003220', '0003213', '0003212', '0021223', '0003313', '0010233', '0003320', '0010232', '0010231', '0010230', '0010222', '0010220', '0010213', '0010212', '0010211', '0010210', '0010203', '0010202', '0010201', '0010200', '0003333', '0003332', '0003331', '0012310', '0021301', '0003321', '0001322', '0001333', '0212201', '0210222', '0232120', '0232122', '0210303', '0210302', '0210301', '0210300', '0210233', '0210232', '0210231', '0210230', '0210223', '0210221', '0210031', '0210220', '0232300', '0210203', '0210202', '0210201', '0210200', '0232302', '0232303', '0232320', '0232321', '0210033', '0232113', '0232112', '0232110', '0232103', '0212320', '0212312', '0212303', '0212302', '0212301', '0212300', '0212233', '0212230', '0212213', '0212212', '0212211', '0212210', '0212203', '0212200', '0212131', '0212130', '0212123', '0212122', '0212121', '0212120', '0232100', '0232101', '0232102', '0210032', '0210030', '0213021', '0203031', '0203122', '0203120', '0203113', '0203111', '0203110', '0203103', '0203102', '0203101', '0203100', '0203033', '0203032', '0203023', '0210023', '0203022', '0203021', '0203020', '0232323', '0232332', '0233001', '0233002', '0233003', '0233020', '0233021', '0233022', '0203123', '0203131', '0203133', '0203200', '0210022', '0210021', '0210020', '0210013', '0210012', '0210011', '0210003', '0210001', '0203322', '0203311', '0203310', '0203301', '0203300', '0203233', '0203232', '0203231', '0203230', '0232322', '0203212', '0203211', '0203203', '0203202', '0203201', '0213020', '0213023', '0201313', '0230311', '0230122', '0230123', '0222202', '0222201', '0222200', '0230130', '0230131', '0230132', '0230133', '0230300', '0230302', '0230320', '0221213', '0230322', '0230323', '0231002', '0231003', '0221233', '0221232', '0221231', '0221230', '0221223', '0221222', '0221221', '0222203', '0222210', '0222211', '0222212', '0230011', '0230013', '0230022', '0230023', '0230031', '0230032', '0222333', '0222332', '0222331', '0222330', '0230033', '0222303', '0222302', '0222301', '0222300', '0230100', '0230102', '0230103', '0230112', '0230113', '0230120', '0230121', '0222213', '0221220', '0221212', '0213030', '0231223', '0231102', '0231103', '0231200', '0231203', '0231210', '0231211', '0231213', '0213323', '0213322', '0213321', '0213320', '0231230', '0221211', '0213233', '0213231', '0213213', '0213211', '0213210', '0231231', '0231232', '0231233', '0213033', '0213032', '0213031', '0221010', '0221011', '0221012', '0221013', '0221210', '0231013', '0221133', '0221132', '0221123', '0221122', '0221120', '0221102', '0221100', '0231020', '0231021', '0231022', '0231023', '0231030', '0231031', '0221023', '0231032', '0231033', '0231100', '0231101', '0221022', '0221021', '0221020', '0233023', '0203030', '0032011', '0023310', '0032013', '0032012', '0023230', '0001030', '0001023', '0023300', '0001022', '0001021', '0001020', '0023301', '0023302', '0023303', '0031103', '0031102', '0031101', '0031100', '0031033', '0031032', '0031031', '0031030', '0031023', '0032022', '0032023', '0023223', '0032201', '0032232', '0032230', '0032222', '0032221', '0032220', '0023212', '0023213', '0032203', '0032202', '0023220', '0023222', '0023221', '0032103', '0032102', '0032101', '0032100', '0032033', '0032032', '0032031', '0032030', '0031022', '0023311', '0023210', '0031021', '0030111', '0030110', '0030103', '0030102', '0030101', '0030100', '0030031', '0030030', '0030020', '0030013', '0030012', '0030011', '0030010', '0030003', '0030002', '0030001', '0030000', '0023331', '0023330', '0023312', '0023313', '0030112', '0030113', '0030120', '0030323', '0031020', '0031013', '0031003', '0031002', '0031000', '0030333', '0030332', '0030331', '0030330', '0030322', '0030121', '0030321', '0030313', '0030312', '0030311', '0030310', '0030233', '0030231', '0030133', '0030132', '0023211', '0032231', '0201122', '0001231', '0200012', '0200011', '0200010', '0001233', '0201112', '0122223', '0122222', '0122221', '0023032', '0122220', '0201113', '0122203', '0122202', '0122201', '0122200', '0201123', '0022320', '0200013', '0233200', '0233223', '0201001', '0201032', '0201031', '0201030', '0233201', '0201012', '0201003', '0201002', '0201000', '0200100', '0001302', '0233203', '0201132', '0233221', '0200103', '0200102', '0200101', '0001232', '0201120', '0201103', '0201131', '0001120', '0022322', '0022323', '0201312', '0023000', '0023001', '0023002', '0001033', '0001032', '0001031', '0023003', '0023020', '0023021', '0023022', '0023023', '0032233', '0201121', '0001121', '0001122', '0001123', '0001211', '0201310', '0001311', '0001312', '0001230', '0022321', '0001213', '0001212', '0001210', '0001130', '0201311', '0001133', '0001320', '0001321', '0001132', '0001323', '0001131', '0201033', '000302', '000300', '000233', '000231', '000230', '001013', '000232', '023023', '000010', '001033', '001032', '001031', '000011', '000012', '023022', '023021', '023020', '001030', '000013', '001011', '001012', '023303', '001010', '001003', '032032', '032031', '032030', '023220', '023221', '023222', '023223', '000110', '000111', '000120', '000122', '030003', '030002', '030001', '030000', '023323', '023321', '022322', '023313', '023312', '023311', '023301', '023310', '032033', '032100', '023203', '000100', '001002', '001001', '001000', '023111', '023112', '023113', '000030', '000031', '000032', '000033', '000101', '023202', '023130', '000320', '023131', '023132', '032103', '032102', '023133', '032101', '023200', '023201', '022323', '002210', '022321', '022320', '020121', '020120', '020102', '020013', '020012', '020011', '020003', '020002', '020000', '012223', '012221', '012203', '012202', '012201', '012200', '010223', '010222', '010221', '010220', '020122', '020123', '020130', '020300', '021031', '021021', '021013', '021012', '021011', '021010', '020322', '020301', '020233', '020132', '020232', '020231', '020230', '020213', '020212', '020211', '020210', '020133', '010203', '010202', '010201', '002320', '003130', '003123', '003122', '003121', '003120', '003113', '003112', '003111', '002233', '003132', '002231', '002230', '002223', '002222', '002221', '002220', '002213', '002212', '003131', '003133', '010200', '003303', '003333', '003332', '003331', '003330', '003313', '003312', '003311', '003310', '003302', '003212', '003301', '003300', '003233', '003232', '003231', '003230', '003221', '003213', '021032', '021033', '021100', '022130', '022211', '022210', '022203', '001232', '022202', '022201', '022200', '022133', '001300', '001301', '001302', '001303', '001310', '001311', '001312', '001313', '001320', '001321', '022132', '022212', '001230', '022213', '022232', '022313', '022312', '022311', '022310', '022303', '022302', '022301', '022300', '022231', '001222', '001203', '001210', '001211', '001212', '001213', '022223', '022222', '001221', '021101', '022131', '022120', '001333', '021313', '021312', '021311', '021310', '021301', '021300', '002211', '021211', '021210', '021203', '021202', '021201', '021200', '021113', '021112', '021111', '021110', '021103', '021102', '021330', '021331', '021333', '022010', '022103', '002010', '002011', '002012', '002013', '002030', '002031', '002032', '002033', '022100', '022033', '022032', '022031', '022030', '022013', '022012', '022011', '003211', '00002', '00020', '00000', '00021', '02233', '03133', '03132', '03131', '03130', '03033', '03032', '03031', '03030', '03023', '03022', '03021', '03020', '03003', '03002', '00022', '03200', '03201', '03202', '03231', '03313', '03312', '03311', '03310', '03233', '03232', '03230', '03211', '03223', '03222', '03221', '03220', '03213', '03212', '02333', '03001', '02202', '01202', '02200', '01023', '01021', '01003', '01002', '01001', '01000', '00332', '00220', '00202', '00200', '00113', '00112', '00111', '00110', '01201', '01200', '01203', '02113', '02112', '02022', '02020', '01221', '01223', '02003', '02002', '0332', '0301', '0330', '0333', '0312', '0123', '0121', '0101', '0310', '0311', '0103', '011', '013']\n"
     ]
    }
   ],
   "source": [
    "nodes=t.refine(cuttoff=150);"
   ]
  },
  {
   "cell_type": "code",
   "execution_count": 927,
   "metadata": {
    "scrolled": false
   },
   "outputs": [
    {
     "data": {
      "image/png": "[encoded data removed]",
      "text/plain": [
       "<matplotlib.figure.Figure at 0x7f6ee4bf2b70>"
      ]
     },
     "metadata": {},
     "output_type": "display_data"
    }
   ],
   "source": [
    "fig,ax=plt.subplots(figsize=(8,8))\n",
    "t.plot(fig=fig,ax=ax)\n",
    "ax.set_xlim(0,1)\n",
    "ax.set_ylim(0,1)\n",
    "fig.savefig('test4.png')"
   ]
  },
  {
   "cell_type": "code",
   "execution_count": 920,
   "metadata": {},
   "outputs": [
    {
     "name": "stdout",
     "output_type": "stream",
     "text": [
      "12 0.9996743202209473\n"
     ]
    }
   ],
   "source": [
    "t.start_refine()\n",
    "for c in t.empty_leaves():\n",
    "    t.find(c).set_data(Data())\n",
    "print(t.depth(),t.compression())"
   ]
  },
  {
   "cell_type": "code",
   "execution_count": 923,
   "metadata": {},
   "outputs": [],
   "source": [
    "t.save('test4.h5')"
   ]
  },
  {
   "cell_type": "code",
   "execution_count": 781,
   "metadata": {},
   "outputs": [],
   "source": [
    "t2.close()\n",
    "t2=Tree(fname='test3.h5')\n",
    "t2.build()"
   ]
  },
  {
   "cell_type": "code",
   "execution_count": 783,
   "metadata": {},
   "outputs": [
    {
     "data": {
      "text/plain": [
       "128"
      ]
     },
     "execution_count": 783,
     "metadata": {},
     "output_type": "execute_result"
    }
   ],
   "source": [
    "2**t2.depth()"
   ]
  },
  {
   "cell_type": "code",
   "execution_count": 744,
   "metadata": {},
   "outputs": [
    {
     "data": {
      "image/png": "[encoded data removed]",
      "text/plain": [
       "<matplotlib.figure.Figure at 0x7f6f2e6d7470>"
      ]
     },
     "metadata": {},
     "output_type": "display_data"
    }
   ],
   "source": [
    "fig,ax=plt.subplots(figsize=(8,8))\n",
    "t2.plot(fig=fig,ax=ax)\n",
    "fig.tight_layout()\n",
    "fig.savefig('test.png',bbox_inches='tight')"
   ]
  },
  {
   "cell_type": "code",
   "execution_count": 29,
   "metadata": {},
   "outputs": [],
   "source": [
    "leaves = ['0101', '101011', '12102','10203','10304','02','0992']\n",
    "lvls = np.array([len(x) for x in leaves])\n",
    "maxlvl = lvls.max()\n",
    "inds = np.argsort(lvls)[::-1]\n",
    "leaves = list(np.array(leaves)[inds])\n",
    "lvls = list(lvls[inds])"
   ]
  },
  {
   "cell_type": "code",
   "execution_count": 32,
   "metadata": {},
   "outputs": [
    {
     "data": {
      "text/plain": [
       "(['101011', '10304', '10203', '12102', '0992', '0101', '02'],\n",
       " [6, 5, 5, 5, 4, 4, 2],\n",
       " 6)"
      ]
     },
     "execution_count": 32,
     "metadata": {},
     "output_type": "execute_result"
    }
   ],
   "source": [
    "leaves,lvls,maxlvl"
   ]
  },
  {
   "cell_type": "code",
   "execution_count": 19,
   "metadata": {},
   "outputs": [
    {
     "data": {
      "text/plain": [
       "(array([1, 4, 3, 2, 6, 0, 5]), array([6, 5, 5, 5, 4, 4, 2]))"
      ]
     },
     "execution_count": 19,
     "metadata": {},
     "output_type": "execute_result"
    }
   ],
   "source": [
    "np.argsort(lvls)[::-1],np.sort(lvls)[::-1]"
   ]
  },
  {
   "cell_type": "code",
   "execution_count": 42,
   "metadata": {},
   "outputs": [
    {
     "ename": "AttributeError",
     "evalue": "'Tree' object has no attribute 'fname'",
     "output_type": "error",
     "traceback": [
      "\u001b[0;31m---------------------------------------------------------------------------\u001b[0m",
      "\u001b[0;31mAttributeError\u001b[0m                            Traceback (most recent call last)",
      "\u001b[0;32m<ipython-input-42-c3fd0fa01d4c>\u001b[0m in \u001b[0;36m<module>\u001b[0;34m()\u001b[0m\n\u001b[1;32m      1\u001b[0m \u001b[0mt\u001b[0m \u001b[0;34m=\u001b[0m \u001b[0mTree\u001b[0m\u001b[0;34m(\u001b[0m\u001b[0;34m)\u001b[0m\u001b[0;34m\u001b[0m\u001b[0m\n\u001b[0;32m----> 2\u001b[0;31m \u001b[0mt\u001b[0m\u001b[0;34m.\u001b[0m\u001b[0mbuild\u001b[0m\u001b[0;34m(\u001b[0m\u001b[0;34m)\u001b[0m\u001b[0;34m\u001b[0m\u001b[0m\n\u001b[0m",
      "\u001b[0;32m<ipython-input-39-5c3b8961e3bc>\u001b[0m in \u001b[0;36mbuild\u001b[0;34m(self)\u001b[0m\n\u001b[1;32m     23\u001b[0m             \u001b[0mBuild\u001b[0m \u001b[0mthe\u001b[0m \u001b[0mtree\u001b[0m \u001b[0;32mfrom\u001b[0m \u001b[0mthe\u001b[0m \u001b[0mhdf5\u001b[0m \u001b[0mfile\u001b[0m\u001b[0;34m\u001b[0m\u001b[0m\n\u001b[1;32m     24\u001b[0m         \"\"\"\n\u001b[0;32m---> 25\u001b[0;31m         \u001b[0;32mif\u001b[0m \u001b[0mself\u001b[0m\u001b[0;34m.\u001b[0m\u001b[0mfname\u001b[0m \u001b[0;32mis\u001b[0m \u001b[0;32mNone\u001b[0m\u001b[0;34m:\u001b[0m\u001b[0;34m\u001b[0m\u001b[0m\n\u001b[0m\u001b[1;32m     26\u001b[0m             \u001b[0mself\u001b[0m\u001b[0;34m.\u001b[0m\u001b[0mroot\u001b[0m \u001b[0;34m=\u001b[0m \u001b[0mNode\u001b[0m\u001b[0;34m(\u001b[0m\u001b[0;34m'0'\u001b[0m\u001b[0;34m)\u001b[0m\u001b[0;34m\u001b[0m\u001b[0m\n\u001b[1;32m     27\u001b[0m             \u001b[0;32mreturn\u001b[0m\u001b[0;34m\u001b[0m\u001b[0m\n",
      "\u001b[0;31mAttributeError\u001b[0m: 'Tree' object has no attribute 'fname'"
     ]
    }
   ],
   "source": [
    "t = Tree()\n",
    "t.build()"
   ]
  },
  {
   "cell_type": "code",
   "execution_count": 41,
   "metadata": {},
   "outputs": [
    {
     "ename": "AttributeError",
     "evalue": "'Tree' object has no attribute 'root'",
     "output_type": "error",
     "traceback": [
      "\u001b[0;31m---------------------------------------------------------------------------\u001b[0m",
      "\u001b[0;31mAttributeError\u001b[0m                            Traceback (most recent call last)",
      "\u001b[0;32m<ipython-input-41-7d4674a699e8>\u001b[0m in \u001b[0;36m<module>\u001b[0;34m()\u001b[0m\n\u001b[0;32m----> 1\u001b[0;31m \u001b[0mt\u001b[0m\u001b[0;34m.\u001b[0m\u001b[0mroot\u001b[0m\u001b[0;34m\u001b[0m\u001b[0m\n\u001b[0m",
      "\u001b[0;31mAttributeError\u001b[0m: 'Tree' object has no attribute 'root'"
     ]
    }
   ],
   "source": [
    "t.root"
   ]
  },
  {
   "cell_type": "code",
   "execution_count": null,
   "metadata": {},
   "outputs": [],
   "source": []
  },
  {
   "cell_type": "code",
   "execution_count": null,
   "metadata": {},
   "outputs": [],
   "source": []
  },
  {
   "cell_type": "code",
   "execution_count": null,
   "metadata": {},
   "outputs": [],
   "source": []
  },
  {
   "cell_type": "code",
   "execution_count": null,
   "metadata": {},
   "outputs": [],
   "source": []
  },
  {
   "cell_type": "code",
   "execution_count": 199,
   "metadata": {},
   "outputs": [
    {
     "data": {
      "image/png": "[encoded data removed]",
      "text/plain": [
       "<matplotlib.figure.Figure at 0x151eebf60>"
      ]
     },
     "metadata": {},
     "output_type": "display_data"
    }
   ],
   "source": [
    "t = Tree(fname='test.h5')\n",
    "t.build()\n",
    "fig,ax=plt.subplots(figsize=(8,8))\n",
    "t.root.plot(ax)\n",
    "ax.tick_params(axis='both',which='both',top='off',right='off',left='off',bottom='off',labelbottom='off',labelleft='off')\n",
    "ax.set_aspect('equal')\n",
    "fig.tight_layout()\n",
    "#fig.savefig('ex5.png',bbox_inches='tight')"
   ]
  },
  {
   "cell_type": "code",
   "execution_count": 252,
   "metadata": {},
   "outputs": [],
   "source": [
    "t.close()\n",
    "t = Tree(fname='test.h5')\n",
    "t.build()"
   ]
  },
  {
   "cell_type": "code",
   "execution_count": 253,
   "metadata": {},
   "outputs": [],
   "source": [
    "nodes = t.list_leaves()"
   ]
  },
  {
   "cell_type": "code",
   "execution_count": 254,
   "metadata": {},
   "outputs": [],
   "source": [
    "res = t.find('033201')\n",
    "n1,n2 = res.find_neighbors()"
   ]
  },
  {
   "cell_type": "code",
   "execution_count": 256,
   "metadata": {},
   "outputs": [
    {
     "name": "stdout",
     "output_type": "stream",
     "text": [
      "033201\n",
      "['03302', '03302', '03303', '03320', '03320', '03321', '03320', '03320', '03321']\n",
      "['033022', '033023', '033032', '033200', '033201', '033210', '033202', '033203', '033212']\n"
     ]
    }
   ],
   "source": [
    "print(res)\n",
    "print(n2)\n",
    "print(n1)"
   ]
  },
  {
   "cell_type": "code",
   "execution_count": 259,
   "metadata": {},
   "outputs": [
    {
     "name": "stdout",
     "output_type": "stream",
     "text": [
      "033201\n",
      "03302 None\n",
      "03302 None\n",
      "03303 None\n",
      "03320 03320\n",
      "03320 03320\n",
      "03321 03321\n",
      "03320 03320\n",
      "03320 03320\n",
      "03321 03321\n"
     ]
    }
   ],
   "source": [
    "print(res)\n",
    "for i in n2:\n",
    "    n = t.find(i)\n",
    "    print(i,n)\n",
    "\n"
   ]
  },
  {
   "cell_type": "code",
   "execution_count": 263,
   "metadata": {},
   "outputs": [
    {
     "name": "stdout",
     "output_type": "stream",
     "text": [
      "True\n"
     ]
    }
   ],
   "source": [
    "print(t.find('0330'))"
   ]
  },
  {
   "cell_type": "code",
   "execution_count": 242,
   "metadata": {},
   "outputs": [
    {
     "name": "stdout",
     "output_type": "stream",
     "text": [
      "0.875 0.78125\n",
      "(5, 28, 25)\n"
     ]
    },
    {
     "data": {
      "text/plain": [
       "[<matplotlib.lines.Line2D at 0x109dcd860>]"
      ]
     },
     "execution_count": 242,
     "metadata": {},
     "output_type": "execute_result"
    },
    {
     "data": {
      "image/png": "[encoded data removed]",
      "text/plain": [
       "<matplotlib.figure.Figure at 0x10a295550>"
      ]
     },
     "metadata": {},
     "output_type": "display_data"
    }
   ],
   "source": [
    "fig,ax=plt.subplots()\n",
    "res = t.find('033201')\n",
    "x,y = res.get_xy()\n",
    "print(x,y)\n",
    "print(res.global_index,)\n",
    "res.plot(ax)\n",
    "ax.plot(x,y,'ko')"
   ]
  },
  {
   "cell_type": "code",
   "execution_count": null,
   "metadata": {},
   "outputs": [],
   "source": []
  }
 ],
 "metadata": {
  "kernelspec": {
   "display_name": "Python 3",
   "language": "python",
   "name": "python3"
  },
  "language_info": {
   "codemirror_mode": {
    "name": "ipython",
    "version": 3
   },
   "file_extension": ".py",
   "mimetype": "text/x-python",
   "name": "python",
   "nbconvert_exporter": "python",
   "pygments_lexer": "ipython3",
   "version": "3.5.3"
  }
 },
 "nbformat": 4,
 "nbformat_minor": 2
}
