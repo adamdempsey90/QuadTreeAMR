{
 "cells": [
  {
   "cell_type": "code",
   "execution_count": 51,
   "metadata": {},
   "outputs": [],
   "source": [
    "import numpy as np\n",
    "import itertools\n",
    "import h5py"
   ]
  },
  {
   "cell_type": "code",
   "execution_count": 130,
   "metadata": {},
   "outputs": [],
   "source": []
  },
  {
   "cell_type": "code",
   "execution_count": 22,
   "metadata": {},
   "outputs": [
    {
     "name": "stdout",
     "output_type": "stream",
     "text": [
      "['0', '00', '01', '02', '03']\n"
     ]
    }
   ],
   "source": [
    "items = []\n",
    "def addGroup(name,obj):\n",
    "    if isinstance(obj,h5py.Group):\n",
    "        items.append(addGroup)\n",
    "with h5py.File('test.h5','r') as f:\n",
    "    f.visititems(func)\n",
    "    \n",
    "print([''.join(x.split('/')) for x in items])\n",
    "#print([''.join(x.split('/')[1:])  for x in items if 'Data' not in x])"
   ]
  },
  {
   "cell_type": "code",
   "execution_count": 104,
   "metadata": {},
   "outputs": [],
   "source": [
    "\n",
    "class Data():\n",
    "    def __init__(self,data=None):\n",
    "        self.copy(data)\n",
    "    \n",
    "    def copy(self,data):\n",
    "        if data is None:\n",
    "            self.data = np.zeros((4,))\n",
    "        else:\n",
    "            self.data = data.data.copy()\n",
    "class Node():\n",
    "    def __init__(self,indx,parent=None,data=None):\n",
    "        self.indx = indx\n",
    "        self.level = len(indx)-1\n",
    "        self.global_index = (0,0,0)\n",
    "        self.parent = parent\n",
    "        if parent is not None:\n",
    "            self.global_index = self.calc_global_index(*parent.global_index)\n",
    "        self.leaf = True\n",
    "        self.child = [None]*4\n",
    "        \n",
    "        self.data = Data(data)\n",
    "    def calc_global_index(self,k,i,j):\n",
    "        \"\"\"\n",
    "        Calculate the global index for the cell given (k,i,j).\n",
    "        (k,i,j) can either be from the level above or the level below\n",
    "        \"\"\"\n",
    "        if k==self.level:\n",
    "            # Same level\n",
    "            return (k,i,j)\n",
    "        elif k < self.level:\n",
    "            # Going from coarser level\n",
    "            inew = 2*i + i//2\n",
    "            jnew = 2*j + j%2\n",
    "            return (k+1,inew,jnew)\n",
    "        else:\n",
    "            # Going from finer level\n",
    "            inew = i // 2\n",
    "            jnew = j // 2\n",
    "            return (k-1,inew,jnew)\n",
    "    def name_from_index(self,k,i,j):\n",
    "        \"\"\"\n",
    "        Calculate the name of the cell corresponding to \n",
    "        global index (k,i,j)\n",
    "        \"\"\"\n",
    "        name = []\n",
    "        icurr = i\n",
    "        jcurr = j\n",
    "        for curr_level in range(k+1)[::-1]:\n",
    "            name.append(str(2*(icurr%2)+jcurr%2))\n",
    "            icurr = icurr // 2\n",
    "            jcurr = jcurr // 2\n",
    "        return ''.join(name[::-1])\n",
    "    def index_from_name(self,name):\n",
    "        \"\"\"\n",
    "        Calculate the index of the cell corresponding to \n",
    "        the given name\n",
    "        \"\"\"\n",
    "        icurr = 0\n",
    "        jcurr = 0\n",
    "        for k,c in enumerate(name):\n",
    "            icurr = 2*icurr + int(c)//2\n",
    "            jcurr = 2*jcurr + int(c)%2\n",
    "        \n",
    "        return (len(name)-1,icurr,jcurr)\n",
    "            \n",
    "            \n",
    "    def split(self):\n",
    "        self.leaf = False\n",
    "        for i in range(4):\n",
    "            name = self.indx + str(i)\n",
    "            self.child[i] = Node(name,self)\n",
    "        return self.child\n",
    "    def find_neighbors(self):\n",
    "        \"\"\"Start with neighbors on same level\"\"\"\n",
    "        myindx = self.global_index\n",
    "        n_name = []\n",
    "        n_name_upper = []\n",
    "        for i in range([-1,0,1]):\n",
    "            for j in range([-1,0,1]):\n",
    "                if ~((i==0)&(j==0)):\n",
    "                    nindx = (myindx[0], myindx[1]+i,myindx[2]+j)\n",
    "                    nindx_upper = (nindx[0]-1,nindx[1]//2,nindx[2]//2)\n",
    "                    n_name.append( self.name_from_index(nindx))\n",
    "                    n_name_upper.append(self.name_from_index( nindx_upper))\n",
    "        return n_name, n_name_upper\n",
    "    def eval_neighbors(self,neighbors,neighbors_upper,cuttof=10.):\n",
    "        res = False\n",
    "        for n,nu in zip(neighbors,neighbors_upper):\n",
    "            node = self.find(nu)\n",
    "            if node.leaf:\n",
    "                res |= (node.compare(self) or node.r_flag)\n",
    "            else:\n",
    "                res |= (node.child[int(n[-1])].compare(self) or node.r_flag)\n",
    "        return res\n",
    "    def check_refinement(self,cuttoff=10.):\n",
    "        neighbors, neighbors_upper = self.find_neighbors()\n",
    "        self.refine = self.eval_neighbors(neighbors,neighbors_upper,cuttoff=cuttoff)\n",
    "        return self.refine\n",
    "    def compare(self,node,cuttoff=10.):\n",
    "        return abs(self.data.data[0] - node.data.data[0]) < cuttoff \n",
    "    def find(self,name):\n",
    "    \"\"\"\n",
    "       Find the next step towards the desired \n",
    "       node with name name.\n",
    "    \"\"\" \n",
    "        len_myself = len(self.indx)\n",
    "        len_name = len(name)\n",
    "        if self.indx == name:\n",
    "            # Found it!\n",
    "            return self\n",
    "        if len_myself < len_name:\n",
    "            if self.indx == name[:len_myself]:\n",
    "                # It's below us in the tree\n",
    "                child = name[:len_myself+1][-1]\n",
    "                return self.down(int(child)).find(name)\n",
    "        # It's not below us, so move up\n",
    "        return self.up().find(name)\n",
    "        \n",
    "    def up(self):\n",
    "        return self.parent\n",
    "    def down(self,i=0):\n",
    "        return self.child[i] \n",
    "    def walk(self):\n",
    "        if self.leaf:\n",
    "            return self\n",
    "        for c in self.child:\n",
    "            return c.walk()\n",
    "    def save(self,f):\n",
    "        f.create_dataset('Data',data=self.data)\n",
    "        if not self.leaf:\n",
    "            for i,c in enumerate(self.child):\n",
    "                grp = f.create_group(str(i))\n",
    "                c.save(grp)\n",
    "        \n",
    "    def __repr__(self):\n",
    "        return self.indx\n",
    "    def __str__(self):\n",
    "        return self.indx"
   ]
  },
  {
   "cell_type": "code",
   "execution_count": 100,
   "metadata": {},
   "outputs": [],
   "source": [
    "root = [Node('0')]\n",
    "root.append(root[0].split())\n",
    "for i in range(7):\n",
    "    root.append(list(itertools.chain.from_iterable([x.split() for x in root[-1]])))\n",
    "    \n"
   ]
  },
  {
   "cell_type": "code",
   "execution_count": 154,
   "metadata": {},
   "outputs": [
    {
     "name": "stdout",
     "output_type": "stream",
     "text": [
      "1: 0 -> 1\n",
      "1: 1 -> 0\n",
      "1: 2 -> 3\n",
      "1: 3 -> 2\n",
      "2: 0 -> 2\n",
      "2: 1 -> 3\n",
      "2: 2 -> 0\n",
      "2: 3 -> 1\n",
      "3: 0 -> 3\n",
      "3: 1 -> 2\n",
      "3: 2 -> 1\n",
      "3: 3 -> 0\n"
     ]
    }
   ],
   "source": [
    "for j in range(1,4):\n",
    "    for i in range(4):\n",
    "        print('{:d}: {:d} -> {:d}'.format(j,i,i^j))"
   ]
  },
  {
   "cell_type": "code",
   "execution_count": 164,
   "metadata": {},
   "outputs": [
    {
     "name": "stdout",
     "output_type": "stream",
     "text": [
      "0 -> 0\n",
      "1 -> 0\n",
      "2 -> 1\n",
      "3 -> 1\n"
     ]
    }
   ],
   "source": [
    "for i in range(4):\n",
    "    print('{:d} -> {:d}'.format(i,i//2))"
   ]
  },
  {
   "cell_type": "code",
   "execution_count": 170,
   "metadata": {},
   "outputs": [
    {
     "name": "stdout",
     "output_type": "stream",
     "text": [
      "(4,16,16) -> (3,8,8)\n",
      "(4,16,17) -> (3,8,9)\n",
      "(4,17,16) -> (3,9,8)\n",
      "(4,17,17) -> (3,9,9)\n"
     ]
    }
   ],
   "source": [
    "for indx in [ (2**4,2**4),(2**4,2**4+1),(2**4+1,2**4),(2**4+1,2**4+1)]:\n",
    "    print('({:d},{:d},{:d}) -> ({:d},{:d},{:d})'.format(4,indx[0],indx[1],3,indx[0]//2 + indx[0]%2,indx[1]//2 + indx[1]%2))"
   ]
  },
  {
   "cell_type": "code",
   "execution_count": 181,
   "metadata": {},
   "outputs": [
    {
     "name": "stdout",
     "output_type": "stream",
     "text": [
      "(16, 16) [0, 0] 0\n",
      "(16, 17) [0, 1] 1\n",
      "(17, 16) [1, 0] 2\n",
      "(17, 17) [1, 1] 3\n"
     ]
    }
   ],
   "source": [
    "for indx in [ (2**4,2**4),(2**4,2**4+1),(2**4+1,2**4),(2**4+1,2**4+1)]:\n",
    "    print(indx,[x%2 for x in indx],2*(indx[0]%2)+indx[1]%2)"
   ]
  },
  {
   "cell_type": "code",
   "execution_count": 186,
   "metadata": {},
   "outputs": [
    {
     "name": "stdout",
     "output_type": "stream",
     "text": [
      "(5, 14, 7)\n",
      "(4, 7, 3)\n",
      "(3, 3, 1)\n",
      "(2, 1, 0)\n",
      "(1, 0, 0)\n",
      "(0, 0, 0)\n",
      "002331\n"
     ]
    }
   ],
   "source": [
    "k,i,j = (5,14,7)\n",
    "name = []\n",
    "icurr = i\n",
    "jcurr = j\n",
    "for curr_level in range(k+1)[::-1]:\n",
    "    print((curr_level,icurr,jcurr))\n",
    "    name.append(str(2*(icurr%2)+jcurr%2))\n",
    "    icurr = icurr // 2\n",
    "    jcurr = jcurr // 2\n",
    "print(''.join(name[::-1]))"
   ]
  },
  {
   "cell_type": "code",
   "execution_count": 195,
   "metadata": {},
   "outputs": [
    {
     "name": "stdout",
     "output_type": "stream",
     "text": [
      "6\n",
      "(0, 0, 0)\n",
      "(1, 0, 0)\n",
      "(2, 1, 0)\n",
      "(3, 3, 1)\n",
      "(4, 7, 3)\n",
      "(5, 14, 7)\n"
     ]
    }
   ],
   "source": [
    "icurr = 0\n",
    "jcurr = 0\n",
    "print(len('002331'))\n",
    "for k,c in enumerate('002331'):\n",
    "    icurr = 2*icurr + int(c)//2\n",
    "    jcurr = 2*jcurr + int(c)%2\n",
    "    print((k,icurr,jcurr))"
   ]
  },
  {
   "cell_type": "code",
   "execution_count": 40,
   "metadata": {},
   "outputs": [
    {
     "data": {
      "text/plain": [
       "[000,\n",
       " 001,\n",
       " 002,\n",
       " 003,\n",
       " 010,\n",
       " 011,\n",
       " 012,\n",
       " 013,\n",
       " 020,\n",
       " 021,\n",
       " 022,\n",
       " 023,\n",
       " 030,\n",
       " 031,\n",
       " 032,\n",
       " 033]"
      ]
     },
     "execution_count": 40,
     "metadata": {},
     "output_type": "execute_result"
    }
   ],
   "source": [
    "list(itertools.chain.from_iterable(l2))"
   ]
  },
  {
   "cell_type": "code",
   "execution_count": 196,
   "metadata": {},
   "outputs": [],
   "source": [
    "n1 = '002331'\n",
    "n0 = '00201'"
   ]
  },
  {
   "cell_type": "code",
   "execution_count": 219,
   "metadata": {},
   "outputs": [
    {
     "data": {
      "text/plain": [
       "['', '31']"
      ]
     },
     "execution_count": 219,
     "metadata": {},
     "output_type": "execute_result"
    }
   ],
   "source": [
    "n1.split('0023')"
   ]
  },
  {
   "cell_type": "code",
   "execution_count": 220,
   "metadata": {},
   "outputs": [
    {
     "data": {
      "text/plain": [
       "[('0', True), ('00', True), ('002', True), ('0020', False), ('00201', False)]"
      ]
     },
     "execution_count": 220,
     "metadata": {},
     "output_type": "execute_result"
    }
   ],
   "source": [
    "[(n0[:i],(n0[:i] in n1)) for i in range(1,len(n0)+1)]"
   ]
  },
  {
   "cell_type": "code",
   "execution_count": 217,
   "metadata": {},
   "outputs": [
    {
     "data": {
      "text/plain": [
       "('0020', '1')"
      ]
     },
     "execution_count": 217,
     "metadata": {},
     "output_type": "execute_result"
    }
   ],
   "source": [
    "n0[:-1],n0[-1]"
   ]
  },
  {
   "cell_type": "code",
   "execution_count": 2,
   "metadata": {},
   "outputs": [
    {
     "name": "stdout",
     "output_type": "stream",
     "text": [
      "0\n",
      "0\n",
      "2\n",
      "3\n"
     ]
    }
   ],
   "source": [
    "for c in '0023':\n",
    "    print(c)"
   ]
  },
  {
   "cell_type": "code",
   "execution_count": 28,
   "metadata": {},
   "outputs": [],
   "source": [
    "file = h5py.File('test.h5','r')"
   ]
  },
  {
   "cell_type": "code",
   "execution_count": 145,
   "metadata": {},
   "outputs": [],
   "source": [
    "def make_node(f,level):\n",
    "    if level > 10:\n",
    "        f.create_dataset('Data',data=np.random.rand(4,))\n",
    "        return\n",
    "    if np.random.rand() < .3:\n",
    "        f.create_dataset('Data',data=np.random.rand(4,))\n",
    "    else:\n",
    "        for i in range(4):\n",
    "            grp = f.create_group(str(i))\n",
    "            make_node(grp,level+1)\n",
    "    return\n",
    "    \n",
    "with h5py.File('test5.h5','w') as f:\n",
    "    root = f.create_group('0')\n",
    "    level = 0\n",
    "    for i in range(4):\n",
    "        grp = root.create_group(str(i))\n",
    "        make_node(grp,level+1)\n",
    "        \n",
    "       \n",
    "\n",
    "            "
   ]
  },
  {
   "cell_type": "code",
   "execution_count": 251,
   "metadata": {},
   "outputs": [],
   "source": [
    "class Tree():\n",
    "    def __init__(self,fname=None):\n",
    "        \"\"\"\n",
    "            Initialize a tree from the hdf5 file fname\n",
    "        \"\"\"\n",
    "        try:\n",
    "            self.open(fname)\n",
    "            \n",
    "        except OSError:\n",
    "            print('File not found')\n",
    "            self.file = None\n",
    "    \n",
    "    def build(self):\n",
    "        \"\"\"Build the tree from the hdf5 file\"\"\"\n",
    "        name,obj =  list(self.file.items())[0]\n",
    "        self.root = Node('0')\n",
    "        self.root.build(obj)\n",
    "            \n",
    "    def open(self,fname):\n",
    "        self.file = h5py.File(fname,'r')\n",
    "    def close(self):\n",
    "        self.file.close()\n",
    "        self.file = None\n",
    "    def list_leaves(self):\n",
    "        nodes = []\n",
    "        self.walk(func=lambda x: nodes.append(x.indx))\n",
    "        return nodes\n",
    "        \n",
    "    def walk(self,**kargs):\n",
    "        return self.root.walk(**kargs)\n",
    "    def find(self,name):\n",
    "        \"\"\"\n",
    "            Find node starting from the root\n",
    "        \"\"\"\n",
    "        current_node = self.root\n",
    "        for c in name[1:]:\n",
    "            current_node = current_node.child[int(c)]\n",
    "        return current_node\n",
    "#     def save(self,fname):\n",
    "#         with h5py.File(fname,'w') as f:\n",
    "#             grp = f.create_group('0')\n",
    "#             self.root.save(grp)\n",
    "class Node():\n",
    "    def __init__(self,indx,file=None,parent=None,data=None):\n",
    "        self.indx = indx\n",
    "        self.name = '/'.join(self.indx)\n",
    "        self.level = len(indx)-1\n",
    "        self.global_index = (0,0,0)\n",
    "        self.parent = parent\n",
    "        if parent is not None:\n",
    "            self.global_index = self.index_from_name(self.indx)\n",
    "        self.leaf = False\n",
    "        self.rflag = False\n",
    "        self.child = [None]*4\n",
    "        self.file = file\n",
    "        self.datastr = None\n",
    "    def get_xy(self):\n",
    "        k,i,j = self.global_index\n",
    "        dx = 1./2**k\n",
    "        return dx*i,dx*j\n",
    "    def build(self,f):\n",
    "        \"\"\"Look in the hdf5 group f for child cells\"\"\"\n",
    "        for name,obj in f.items():\n",
    "            if isinstance(obj,h5py.Group):\n",
    "                # This is a node\n",
    "                self.child[int(name)] = Node(self.indx+name,parent=self,file=obj)\n",
    "                self.child[int(name)].build(obj)\n",
    "            elif isinstance(obj,h5py.Dataset):\n",
    "                # This is a leaf\n",
    "                self.leaf = True\n",
    "                self.datastr = self.name + '/' + name\n",
    "            else:\n",
    "                # Something went wrong, as there's nothing in this group\n",
    "                print('?')\n",
    "                return\n",
    "        return\n",
    "    def name_from_index(self,k,i,j):\n",
    "        \"\"\"\n",
    "        Calculate the name of the cell corresponding to \n",
    "        global index (k,i,j)\n",
    "        \"\"\"\n",
    "        name = []\n",
    "        icurr = i\n",
    "        jcurr = j\n",
    "        for curr_level in range(k+1)[::-1]:\n",
    "            name.append(str(2*(icurr%2)+jcurr%2))\n",
    "            icurr = icurr // 2\n",
    "            jcurr = jcurr // 2\n",
    "        return ''.join(name[::-1])\n",
    "    def index_from_name(self,name):\n",
    "        \"\"\"\n",
    "        Calculate the index of the cell corresponding to \n",
    "        the given name\n",
    "        \"\"\"\n",
    "        icurr = 0\n",
    "        jcurr = 0\n",
    "        for k,c in enumerate(name):\n",
    "            icurr = 2*icurr + int(c)//2\n",
    "            jcurr = 2*jcurr + int(c)%2\n",
    "        \n",
    "        return (len(name)-1,icurr,jcurr)\n",
    "    def get_data(self):\n",
    "        return self.file['Data'][...]\n",
    "    def plot(self,ax,**kargs):\n",
    "        if self.leaf:\n",
    "            self.draw(ax,**kargs)\n",
    "            return\n",
    "        for c in self.child:\n",
    "            c.plot(ax,**kargs)\n",
    "    def draw(self,ax,cmap='Spectral',plot_refined=True,**kargs):\n",
    "        cmap = matplotlib.cm.get_cmap(cmap)\n",
    "        dat = self.get_data()[0]\n",
    "        k,i,j=self.global_index\n",
    "        dx = 1./2**k\n",
    "        dy = dx\n",
    "        x = dx *i\n",
    "        y = dy*j\n",
    "        rect = Rectangle((x,y),dx,dy)\n",
    "        ax.add_collection(PatchCollection([rect],facecolor=cmap(dat)))\n",
    "        if plot_refined and self.rflag:\n",
    "            ax.plot(x+dx/2,y+dy/2,'ro',ms=2)\n",
    "    \n",
    "    def find(self,name):\n",
    "        \"\"\"\n",
    "           Find the next step towards the desired \n",
    "           node with name name.\n",
    "        \"\"\" \n",
    "        len_myself = len(self.indx)\n",
    "        len_name = len(name)\n",
    "        if self.indx == name:\n",
    "            # Found it!\n",
    "            return self\n",
    "        if len_myself < len_name:\n",
    "            if self.indx == name[:len_myself]:\n",
    "                # It's below us in the tree\n",
    "                child = name[:len_myself+1][-1]\n",
    "                return self.down(int(child)).find(name)\n",
    "        # It's not below us, so move up\n",
    "        return self.up().find(name)     \n",
    "    def find_neighbors(self):\n",
    "        \"\"\"Start with neighbors on same level\"\"\"\n",
    "        myindx = self.global_index\n",
    "        n_name = []\n",
    "        n_name_upper = []\n",
    "        for i in [-1,0,1]:\n",
    "            for j in [-1,0,1]:\n",
    "                if ~((i==0)&(j==0)):\n",
    "                    nindx = (myindx[0], myindx[1]+i,myindx[2]+j)\n",
    "                    nindx_upper = (nindx[0]-1,nindx[1]//2,nindx[2]//2)\n",
    "                    n_name.append( self.name_from_index(*nindx))\n",
    "                    n_name_upper.append(self.name_from_index( *nindx_upper))\n",
    "        return n_name, n_name_upper\n",
    "    def up(self):\n",
    "        return self.parent\n",
    "    def down(self,i=0):\n",
    "        return self.child[i] \n",
    "    def walk(self,printname=False,func=None):\n",
    "        if self.leaf:\n",
    "            if func is not None:\n",
    "                func(self)\n",
    "            if printname:\n",
    "                print(self)\n",
    "            return self\n",
    "        for c in self.child:\n",
    "            c.walk(printname=printname,func=func)\n",
    "    def __repr__(self):\n",
    "        return self.indx\n",
    "    def __str__(self):\n",
    "        return self.indx\n",
    "                "
   ]
  },
  {
   "cell_type": "code",
   "execution_count": 199,
   "metadata": {},
   "outputs": [
    {
     "data": {
      "image/png": "[encoded data removed]",
      "text/plain": [
       "<matplotlib.figure.Figure at 0x151eebf60>"
      ]
     },
     "metadata": {},
     "output_type": "display_data"
    }
   ],
   "source": [
    "t = Tree(fname='test.h5')\n",
    "t.build()\n",
    "fig,ax=plt.subplots(figsize=(8,8))\n",
    "t.root.plot(ax)\n",
    "ax.tick_params(axis='both',which='both',top='off',right='off',left='off',bottom='off',labelbottom='off',labelleft='off')\n",
    "ax.set_aspect('equal')\n",
    "fig.tight_layout()\n",
    "#fig.savefig('ex5.png',bbox_inches='tight')"
   ]
  },
  {
   "cell_type": "code",
   "execution_count": 252,
   "metadata": {},
   "outputs": [],
   "source": [
    "t.close()\n",
    "t = Tree(fname='test.h5')\n",
    "t.build()"
   ]
  },
  {
   "cell_type": "code",
   "execution_count": 253,
   "metadata": {},
   "outputs": [],
   "source": [
    "nodes = t.list_leaves()"
   ]
  },
  {
   "cell_type": "code",
   "execution_count": 254,
   "metadata": {},
   "outputs": [],
   "source": [
    "res = t.find('033201')\n",
    "n1,n2 = res.find_neighbors()"
   ]
  },
  {
   "cell_type": "code",
   "execution_count": 256,
   "metadata": {},
   "outputs": [
    {
     "name": "stdout",
     "output_type": "stream",
     "text": [
      "033201\n",
      "['03302', '03302', '03303', '03320', '03320', '03321', '03320', '03320', '03321']\n",
      "['033022', '033023', '033032', '033200', '033201', '033210', '033202', '033203', '033212']\n"
     ]
    }
   ],
   "source": [
    "print(res)\n",
    "print(n2)\n",
    "print(n1)"
   ]
  },
  {
   "cell_type": "code",
   "execution_count": 259,
   "metadata": {},
   "outputs": [
    {
     "name": "stdout",
     "output_type": "stream",
     "text": [
      "033201\n",
      "03302 None\n",
      "03302 None\n",
      "03303 None\n",
      "03320 03320\n",
      "03320 03320\n",
      "03321 03321\n",
      "03320 03320\n",
      "03320 03320\n",
      "03321 03321\n"
     ]
    }
   ],
   "source": [
    "print(res)\n",
    "for i in n2:\n",
    "    n = t.find(i)\n",
    "    print(i,n)\n",
    "\n"
   ]
  },
  {
   "cell_type": "code",
   "execution_count": 263,
   "metadata": {},
   "outputs": [
    {
     "name": "stdout",
     "output_type": "stream",
     "text": [
      "True\n"
     ]
    }
   ],
   "source": [
    "print(t.find('0330'))"
   ]
  },
  {
   "cell_type": "code",
   "execution_count": 242,
   "metadata": {},
   "outputs": [
    {
     "name": "stdout",
     "output_type": "stream",
     "text": [
      "0.875 0.78125\n",
      "(5, 28, 25)\n"
     ]
    },
    {
     "data": {
      "text/plain": [
       "[<matplotlib.lines.Line2D at 0x109dcd860>]"
      ]
     },
     "execution_count": 242,
     "metadata": {},
     "output_type": "execute_result"
    },
    {
     "data": {
      "image/png": "[encoded data removed]",
      "text/plain": [
       "<matplotlib.figure.Figure at 0x10a295550>"
      ]
     },
     "metadata": {},
     "output_type": "display_data"
    }
   ],
   "source": [
    "fig,ax=plt.subplots()\n",
    "res = t.find('033201')\n",
    "x,y = res.get_xy()\n",
    "print(x,y)\n",
    "print(res.global_index,)\n",
    "res.plot(ax)\n",
    "ax.plot(x,y,'ko')"
   ]
  },
  {
   "cell_type": "code",
   "execution_count": null,
   "metadata": {},
   "outputs": [],
   "source": []
  }
 ],
 "metadata": {
  "kernelspec": {
   "display_name": "Python 3",
   "language": "python",
   "name": "python3"
  },
  "language_info": {
   "codemirror_mode": {
    "name": "ipython",
    "version": 3
   },
   "file_extension": ".py",
   "mimetype": "text/x-python",
   "name": "python",
   "nbconvert_exporter": "python",
   "pygments_lexer": "ipython3",
   "version": "3.5.2"
  }
 },
 "nbformat": 4,
 "nbformat_minor": 2
}
