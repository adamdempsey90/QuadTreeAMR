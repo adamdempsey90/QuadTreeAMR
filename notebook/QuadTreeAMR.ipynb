{
 "cells": [
  {
   "cell_type": "code",
   "execution_count": 39,
   "metadata": {},
   "outputs": [],
   "source": [
    "import numpy as np\n",
    "import itertools\n",
    "import h5py"
   ]
  },
  {
   "cell_type": "code",
   "execution_count": 104,
   "metadata": {},
   "outputs": [],
   "source": [
    "def Tree():\n",
    "    def __init__(self):\n",
    "        self.root = Node('0')\n",
    "    \n",
    "    def find_node(self,name):\n",
    "        current_node = self.root\n",
    "        for c in name:\n",
    "            current_node = current_node.child[int(c)]\n",
    "        return current_node\n",
    "    def walk(self):\n",
    "        return self.root.walk()\n",
    "    def save(self,fname):\n",
    "        with h5py.File(fname,'w') as f:\n",
    "            grp = f.create_group('0')\n",
    "            self.root.save(grp)\n",
    "            \n",
    "class Node():\n",
    "    def __init__(self,indx,parent=None):\n",
    "        self.indx = indx\n",
    "        self.level = len(indx)-1\n",
    "        self.global_index = (0,0,0)\n",
    "        self.parent = parent\n",
    "        if parent is not None:\n",
    "            self.global_index = self.calc_global_index(*parent.global_index)\n",
    "        self.leaf = True\n",
    "        self.child = [None]*4\n",
    "        \n",
    "        self.data = np.zeros((4,))\n",
    "    def calc_global_index(self,k,i,j):\n",
    "        \"\"\"\n",
    "        Calculate the global index for the cell given (k,i,j).\n",
    "        (k,i,j) can either be from the level above or the level below\n",
    "        \"\"\"\n",
    "        if k==self.level:\n",
    "            # Same level\n",
    "            return (k,i,j)\n",
    "        elif k < self.level:\n",
    "            # Going from coarser level\n",
    "            inew = 2*i + i//2\n",
    "            jnew = 2*j + j%2\n",
    "            return (k+1,inew,jnew)\n",
    "        else:\n",
    "            # Going from finer level\n",
    "            inew = i // 2\n",
    "            jnew = j // 2\n",
    "            return (k-1,inew,jnew)\n",
    "    def name_from_index(self,k,i,j):\n",
    "        \"\"\"\n",
    "        Calculate the name of the cell corresponding to \n",
    "        global index (k,i,j)\n",
    "        \"\"\"\n",
    "        name = []\n",
    "        icurr = i\n",
    "        jcurr = j\n",
    "        for curr_level in range(k+1)[::-1]:\n",
    "            name.append(str(2*(icurr%2)+jcurr%2))\n",
    "            icurr = icurr // 2\n",
    "            jcurr = jcurr // 2\n",
    "        return ''.join(name[::-1])\n",
    "    def index_from_name(self,name):\n",
    "        \"\"\"\n",
    "        Calculate the index of the cell corresponding to \n",
    "        the given name\n",
    "        \"\"\"\n",
    "        icurr = 0\n",
    "        jcurr = 0\n",
    "        for k,c in enumerate(name):\n",
    "            icurr = 2*icurr + int(c)//2\n",
    "            jcurr = 2*jcurr + int(c)%2\n",
    "        \n",
    "        return (len(name)-1,icurr,jcurr)\n",
    "            \n",
    "            \n",
    "    def split(self):\n",
    "        self.leaf = False\n",
    "        for i in range(4):\n",
    "            name = self.indx + str(i)\n",
    "            self.child[i] = Node(name,self)\n",
    "        return self.child\n",
    "    def find_neighbors(self):\n",
    "        \"\"\"Start with neighbors on same level\"\"\"\n",
    "        myindx = self.global_index\n",
    "        n_name = []\n",
    "        n_name_upper = []\n",
    "        for i in range([-1,0,1]):\n",
    "            for j in range([-1,0,1]):\n",
    "                if ~((i==0)&(j==0)):\n",
    "                    nindx = (myindx[0], myindx[1]+i,myindx[2]+j)\n",
    "                    nindx_upper = (nindx[0]-1,nindx[1]//2,nindx[2]//2)\n",
    "                    n_name.append( self.name_from_index(nindx))\n",
    "                    n_name_upper.append(self.name_from_index( nindx_upper))\n",
    "        return n_name, n_name_upper\n",
    "    def check_refinement(self,neighbors,neighbors_upper,cuttof=):\n",
    "        res = False\n",
    "        for n,nu in zip(neighbors,neighbors_upper):\n",
    "            node = self.find(nu)\n",
    "            if node.leaf:\n",
    "                res |= (node.compare(self) or node.r_flag)\n",
    "            else:\n",
    "                res |= (node.child[int(n[-1])].compare(self) or node.r_flag)\n",
    "        return res\n",
    "#         for i in range(3):\n",
    "#             neighbor = self.parent.child[int(self.name[-1]^i)]\n",
    "        \n",
    "#         for i in range(3):\n",
    "#             up_ind = int(self.name[-2]^i)\n",
    "#             same_ind = int(self.name[-1]^i)\n",
    "#             neighbor_name = str(up_ind) + str(same_ind)\n",
    "#             n = find_name(neighbor_name)\n",
    "#             if n.leaf:\n",
    "#                 neighbor = n\n",
    "#             else:\n",
    "#                 neighbor = n.child[same_ind]\n",
    "                \n",
    "#         LR_neighbor = name[:-1] + str(int(self.name[-1])^1)\n",
    "#         UR_neighbor = name[:-1] + str(int(self.name[-1])^2)\n",
    "#         C_neighbor = str(int(self.name[-1]^3))\n",
    "\n",
    "    def find(self,name):\n",
    "    \"\"\"\n",
    "       Find the next step towards the desired \n",
    "       node with name name.\n",
    "    \"\"\" \n",
    "        len_myself = len(self.indx)\n",
    "        len_name = len(name)\n",
    "        if self.indx == name:\n",
    "            # Found it!\n",
    "            return self\n",
    "        if len_myself < len_name:\n",
    "            if self.indx == name[:len_myself]:\n",
    "                # It's below us in the tree\n",
    "                child = name[:len_myself+1][-1]\n",
    "                return self.down(int(child))\n",
    "        # It's not below us, so move up\n",
    "        return self.up()\n",
    "        \n",
    "    def up(self):\n",
    "        return self.parent\n",
    "    def down(self,i=0):\n",
    "        return self.child[i] \n",
    "    def walk(self):\n",
    "        if self.leaf:\n",
    "            return \n",
    "        for c in self.child:\n",
    "            return c.walk()\n",
    "    def save(self,f):\n",
    "        f.create_dataset('Data',data=self.data)\n",
    "        if not self.leaf:\n",
    "            for i,c in enumerate(self.child):\n",
    "                grp = f.create_group(str(i))\n",
    "                c.save(grp)\n",
    "        \n",
    "    def __repr__(self):\n",
    "        return self.indx\n",
    "    def __str__(self):\n",
    "        return self.indx"
   ]
  },
  {
   "cell_type": "code",
   "execution_count": 100,
   "metadata": {},
   "outputs": [],
   "source": [
    "root = [Node('0')]\n",
    "root.append(root[0].split())\n",
    "for i in range(7):\n",
    "    root.append(list(itertools.chain.from_iterable([x.split() for x in root[-1]])))\n",
    "    \n"
   ]
  },
  {
   "cell_type": "code",
   "execution_count": 154,
   "metadata": {},
   "outputs": [
    {
     "name": "stdout",
     "output_type": "stream",
     "text": [
      "1: 0 -> 1\n",
      "1: 1 -> 0\n",
      "1: 2 -> 3\n",
      "1: 3 -> 2\n",
      "2: 0 -> 2\n",
      "2: 1 -> 3\n",
      "2: 2 -> 0\n",
      "2: 3 -> 1\n",
      "3: 0 -> 3\n",
      "3: 1 -> 2\n",
      "3: 2 -> 1\n",
      "3: 3 -> 0\n"
     ]
    }
   ],
   "source": [
    "for j in range(1,4):\n",
    "    for i in range(4):\n",
    "        print('{:d}: {:d} -> {:d}'.format(j,i,i^j))"
   ]
  },
  {
   "cell_type": "code",
   "execution_count": 164,
   "metadata": {},
   "outputs": [
    {
     "name": "stdout",
     "output_type": "stream",
     "text": [
      "0 -> 0\n",
      "1 -> 0\n",
      "2 -> 1\n",
      "3 -> 1\n"
     ]
    }
   ],
   "source": [
    "for i in range(4):\n",
    "    print('{:d} -> {:d}'.format(i,i//2))"
   ]
  },
  {
   "cell_type": "code",
   "execution_count": 170,
   "metadata": {},
   "outputs": [
    {
     "name": "stdout",
     "output_type": "stream",
     "text": [
      "(4,16,16) -> (3,8,8)\n",
      "(4,16,17) -> (3,8,9)\n",
      "(4,17,16) -> (3,9,8)\n",
      "(4,17,17) -> (3,9,9)\n"
     ]
    }
   ],
   "source": [
    "for indx in [ (2**4,2**4),(2**4,2**4+1),(2**4+1,2**4),(2**4+1,2**4+1)]:\n",
    "    print('({:d},{:d},{:d}) -> ({:d},{:d},{:d})'.format(4,indx[0],indx[1],3,indx[0]//2 + indx[0]%2,indx[1]//2 + indx[1]%2))"
   ]
  },
  {
   "cell_type": "code",
   "execution_count": 181,
   "metadata": {},
   "outputs": [
    {
     "name": "stdout",
     "output_type": "stream",
     "text": [
      "(16, 16) [0, 0] 0\n",
      "(16, 17) [0, 1] 1\n",
      "(17, 16) [1, 0] 2\n",
      "(17, 17) [1, 1] 3\n"
     ]
    }
   ],
   "source": [
    "for indx in [ (2**4,2**4),(2**4,2**4+1),(2**4+1,2**4),(2**4+1,2**4+1)]:\n",
    "    print(indx,[x%2 for x in indx],2*(indx[0]%2)+indx[1]%2)"
   ]
  },
  {
   "cell_type": "code",
   "execution_count": 186,
   "metadata": {},
   "outputs": [
    {
     "name": "stdout",
     "output_type": "stream",
     "text": [
      "(5, 14, 7)\n",
      "(4, 7, 3)\n",
      "(3, 3, 1)\n",
      "(2, 1, 0)\n",
      "(1, 0, 0)\n",
      "(0, 0, 0)\n",
      "002331\n"
     ]
    }
   ],
   "source": [
    "k,i,j = (5,14,7)\n",
    "name = []\n",
    "icurr = i\n",
    "jcurr = j\n",
    "for curr_level in range(k+1)[::-1]:\n",
    "    print((curr_level,icurr,jcurr))\n",
    "    name.append(str(2*(icurr%2)+jcurr%2))\n",
    "    icurr = icurr // 2\n",
    "    jcurr = jcurr // 2\n",
    "print(''.join(name[::-1]))"
   ]
  },
  {
   "cell_type": "code",
   "execution_count": 195,
   "metadata": {},
   "outputs": [
    {
     "name": "stdout",
     "output_type": "stream",
     "text": [
      "6\n",
      "(0, 0, 0)\n",
      "(1, 0, 0)\n",
      "(2, 1, 0)\n",
      "(3, 3, 1)\n",
      "(4, 7, 3)\n",
      "(5, 14, 7)\n"
     ]
    }
   ],
   "source": [
    "icurr = 0\n",
    "jcurr = 0\n",
    "print(len('002331'))\n",
    "for k,c in enumerate('002331'):\n",
    "    icurr = 2*icurr + int(c)//2\n",
    "    jcurr = 2*jcurr + int(c)%2\n",
    "    print((k,icurr,jcurr))"
   ]
  },
  {
   "cell_type": "code",
   "execution_count": 40,
   "metadata": {},
   "outputs": [
    {
     "data": {
      "text/plain": [
       "[000,\n",
       " 001,\n",
       " 002,\n",
       " 003,\n",
       " 010,\n",
       " 011,\n",
       " 012,\n",
       " 013,\n",
       " 020,\n",
       " 021,\n",
       " 022,\n",
       " 023,\n",
       " 030,\n",
       " 031,\n",
       " 032,\n",
       " 033]"
      ]
     },
     "execution_count": 40,
     "metadata": {},
     "output_type": "execute_result"
    }
   ],
   "source": [
    "list(itertools.chain.from_iterable(l2))"
   ]
  },
  {
   "cell_type": "code",
   "execution_count": 196,
   "metadata": {},
   "outputs": [],
   "source": [
    "n1 = '002331'\n",
    "n0 = '00201'"
   ]
  },
  {
   "cell_type": "code",
   "execution_count": 219,
   "metadata": {},
   "outputs": [
    {
     "data": {
      "text/plain": [
       "['', '31']"
      ]
     },
     "execution_count": 219,
     "metadata": {},
     "output_type": "execute_result"
    }
   ],
   "source": [
    "n1.split('0023')"
   ]
  },
  {
   "cell_type": "code",
   "execution_count": 220,
   "metadata": {},
   "outputs": [
    {
     "data": {
      "text/plain": [
       "[('0', True), ('00', True), ('002', True), ('0020', False), ('00201', False)]"
      ]
     },
     "execution_count": 220,
     "metadata": {},
     "output_type": "execute_result"
    }
   ],
   "source": [
    "[(n0[:i],(n0[:i] in n1)) for i in range(1,len(n0)+1)]"
   ]
  },
  {
   "cell_type": "code",
   "execution_count": 217,
   "metadata": {},
   "outputs": [
    {
     "data": {
      "text/plain": [
       "('0020', '1')"
      ]
     },
     "execution_count": 217,
     "metadata": {},
     "output_type": "execute_result"
    }
   ],
   "source": [
    "n0[:-1],n0[-1]"
   ]
  },
  {
   "cell_type": "code",
   "execution_count": null,
   "metadata": {},
   "outputs": [],
   "source": [
    "\n",
    "   \n"
   ]
  }
 ],
 "metadata": {
  "kernelspec": {
   "display_name": "Python 3",
   "language": "python",
   "name": "python3"
  },
  "language_info": {
   "codemirror_mode": {
    "name": "ipython",
    "version": 3
   },
   "file_extension": ".py",
   "mimetype": "text/x-python",
   "name": "python",
   "nbconvert_exporter": "python",
   "pygments_lexer": "ipython3",
   "version": "3.5.2"
  }
 },
 "nbformat": 4,
 "nbformat_minor": 2
}
